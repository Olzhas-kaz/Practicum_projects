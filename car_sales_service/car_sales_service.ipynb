{
 "cells": [
  {
   "cell_type": "markdown",
   "metadata": {},
   "source": [
    "# Определение стоимости автомобилей"
   ]
  },
  {
   "cell_type": "markdown",
   "metadata": {},
   "source": [
    "Сервис по продаже автомобилей с пробегом «Не бит, не крашен» разрабатывает приложение для привлечения новых клиентов. В нём можно быстро узнать рыночную стоимость своего автомобиля. В вашем распоряжении исторические данные: технические характеристики, комплектации и цены автомобилей. Вам нужно построить модель для определения стоимости. \n",
    "\n",
    "**Задача, которую необходимо решить:**<br>\n",
    "Требуется построить модель, которая определяет рыночную стоимость автомобиля. \n",
    "\n",
    "\n",
    "**Заказчику важны:**<br>\n",
    "- качество предсказания;\n",
    "- скорость предсказания;\n",
    "- время обучения.\n",
    "\n",
    "**Цель проекта:**<br>\n",
    "- Подготовить данные для дальнейшего исследования;\n",
    "- Изучить представленные данные;\n",
    "- Выполнить предобработку данных;\n",
    "- Подготовить выборки для обучения моделей;\n",
    "- Обучить разные модели, одна из которых — LightGBM, как минимум одна — не бустинг. Для каждой модели использовать разные гиперпараметры;\n",
    "- Проанализировать время обучения, время предсказания;\n",
    "- Проверку моделей провести по метрике RMSE. Значение метрики RMSE должно быть меньше 2500;\n",
    "- Определить лучшую модель, опираясь на критерии заказчика.\n",
    "\n",
    "**Входные данные:**<br>\n",
    "Файл \"autos.csv\" - тренировочная выборка, которая содержит данные о технических характеристиках, комплектации и ценах других автомобилей.\n",
    "\n",
    "**Описание данных:**<br>\n",
    "*DateCrawled* — дата скачивания анкеты из базы<br>\n",
    "*VehicleType* — тип автомобильного кузова<br>\n",
    "*RegistrationYear* — год регистрации автомобиля<br>\n",
    "*Gearbox* — тип коробки передач<br>\n",
    "*Power* — мощность (л. с.)<br>\n",
    "*Model* — модель автомобиля<br>\n",
    "*Kilometer* — пробег (км)<br>\n",
    "*RegistrationMonth* — месяц регистрации автомобиля<br>\n",
    "*FuelType* — тип топлива<br>\n",
    "*Brand* — марка автомобиля<br>\n",
    "*Repaired* — была машина в ремонте или нет<br>\n",
    "*DateCreated* — дата создания анкеты<br>\n",
    "*NumberOfPictures* — количество фотографий автомобиля<br>\n",
    "*PostalCode* — почтовый индекс владельца анкеты (пользователя)<br>\n",
    "*LastSeen* — дата последней активности пользователя<br>\n",
    "\n",
    "**Целевой признак:**<br>\n",
    "*Price* — цена (евро)<br>\n",
    "\n",
    "**Методология и инструменты**<br><br>\n",
    "**Методы:**<br>\n",
    "- Сбор данных: таблица, полученная от заказчика: \"autos.csv\".\n",
    "- Очистка данных: данные будут очищены от дубликатов и пропущенных значений, типы данных приведены в соответствие.\n",
    "- Анализ данных: исследовательский анализ данных из таблицы.\n",
    "- Корреляционный анализ данных.\n",
    "- Обучение моделей: обучение моделей с разными гиперпараметрами.\n",
    "- Проверка качества работы модели на тестовой выборке.\n",
    "\n",
    "**Инструменты:**<br>\n",
    "- Python: Основной язык программирования для анализа данных.\n",
    "- Pandas: Библиотека для обработки и анализа данных.\n",
    "- Matplotlib и Seaborn: Библиотеки для визуализации данных.\n",
    "- Sklearn: Библиотека для машинного обучения.\n",
    "\n",
    "**Дополнительные методы и инструменты:**<br>\n",
    "**Jupyter Notebook:** Для интерактивного анализа данных, создания отчетов, обучение и проверка моделей."
   ]
  },
  {
   "cell_type": "code",
   "execution_count": null,
   "metadata": {},
   "outputs": [],
   "source": [
    "import re\n",
    "import warnings\n",
    "from warnings import simplefilter\n",
    "\n",
    "!pip install scikit-learn==1.1.0 -q\n",
    "!pip install matplotlib==3.5.1 -q\n",
    "!pip install tqdm\n",
    "!pip install phik\n",
    "!pip install shap\n",
    "!pip install lightgbm\n",
    "!pip install catboost"
   ]
  },
  {
   "cell_type": "code",
   "execution_count": null,
   "metadata": {},
   "outputs": [],
   "source": [
    "import pandas as pd\n",
    "import numpy as np\n",
    "import seaborn as sns\n",
    "import matplotlib.pyplot as plt\n",
    "import plotly.express as px\n",
    "import plotly.graph_objects as go\n",
    "\n",
    "import phik\n",
    "\n",
    "from pylab import rcParams\n",
    "from scipy import stats as st\n",
    "from plotly.subplots import make_subplots\n",
    "\n",
    "from phik.report import plot_correlation_matrix\n",
    "\n",
    "from sklearn.model_selection import train_test_split, cross_val_score, RandomizedSearchCV\n",
    "\n",
    "# загружаем класс pipeline\n",
    "from sklearn.pipeline import Pipeline\n",
    "\n",
    "# загружаем классы для подготовки данных\n",
    "from sklearn.preprocessing import OneHotEncoder, OrdinalEncoder, StandardScaler, MinMaxScaler, RobustScaler, LabelEncoder\n",
    "from sklearn.compose import ColumnTransformer\n",
    "\n",
    "# загружаем класс для работы с пропусками\n",
    "from sklearn.impute import SimpleImputer\n",
    "\n",
    "# загружаем функцию для работы с метриками\n",
    "from sklearn.metrics import make_scorer, roc_auc_score, mean_squared_error\n",
    "\n",
    "# загружаем необходимые модели\n",
    "from sklearn.preprocessing import OneHotEncoder, OrdinalEncoder, StandardScaler\n",
    "from sklearn.linear_model import LinearRegression\n",
    "from sklearn.ensemble import RandomForestRegressor\n",
    "from catboost import CatBoostRegressor\n",
    "from lightgbm import LGBMRegressor\n",
    "\n",
    "from time import time\n",
    "\n",
    "# настройки pandas для отображения данных\n",
    "pd.set_option('display.max_columns', None)\n",
    "pd.set_option('display.max_rows', None)\n",
    "pd.options.mode.chained_assignment = None\n",
    "\n",
    "# игнорирование предупреждения\n",
    "warnings.filterwarnings(\"ignore\", \"is_categorical_dtype\")\n",
    "warnings.filterwarnings(\"ignore\", \"use_inf_as_na\")\n",
    "simplefilter(action='ignore', category=FutureWarning)"
   ]
  },
  {
   "cell_type": "code",
   "execution_count": null,
   "metadata": {},
   "outputs": [],
   "source": [
    "# подготовка констант:\n",
    "RANDOM_STATE = 42\n",
    "TEST_SIZE = 0.25"
   ]
  },
  {
   "cell_type": "code",
   "execution_count": null,
   "metadata": {},
   "outputs": [],
   "source": [
    "# цвета для графиков:\n",
    "colors = (['#063751','#08527A',\n",
    "           '#0B6DA2','#0E89CB',\n",
    "           '#15A3EF','#3EB3F2',\n",
    "           '#66C3F4','#8FD3F7',\n",
    "           '#B7E3FA','#B7E3FA',\n",
    "           '#8FD3F7','#66C3F4',\n",
    "           '#3EB3F2','#15A3EF',\n",
    "           '#0E89CB','#0B6DA2',\n",
    "           '#08527A','#063751'])"
   ]
  },
  {
   "cell_type": "code",
   "execution_count": null,
   "metadata": {},
   "outputs": [],
   "source": [
    "# функция data_info отображает основную информацию об имеющихся данных из указанного файла\n",
    "def data_info(data):\n",
    "    try:\n",
    "        display('Общая информация')\n",
    "        data.info()\n",
    "        display('Первые пять строк данных:')\n",
    "        display(data.head())\n",
    "        display('Описание данных:')\n",
    "        display(data.describe())\n",
    "        display('Количество пропусков')\n",
    "        display(data.isna().sum())\n",
    "        display('Кол-во явных дубликатов:')\n",
    "        display(data.duplicated().sum())\n",
    "    except:\n",
    "        return 'Проверьте параметры'\n",
    "    \n",
    "# функция для перевода названия столбцов из CamelCase в snake_case\n",
    "def to_snake_case(columns):\n",
    "    new_cols = []\n",
    "    for name in columns:\n",
    "        name = re.sub('(.)([A-Z][a-z]+)', r'\\1_\\2', name)\n",
    "        name = re.sub('__([A-Z])', r'_\\1', name)\n",
    "        name = re.sub('([a-z0-9])([A-Z])', r'\\1_\\2', name).lower()\n",
    "        new_cols.append(name)\n",
    "    return new_cols    \n",
    "    \n",
    "# функция диаграммы размаха\n",
    "def span_diagramm(data, param1, span_name):\n",
    "    try:\n",
    "        fig = px.box(data, \n",
    "             x=data[param1], \n",
    "             color_discrete_sequence=[colors[2]],\n",
    "             title=span_name)\n",
    "        fig.update_layout(plot_bgcolor='AliceBlue',\n",
    "                  margin={\"r\": 0, \"t\": 50, \"l\": 0, \"b\": 50})\n",
    "        fig.show()       \n",
    "    except:\n",
    "        return 'Проверьте параметры'"
   ]
  },
  {
   "cell_type": "markdown",
   "metadata": {},
   "source": [
    "## Загрузка данных"
   ]
  },
  {
   "cell_type": "markdown",
   "metadata": {},
   "source": [
    "### Открытие файла с данными"
   ]
  },
  {
   "cell_type": "code",
   "execution_count": null,
   "metadata": {},
   "outputs": [],
   "source": [
    "# загрузка данных из csv-файла \"autos.csv\" в датафрейм df_autos\n",
    "try:\n",
    "    df_autos = pd.read_csv('autos.csv', parse_dates=['DateCrawled', 'DateCreated', 'LastSeen'])\n",
    "except:\n",
    "    df_autos = pd.read_csv('https://code.s3.yandex.net/datasets/autos.csv', parse_dates=['DateCrawled', 'DateCreated', 'LastSeen'])"
   ]
  },
  {
   "cell_type": "markdown",
   "metadata": {},
   "source": [
    "### Изучение общей информации"
   ]
  },
  {
   "cell_type": "code",
   "execution_count": null,
   "metadata": {},
   "outputs": [],
   "source": [
    "# общая информация для df_autos\n",
    "data_info(df_autos)"
   ]
  },
  {
   "cell_type": "markdown",
   "metadata": {},
   "source": [
    "В таблице представлены данные о технических характеристиках, комплектации и ценах автомобилей.\n",
    "\n",
    "Записей об автомобилях в таблице 354 369, они представляют из себя:\n",
    "\n",
    "- дата скачивания анкеты из базы\n",
    "- цена (евро)\n",
    "- тип автомобильного кузова\n",
    "- год регистрации автомобиля\n",
    "- тип коробки передач\n",
    "- мощность (л. с.)\n",
    "- модель автомобиля\n",
    "- пробег (км)\n",
    "- месяц регистрации автомобиля\n",
    "- тип топлива\n",
    "- марка автомобиля\n",
    "- была машина в ремонте или нет\n",
    "- дата создания анкеты\n",
    "- количество фотографий автомобиля\n",
    "- почтовый индекс владельца анкеты (пользователя)\n",
    "- дата последней активности пользователя\n",
    "\n",
    "Количество явных дубликатов 4.<br><br>\n",
    "\n",
    "При первичном ознакомлении с данными в таблице обнаружены пропуски: \n",
    "- VehicleType 37490, \n",
    "- Gearbox 19833, \n",
    "- Model 19705, \n",
    "- FuelType 32895, \n",
    "- Repaired 71154.<br><br>\n",
    "\n",
    "Предварительно обнаружены аномальные значения:\n",
    "- Price - минимальная цена 0. Такого быть не должно.\n",
    "- RegistrationYear - машина явно не может быть зарегистрирована в 9999 году, как и в 1000\n",
    "- Power - 20 000 лошадиных сил. Слишком много.\n",
    "- NumberOfPictures - предполагаем, картинок не было в данных, поскольку наблюдаем только нули, либо это техническая неполадка.<br><br>\n",
    "Типы данных соответствуют требуемым."
   ]
  },
  {
   "cell_type": "markdown",
   "metadata": {},
   "source": [
    "##  Предобработка данных"
   ]
  },
  {
   "cell_type": "code",
   "execution_count": null,
   "metadata": {
    "scrolled": true
   },
   "outputs": [],
   "source": [
    "# перевод названий столбцов в snake_case\n",
    "df_autos.columns = to_snake_case(df_autos.columns)\n",
    "df_autos.head()"
   ]
  },
  {
   "cell_type": "code",
   "execution_count": null,
   "metadata": {},
   "outputs": [],
   "source": [
    "# пайплайн для замены пропущенных значений\n",
    "#imputer_pipe = Pipeline(\n",
    "#    [\n",
    "#        (\n",
    "#            'SimpleImputer',\n",
    "#            SimpleImputer(missing_values=np.nan, strategy='most_frequent')\n",
    "#        ),\n",
    "#    ]\n",
    "#)\n",
    "\n",
    "# обработка пропущенных значений при помощи пайплайна\n",
    "#nan_cols = ['vehicle_type', 'gearbox', 'model', 'fuel_type', 'repaired']\n",
    "#df_autos[nan_cols] = imputer_pipe.fit_transform(df_autos[nan_cols])"
   ]
  },
  {
   "cell_type": "code",
   "execution_count": null,
   "metadata": {
    "scrolled": true
   },
   "outputs": [],
   "source": [
    "# проверка\n",
    "#print(f'Количество пропущенных значений после замены: \\n {df_autos.isna().sum()}')\n",
    "#print('')\n",
    "#print(f'Проверка исправности данных: {df_autos.info()}')"
   ]
  },
  {
   "cell_type": "code",
   "execution_count": null,
   "metadata": {},
   "outputs": [],
   "source": [
    "# удаление дубликатов \n",
    "print(f'Кол-во явных дубликатов до удаления: {df_autos.duplicated().sum()}')\n",
    "df_autos.drop_duplicates(inplace=True)\n",
    "print(f'Кол-во явных дубликатов после удаления: {df_autos.duplicated().sum()}')"
   ]
  },
  {
   "cell_type": "markdown",
   "metadata": {},
   "source": [
    "##  Исследовательский анализ данных"
   ]
  },
  {
   "cell_type": "code",
   "execution_count": null,
   "metadata": {},
   "outputs": [],
   "source": [
    "df_autos['price'].describe()"
   ]
  },
  {
   "cell_type": "code",
   "execution_count": null,
   "metadata": {},
   "outputs": [],
   "source": [
    "span_diagramm(df_autos, 'price', 'Диаграмма размаха по цене')"
   ]
  },
  {
   "cell_type": "code",
   "execution_count": null,
   "metadata": {},
   "outputs": [],
   "source": [
    "# гистограмма по price\n",
    "fig = plt.figure(figsize=(8, 6))\n",
    "ax = fig.add_subplot()\n",
    " \n",
    "ax.hist(df_autos['price'], 30)\n",
    "ax.grid()\n",
    "\n",
    "plt.title('Распределение признака price')\n",
    "plt.xlabel('Цена')\n",
    "plt.ylabel('Автомобили')\n",
    "plt.show()"
   ]
  },
  {
   "cell_type": "code",
   "execution_count": null,
   "metadata": {},
   "outputs": [],
   "source": [
    "# автомобили стоимостью более 14 400 евро\n",
    "len(df_autos.query('price > 14400'))"
   ]
  },
  {
   "cell_type": "code",
   "execution_count": null,
   "metadata": {},
   "outputs": [],
   "source": [
    "print(f\"Доля автомобилей стоимостью более 14 400 евро: {len(df_autos.query('price > 14400')) / len(df_autos):%} \")"
   ]
  },
  {
   "cell_type": "code",
   "execution_count": null,
   "metadata": {},
   "outputs": [],
   "source": [
    "len(df_autos.query('price < 1000'))"
   ]
  },
  {
   "cell_type": "code",
   "execution_count": null,
   "metadata": {},
   "outputs": [],
   "source": [
    "# удаление автомобилей стоимостью ниже 1000 евро\n",
    "print(f'Размерность датасета ДО удаления автомобилей стоимостью до 1000 евро: {df_autos.shape}')\n",
    "df_autos = df_autos.drop(df_autos[df_autos['price'] < 1000].index)\n",
    "print(f'Размерность датасета ПОСЛЕ удаления автомобилей стоимостью до 1000 евро: {df_autos.shape}')"
   ]
  },
  {
   "cell_type": "code",
   "execution_count": null,
   "metadata": {},
   "outputs": [],
   "source": [
    "span_diagramm(df_autos, 'price', 'Диаграмма размаха по цене')"
   ]
  },
  {
   "cell_type": "code",
   "execution_count": null,
   "metadata": {},
   "outputs": [],
   "source": [
    "# гистограмма по price\n",
    "fig = plt.figure(figsize=(8, 6))\n",
    "ax = fig.add_subplot()\n",
    " \n",
    "ax.hist(df_autos['price'], 30)\n",
    "ax.grid()\n",
    "\n",
    "plt.title('Распределение признака price')\n",
    "plt.xlabel('Цена')\n",
    "plt.ylabel('Автомобили')\n",
    "plt.show()"
   ]
  },
  {
   "cell_type": "markdown",
   "metadata": {},
   "source": [
    "У таргета наблюдаем распределение Пуассона.<br>\n",
    "Крупных выбросов не так много: они составляют 5.35% от всех данных. Учтем это при обучении моделей.<br>\n",
    "Избавились от автомобилей стоимостью ниеж 1000 евро в записях - удалено 83 326 строк."
   ]
  },
  {
   "cell_type": "code",
   "execution_count": null,
   "metadata": {},
   "outputs": [],
   "source": [
    "# частота встречаемости типов автомобильного кузова\n",
    "df_autos.groupby('vehicle_type')['date_crawled'].count()"
   ]
  },
  {
   "cell_type": "code",
   "execution_count": null,
   "metadata": {},
   "outputs": [],
   "source": [
    "fig = px.pie((df_autos\n",
    "             .groupby('vehicle_type')['date_crawled']\n",
    "             .count()\n",
    "             .reset_index()\n",
    "             .rename(columns={\n",
    "                 'vehicle_type': 'Тип кузова', \n",
    "                 'date_crawled': 'Автомобили'}))\n",
    "             .sort_values(by='Автомобили', ascending=False),\n",
    "             \n",
    "             values='Автомобили', \n",
    "             names='Тип кузова', \n",
    "             color_discrete_sequence=[colors[0], colors[7]],\n",
    "             title='Распределение долей автомобилей по типу кузова', \n",
    "             height=500)\n",
    "\n",
    "fig.update_traces(textposition='inside', textinfo='percent', hovertemplate='')\n",
    "fig.update_layout(showlegend=True, legend_title='Тип кузова',\n",
    "                  plot_bgcolor='AliceBlue',\n",
    "                  margin={\"r\": 0, \"t\": 50, \"l\": 0, \"b\": 50})\n",
    "\n",
    "fig.show()"
   ]
  },
  {
   "cell_type": "markdown",
   "metadata": {},
   "source": [
    "Распределение долей автомобилей по типу кузова: \n",
    "- sedan - 29.6 %;\n",
    "- wagon - 21.2 %;\n",
    "- small - 20.5 %;\n",
    "- bus - 10.4 %;\n",
    "- convertible - 7.47 %;\n",
    "- coupe - 5.35 %;\n",
    "- suv - 4.57 %;\n",
    "- other - 0.94 %."
   ]
  },
  {
   "cell_type": "code",
   "execution_count": null,
   "metadata": {},
   "outputs": [],
   "source": [
    "df_autos['registration_year'].describe()"
   ]
  },
  {
   "cell_type": "code",
   "execution_count": null,
   "metadata": {},
   "outputs": [],
   "source": [
    "span_diagramm(df_autos, 'registration_year', 'Диаграмма размаха по году регистрации автомобиля')"
   ]
  },
  {
   "cell_type": "code",
   "execution_count": null,
   "metadata": {},
   "outputs": [],
   "source": [
    "# гистограмма по registration_year\n",
    "fig = plt.figure(figsize=(8, 6))\n",
    "ax = fig.add_subplot()\n",
    " \n",
    "ax.hist(df_autos['registration_year'], 30)\n",
    "ax.grid()\n",
    "\n",
    "plt.title('Распределение признака registration_year')\n",
    "plt.xlabel('Год регистрации')\n",
    "plt.ylabel('Автомобили')\n",
    "plt.show()"
   ]
  },
  {
   "cell_type": "markdown",
   "metadata": {},
   "source": [
    "Верхняя граница допустимых значений для года регистрации можно считать 2016, так как это год создания анкеты."
   ]
  },
  {
   "cell_type": "code",
   "execution_count": null,
   "metadata": {},
   "outputs": [],
   "source": [
    "print(f\"Доля авто с годом регистрации больше 2016: \\\n",
    "    {len(df_autos.query('registration_year > 2016')) / len(df_autos):%} \")\n",
    "\n",
    "print(f\"Доля авто с годом регистрации раньше 1900: \\\n",
    "    {len(df_autos.query('registration_year < 1900')) / len(df_autos):%} \")"
   ]
  },
  {
   "cell_type": "markdown",
   "metadata": {},
   "source": [
    "Год регистрации автомобиля физически не может быть больше года создания анкеты (2016) 3.92% или меньше 1900 0.006%. \n",
    "Данные придется удалить, так как они довольно сильно отражаются на распределении, однако не занимают существенной доли среди всех записей. \n",
    "Автозаполнить год регистрации автомобиля также не является грамотным решением на самый популярный год."
   ]
  },
  {
   "cell_type": "code",
   "execution_count": null,
   "metadata": {},
   "outputs": [],
   "source": [
    "# удаление записей с годом регистрации авто позднее 2016 и ранее 1900\n",
    "print(f'Размер датасета ДО удаления строк с аномальными значениями: {df_autos.shape}')\n",
    "print(\n",
    "    f'Удалено {len(df_autos.query(\"registration_year > 2016\")) + len(df_autos.query(\"registration_year < 1900\"))} строк')\n",
    "\n",
    "df_autos = df_autos.drop(df_autos[df_autos['registration_year'] < 1900].index)\n",
    "df_autos = df_autos.drop(df_autos[df_autos['registration_year'] > 2016].index)\n",
    "\n",
    "print(f'Размер датасета ПОСЛЕ удаления строк с аномальными значениями: {df_autos.shape}')"
   ]
  },
  {
   "cell_type": "code",
   "execution_count": null,
   "metadata": {},
   "outputs": [],
   "source": [
    "span_diagramm(df_autos, 'registration_year', 'Диаграмма размаха по году регистрации автомобиля')"
   ]
  },
  {
   "cell_type": "code",
   "execution_count": null,
   "metadata": {},
   "outputs": [],
   "source": [
    "# гистограмма по registration_year\n",
    "fig = plt.figure(figsize=(8, 6))\n",
    "ax = fig.add_subplot()\n",
    " \n",
    "ax.hist(df_autos['registration_year'], 30)\n",
    "ax.grid()\n",
    "\n",
    "plt.title('Распределение признака registration_year')\n",
    "plt.xlabel('Год регистрации')\n",
    "plt.ylabel('Автомобили')\n",
    "plt.show()"
   ]
  },
  {
   "cell_type": "markdown",
   "metadata": {},
   "source": [
    "Распределение признака registration_year близко к нормальному."
   ]
  },
  {
   "cell_type": "code",
   "execution_count": null,
   "metadata": {},
   "outputs": [],
   "source": [
    "# частота встречаемости типов коробки передач\n",
    "df_autos.groupby('gearbox')['date_crawled'].count()"
   ]
  },
  {
   "cell_type": "code",
   "execution_count": null,
   "metadata": {},
   "outputs": [],
   "source": [
    "fig = px.pie((df_autos\n",
    "             .groupby('gearbox')['date_crawled']\n",
    "             .count()\n",
    "             .reset_index()\n",
    "             .rename(columns={\n",
    "                 'gearbox': 'Тип коробки передач', \n",
    "                 'date_crawled': 'Автомобили'}))\n",
    "             .sort_values(by='Автомобили', ascending=False),\n",
    "             \n",
    "             values='Автомобили', \n",
    "             names='Тип коробки передач', \n",
    "             color_discrete_sequence=[colors[0], colors[7]],\n",
    "             title='Распределение долей автомобилей по типу коробки передач', \n",
    "             height=500)\n",
    "\n",
    "fig.update_traces(textposition='inside', textinfo='percent', hovertemplate='')\n",
    "fig.update_layout(showlegend=True, legend_title='Тип коробки передач',\n",
    "                  plot_bgcolor='AliceBlue',\n",
    "                  margin={\"r\": 0, \"t\": 50, \"l\": 0, \"b\": 50})\n",
    "\n",
    "fig.show()"
   ]
  },
  {
   "cell_type": "markdown",
   "metadata": {},
   "source": [
    "Распределение долей автомобилей по типу коробки передач: \n",
    "- manual - 77.1%; \n",
    "- auto - 22.9%."
   ]
  },
  {
   "cell_type": "code",
   "execution_count": null,
   "metadata": {},
   "outputs": [],
   "source": [
    "# частота встречаемости моделей автомобиля\n",
    "df_autos['model'].value_counts()"
   ]
  },
  {
   "cell_type": "markdown",
   "metadata": {},
   "source": [
    "Среди моделей автомобилей лидирует **golf.** "
   ]
  },
  {
   "cell_type": "code",
   "execution_count": null,
   "metadata": {},
   "outputs": [],
   "source": [
    "df_autos['power'].describe()"
   ]
  },
  {
   "cell_type": "code",
   "execution_count": null,
   "metadata": {},
   "outputs": [],
   "source": [
    "span_diagramm(df_autos, 'power', 'Диаграмма размаха по мощности')"
   ]
  },
  {
   "cell_type": "code",
   "execution_count": null,
   "metadata": {},
   "outputs": [],
   "source": [
    "# гистограмма по power\n",
    "fig = plt.figure(figsize=(8, 6))\n",
    "ax = fig.add_subplot()\n",
    " \n",
    "ax.hist(df_autos['power'], 30)\n",
    "ax.grid()\n",
    "\n",
    "plt.title('Распределение признака power')\n",
    "plt.xlabel('Мощность')\n",
    "plt.ylabel('Автомобили')\n",
    "plt.show()"
   ]
  },
  {
   "cell_type": "code",
   "execution_count": null,
   "metadata": {},
   "outputs": [],
   "source": [
    "print(f\"Доля авто с количеством лошадиных сил == 0: \\\n",
    "    {len(df_autos.query('power == 0')) / len(df_autos):%} \")\n",
    "\n",
    "print(f\"Доля авто с количеством лошадиных сил более 1000: \\\n",
    "    {len(df_autos.query('power > 1000')) / len(df_autos):%} \")"
   ]
  },
  {
   "cell_type": "markdown",
   "metadata": {},
   "source": [
    "Мощность 0 лошадиных сил невозможна.<br>\n",
    "Подобных записей в данных весьма много (7.15%): предлагаю заменить нули на медианное значение количества лошадиных сил среди подобных брендов и моделей автомобиля.<br>\n",
    "В том числе являются странными записи, в которых в автомобилях более 1000 л.с. Таких записей меньше - 0.07%, однако предлагаю заменить подобные значения по тому же принципу."
   ]
  },
  {
   "cell_type": "code",
   "execution_count": null,
   "metadata": {},
   "outputs": [],
   "source": [
    "# замена нулей и нужных значений в столбце 'power' на NaN, чтобы они не учитывались при вычислении медианы\n",
    "df_autos['power'].replace(0, pd.NA, inplace=True)\n",
    "df_autos.loc[(df_autos['power'] > 1000), 'power'] = pd.NA\n",
    "\n",
    "df_autos['power'] = pd.to_numeric(df_autos['power'], errors='coerce')\n",
    "\n",
    "# медиана для каждой уникальной пары 'brand' и 'model'\n",
    "median_power = df_autos.groupby(['brand', 'model'])['power'].median().reset_index()\n",
    "\n",
    "# объединение данных по медианам с основным датасетом по 'brand' и 'model'\n",
    "df_autos = pd.merge(df_autos, median_power, on=['brand', 'model'], how='left', suffixes=('', '_median'))\n",
    "\n",
    "# проверка объединения\n",
    "print('Датасет ДО изменения, с дополнительным столбцом: \\n')\n",
    "display(df_autos.head())\n",
    "display(df_autos.shape)\n",
    "display(df_autos.info())\n",
    "\n",
    "# замена значений 'power' на медианные значения, если исходное значение было 0 или больше 1000\n",
    "df_autos['power'] = df_autos.apply(lambda row: row['power_median'] if pd.isna(row['power']) else row['power'],\n",
    "                                       axis=1)\n",
    "\n",
    "# удаление вспомогательной колонки с медианными значениями\n",
    "df_autos.drop(columns=['power_median'], inplace=True)\n",
    "\n",
    "print(' ')\n",
    "print('Датасет ПОСЛЕ изменения: \\n')\n",
    "display(df_autos.head())\n",
    "display(df_autos.shape)\n",
    "display(df_autos.info())"
   ]
  },
  {
   "cell_type": "code",
   "execution_count": null,
   "metadata": {},
   "outputs": [],
   "source": [
    "print(f'Проверка на пропущенные значения: {df_autos.isna().sum()}')"
   ]
  },
  {
   "cell_type": "code",
   "execution_count": null,
   "metadata": {},
   "outputs": [],
   "source": [
    "df_autos[df_autos['power'].isna()]"
   ]
  },
  {
   "cell_type": "code",
   "execution_count": null,
   "metadata": {},
   "outputs": [],
   "source": [
    "# замена пропущенных значений на медианные по столбцу\n",
    "all_median = df_autos['power'].median()\n",
    "df_autos['power'].fillna(all_median, inplace=True)\n",
    "df_autos['power'].isna().sum()"
   ]
  },
  {
   "cell_type": "code",
   "execution_count": null,
   "metadata": {},
   "outputs": [],
   "source": [
    "df_autos['kilometer'].describe()"
   ]
  },
  {
   "cell_type": "code",
   "execution_count": null,
   "metadata": {},
   "outputs": [],
   "source": [
    "span_diagramm(df_autos, 'kilometer', 'Диаграмма размаха по пробегу')"
   ]
  },
  {
   "cell_type": "code",
   "execution_count": null,
   "metadata": {},
   "outputs": [],
   "source": [
    "# гистограмма по kilometer\n",
    "fig = plt.figure(figsize=(8, 6))\n",
    "ax = fig.add_subplot()\n",
    " \n",
    "ax.hist(df_autos['kilometer'], 12)\n",
    "ax.grid()\n",
    "\n",
    "plt.title('Распределение признака kilometer')\n",
    "plt.xlabel('Пробег')\n",
    "plt.ylabel('Автомобили')\n",
    "plt.show()"
   ]
  },
  {
   "cell_type": "code",
   "execution_count": null,
   "metadata": {},
   "outputs": [],
   "source": [
    "print(f\"Доля авто  с пробегом менее 30 000 км: \\\n",
    "    {len(df_autos.query('kilometer < 30000')) / len(df_autos):%} \")"
   ]
  },
  {
   "cell_type": "markdown",
   "metadata": {},
   "source": [
    "На графике наблюдаются выбросы: это записи авто, имеющих пробег менее 30 000 км. Такие записи составляют ~ 2.6% от общего числа данных, в связи с чем предлагаю оставить данные. Показатели пробега менее 30 000 км не будем считать аномальными, так как это стандартный диапазон пробега - это нормальное явление."
   ]
  },
  {
   "cell_type": "code",
   "execution_count": null,
   "metadata": {},
   "outputs": [],
   "source": [
    "df_autos['registration_month'].describe()"
   ]
  },
  {
   "cell_type": "code",
   "execution_count": null,
   "metadata": {},
   "outputs": [],
   "source": [
    "span_diagramm(df_autos, 'registration_month', 'Диаграмма размаха по месяцам регистрации автомобиля')"
   ]
  },
  {
   "cell_type": "code",
   "execution_count": null,
   "metadata": {},
   "outputs": [],
   "source": [
    "# гистограмма по registration_month\n",
    "fig = plt.figure(figsize=(8, 6))\n",
    "ax = fig.add_subplot()\n",
    " \n",
    "ax.hist(df_autos['registration_month'], 30)\n",
    "ax.grid()\n",
    "\n",
    "plt.title('Распределение признака registration_month')\n",
    "plt.xlabel('Месяц регистрации')\n",
    "plt.ylabel('Автомобили')\n",
    "plt.show()"
   ]
  },
  {
   "cell_type": "markdown",
   "metadata": {},
   "source": [
    "Распределение данных по месяцу регистрации автомобилей похоже на среднестатистические данные и распределены практически равномерно"
   ]
  },
  {
   "cell_type": "code",
   "execution_count": null,
   "metadata": {},
   "outputs": [],
   "source": [
    "# частота встречаемости типов топлива\n",
    "df_autos.groupby('fuel_type')['date_crawled'].count()"
   ]
  },
  {
   "cell_type": "code",
   "execution_count": null,
   "metadata": {},
   "outputs": [],
   "source": [
    "fig = px.pie((df_autos\n",
    "             .groupby('fuel_type')['date_crawled']\n",
    "             .count()\n",
    "             .reset_index()\n",
    "             .rename(columns={\n",
    "                 'fuel_type': 'Тип топлива', \n",
    "                 'date_crawled': 'Автомобили'}))\n",
    "             .sort_values(by='Автомобили', ascending=False),\n",
    "             \n",
    "             values='Автомобили', \n",
    "             names='Тип топлива', \n",
    "             color_discrete_sequence=[colors[0], colors[7]],\n",
    "             title='Распределение долей автомобилей по типу топлива', \n",
    "             height=500)\n",
    "\n",
    "fig.update_traces(textposition='inside', textinfo='percent', hovertemplate='')\n",
    "fig.update_layout(showlegend=True, legend_title='Тип топлива',\n",
    "                  plot_bgcolor='AliceBlue',\n",
    "                  margin={\"r\": 0, \"t\": 50, \"l\": 0, \"b\": 50})\n",
    "\n",
    "fig.show()"
   ]
  },
  {
   "cell_type": "markdown",
   "metadata": {},
   "source": [
    "Распределение долей автомобилей по типу топлива: \n",
    "- petrol - 61.5%; \n",
    "- gasoline - 36.4%; \n",
    "- lpg - 1.77%; \n",
    "- cng - 0.197%; \n",
    "- hybrid - 0.08%; \n",
    "- other - 0.036%;\n",
    "- electric - 0.03%."
   ]
  },
  {
   "cell_type": "code",
   "execution_count": null,
   "metadata": {},
   "outputs": [],
   "source": [
    "# частота встречаемости марок автомобилей\n",
    "df_autos['brand'].value_counts()"
   ]
  },
  {
   "cell_type": "markdown",
   "metadata": {},
   "source": [
    "Среди марок автомобилей лидирует **volkswagen.** <br>\n",
    "В пятерку лидеров также вошли марки: **opel, bmw, mercedes_benz, audi.**"
   ]
  },
  {
   "cell_type": "code",
   "execution_count": null,
   "metadata": {},
   "outputs": [],
   "source": [
    "# частота встречаемости ремонтируемости автомобиля\n",
    "df_autos.groupby('repaired')['date_crawled'].count()"
   ]
  },
  {
   "cell_type": "code",
   "execution_count": null,
   "metadata": {},
   "outputs": [],
   "source": [
    "fig = px.pie((df_autos\n",
    "             .groupby('repaired')['date_crawled']\n",
    "             .count()\n",
    "             .reset_index()\n",
    "             .rename(columns={\n",
    "                 'repaired': 'Ремонтировался ли автомобиль', \n",
    "                 'date_crawled': 'Автомобили'}))\n",
    "             .sort_values(by='Автомобили', ascending=False),\n",
    "             \n",
    "             values='Автомобили', \n",
    "             names='Ремонтировался ли автомобиль', \n",
    "             color_discrete_sequence=[colors[0], colors[7]],\n",
    "             title='Распределение долей автомобилей по признаку ремонтировался ли автомобиль', \n",
    "             height=500)\n",
    "\n",
    "fig.update_traces(textposition='inside', textinfo='percent', hovertemplate='')\n",
    "fig.update_layout(showlegend=True, legend_title='Ремонтировался ли автомобиль',\n",
    "                  plot_bgcolor='AliceBlue',\n",
    "                  margin={\"r\": 0, \"t\": 50, \"l\": 0, \"b\": 50})\n",
    "\n",
    "fig.show()"
   ]
  },
  {
   "cell_type": "markdown",
   "metadata": {},
   "source": [
    "Распределение долей автомобилей по признаку ремонтировался ли автомобиль:\n",
    "- no - 92.6%;\n",
    "- yes - 7.37%."
   ]
  },
  {
   "cell_type": "code",
   "execution_count": null,
   "metadata": {},
   "outputs": [],
   "source": [
    "df_autos['number_of_pictures'].describe()"
   ]
  },
  {
   "cell_type": "code",
   "execution_count": null,
   "metadata": {},
   "outputs": [],
   "source": [
    "span_diagramm(df_autos, 'number_of_pictures', 'Диаграмма размаха по количеству фотографий автомобиля')"
   ]
  },
  {
   "cell_type": "code",
   "execution_count": null,
   "metadata": {},
   "outputs": [],
   "source": [
    "# гистограмма по number_of_pictures\n",
    "fig = plt.figure(figsize=(8, 6))\n",
    "ax = fig.add_subplot()\n",
    " \n",
    "ax.hist(df_autos['number_of_pictures'], 30)\n",
    "ax.grid()\n",
    "\n",
    "plt.title('Распределение признака number_of_pictures')\n",
    "plt.xlabel('Количество фотографий')\n",
    "plt.ylabel('Автомобили')\n",
    "plt.show()"
   ]
  },
  {
   "cell_type": "markdown",
   "metadata": {},
   "source": [
    "Как мы выяснили еще на этапе загрузки данных - картинки не прогрузились ни для одной записи. Либо это крупный технический сбой, либо картинок в целом нет у отобранных объявлений."
   ]
  },
  {
   "cell_type": "markdown",
   "metadata": {},
   "source": [
    "**Вывод:**<br>\n",
    "- Избавились от автомобилей стоимостью ниже 1000 евро в записях - удалено 83 326 строк;\n",
    "- Убрали 10 643 строк из данных, связанных с годом регистрации автомобиля: машины, зарегистрированные до 1900 и после 2016;\n",
    "- Обнаружили строки с мощностью автомобиля 0 лошадиных сил. Подобных записей достаточно много. Заменили нули на медианное значение количества лошадиных сил среди подобных брендов и моделей автомобиля.\n",
    "- Обнаружили странные записи, в которых в автомобилях более 1000 лошадиных сил. Скорее всего это техническая ошибка сервиса. Заменили отобранные значения по тому же принципу, что и с 0 лошадиными силами.\n",
    "- Среди типов автомобильных кузовов лидирует \"седан\" - 29.6%;\n",
    "- Лидирующий тип коробки передач ручной - 77.1%;\n",
    "- Среди моделей автомобилей лидирует golf;\n",
    "- Среди брендов лидер volkswagen;\n",
    "- Лидирует тип топлива бензин - 61.5%;\n",
    "- Большинство машин 92.6% не было в ремонте."
   ]
  },
  {
   "cell_type": "markdown",
   "metadata": {},
   "source": [
    "##  Корреляционный анализ"
   ]
  },
  {
   "cell_type": "code",
   "execution_count": null,
   "metadata": {},
   "outputs": [],
   "source": [
    "# корреляционный анализ\n",
    "data_autos = df_autos.copy()\n",
    "data_autos = data_autos.drop(['date_crawled', 'date_created', 'last_seen', 'number_of_pictures'], axis=1)"
   ]
  },
  {
   "cell_type": "code",
   "execution_count": null,
   "metadata": {},
   "outputs": [],
   "source": [
    "phik_matrix_autos = data_autos.phik_matrix(interval_cols=['price', 'power', 'kilometer', 'postal_code'])"
   ]
  },
  {
   "cell_type": "code",
   "execution_count": null,
   "metadata": {},
   "outputs": [],
   "source": [
    "# визуализация корреляционной матрицы \n",
    "mask = np.triu(np.ones_like(phik_matrix_autos, dtype=bool))\n",
    "\n",
    "plt.figure(figsize=(12, 8))\n",
    "sns.heatmap(phik_matrix_autos, annot=True, fmt=\".2f\", cmap=\"coolwarm\", mask=mask)\n",
    "plt.title(\"Корреляционная матрица\")\n",
    "plt.show()"
   ]
  },
  {
   "cell_type": "markdown",
   "metadata": {},
   "source": [
    "Корреляция между Ценой и другими признаками:\n",
    "\n",
    "- год регистрации: корреляция умеренно-положительная. Коэффициент взаимосвязи: 0.64. Это логично, так как, чем свежее автомобиль, тем он более востребован, а значит и дороже;\n",
    "- модель: закономерно, корреляция умеренно-положительная. Одни модели ценятся больше у автовладельцев, другие меньше. Коэффициент взаимосвязи: 0.54;\n",
    "\n",
    "Нецелевые признаки:\n",
    "- умеренная линейная зависимость марки машины с типом кузова, что тоже довольно логично, поскольку наполнение авто напрямую зависит от бренда.\n",
    "- высокий коэффициент корреляции между model и vehicle_type - 0.92. Тоже весьма понятно, что разные модели имеют место на существование при разных типажах кузова. \n",
    "- сильнейшая связь модели от бренда, что вполне логично, модель без бренда не может существовать. Коэффициент корреляции 1. \n",
    "- почтовый индекс владельца анкеты: очень слабо коррелирует с другими признаками, в связи с чем можем от него смело избавиться."
   ]
  },
  {
   "cell_type": "markdown",
   "metadata": {},
   "source": [
    "## Подготовка данных для обучения"
   ]
  },
  {
   "cell_type": "markdown",
   "metadata": {},
   "source": [
    "Избавимся от следующих столбцов, которые не принесут пользы для обучения:<br>\n",
    "- number_of_pictures - в признаке только нули, это скорее техническая ошибка;\n",
    "- date_crawled, date_created, last_seen - даты, которые также не понесут в себе особой пользы в обучении;\n",
    "- postal_code - слабо связанный со всеми признаками. Не несет практической значимости для предсказания целевого признака."
   ]
  },
  {
   "cell_type": "code",
   "execution_count": null,
   "metadata": {
    "scrolled": true
   },
   "outputs": [],
   "source": [
    "df_autos_ml = df_autos.drop(['number_of_pictures',\n",
    "                                 'date_crawled',\n",
    "                                 'date_created',\n",
    "                                 'last_seen',\n",
    "                                 'postal_code',\n",
    "                                 'registration_month'\n",
    "                                 ], axis=1)\n",
    "\n",
    "df_autos_ml.head()"
   ]
  },
  {
   "cell_type": "code",
   "execution_count": null,
   "metadata": {},
   "outputs": [],
   "source": [
    "# проверка на пропущенные значения и дубликаты\n",
    "print(f'Пропущенные значения: {df_autos_ml.isna().sum()}')\n",
    "print(f'Количество дубликатов: {df_autos_ml.duplicated().sum()}')\n",
    "print(f'Доля дубликатов от всех данных: {df_autos_ml.duplicated().sum() / len(df_autos_ml):%}')"
   ]
  },
  {
   "cell_type": "code",
   "execution_count": null,
   "metadata": {},
   "outputs": [],
   "source": [
    "# избавляемся от дубликатов\n",
    "df_autos_ml.drop_duplicates(inplace=True)\n",
    "\n",
    "# проверка\n",
    "print(f'Количество дубликатов после удаления: {df_autos_ml.duplicated().sum()}')"
   ]
  },
  {
   "cell_type": "code",
   "execution_count": null,
   "metadata": {},
   "outputs": [],
   "source": [
    "# разбиваем фичи и таргет\n",
    "X = df_autos_ml.drop('price', axis=1)\n",
    "y = df_autos_ml['price']\n",
    "\n",
    "# разбиваем выборку на тренировочную и тестовую\n",
    "X_train, X_test, y_train, y_test = train_test_split(\n",
    "    X,\n",
    "    y,\n",
    "    test_size=TEST_SIZE,\n",
    "    random_state=RANDOM_STATE)\n",
    "\n",
    "print(f'X_train: {X_train.shape}')\n",
    "print(f'X_test: {X_test.shape}')\n",
    "print(f'y_train: {y_train.shape}')\n",
    "print(f'y_test: {y_test.shape}')"
   ]
  },
  {
   "cell_type": "markdown",
   "metadata": {},
   "source": [
    "### Пайплайн предобработки"
   ]
  },
  {
   "cell_type": "code",
   "execution_count": null,
   "metadata": {},
   "outputs": [],
   "source": [
    "# создаём списки с названиями признаков\n",
    "ohe_columns = ['vehicle_type', 'gearbox', 'model', 'fuel_type', 'brand', 'repaired']\n",
    "ord_columns = ['vehicle_type', 'gearbox', 'model', 'fuel_type', 'brand', 'repaired']\n",
    "num_columns = ['registration_year', 'power', 'kilometer']\n",
    "\n",
    "ohe_pipe = Pipeline([\n",
    "    ('simpleImputer_before_ohe', SimpleImputer(missing_values=np.nan, strategy='most_frequent')),\n",
    "    ('ohe', OneHotEncoder(drop='first', handle_unknown='ignore', sparse=False)),\n",
    "    ('simpleImputer_after_ohe', SimpleImputer(missing_values=np.nan, strategy='most_frequent'))\n",
    "])\n",
    "\n",
    "ord_pipe = Pipeline([\n",
    "    ('ord', OrdinalEncoder(handle_unknown='use_encoded_value', unknown_value=np.nan)),\n",
    "    ('simpleImputer_after_ord', SimpleImputer(missing_values=np.nan, strategy='most_frequent'))\n",
    "])\n",
    "\n",
    "# создаём общий пайплайн для подготовки данных линейных моделей\n",
    "data_preprocessor_lin = ColumnTransformer(\n",
    "    [\n",
    "        ('ohe', ohe_pipe, ohe_columns),\n",
    "        ('num', StandardScaler(), num_columns)\n",
    "    ],\n",
    "    remainder='passthrough'\n",
    ")\n",
    "\n",
    "# создаём общий пайплайн для подготовки данных деревьев\n",
    "data_preprocessor_tree = ColumnTransformer(\n",
    "    [\n",
    "        ('ord', ord_pipe, ord_columns),\n",
    "        ('num', StandardScaler(), num_columns)\n",
    "    ],\n",
    "    remainder='passthrough'\n",
    ")\n",
    "\n",
    "# Cоздаём общий пайплайн для подготовки данных деревьев\n",
    "data_preprocessor_tree = ColumnTransformer(\n",
    "    [\n",
    "        ('ord', ord_pipe, ord_columns),\n",
    "        ('num', StandardScaler(), num_columns)\n",
    "    ],\n",
    "    remainder='passthrough'\n",
    ")\n",
    "\n",
    "# создаём итоговый пайплайн: подготовка данных и базовая модель для линейных моделей\n",
    "pipe_final_lin = Pipeline([\n",
    "    ('preprocessor', data_preprocessor_lin),\n",
    "    ('models', LinearRegression())\n",
    "])\n",
    "\n",
    "# создаём итоговый пайплайн: подготовка данных и базовая модель для деревьев\n",
    "pipe_final_tree = Pipeline([\n",
    "    ('preprocessor', data_preprocessor_tree),\n",
    "    ('models', RandomForestRegressor(random_state=RANDOM_STATE))\n",
    "])\n",
    "\n",
    "X_train_processed_lin = data_preprocessor_lin.fit_transform(X_train)\n",
    "X_test_processed_lin = data_preprocessor_lin.transform(X_test)\n",
    "\n",
    "X_train_processed_tree = data_preprocessor_tree.fit_transform(X_train)\n",
    "X_test_processed_tree = data_preprocessor_tree.transform(X_test)"
   ]
  },
  {
   "cell_type": "markdown",
   "metadata": {},
   "source": [
    "## Обучение моделей"
   ]
  },
  {
   "cell_type": "markdown",
   "metadata": {},
   "source": [
    "### LinearRegression"
   ]
  },
  {
   "cell_type": "code",
   "execution_count": null,
   "metadata": {},
   "outputs": [],
   "source": [
    "#%%time\n",
    "start = time()\n",
    "\n",
    "lin_reg = pipe_final_lin \n",
    "lin_reg.fit(X_train, y_train)\n",
    "\n",
    "end = time()\n",
    "linear_time = (end-start)/60\n",
    "\n",
    "print('Время обучения модели: ', linear_time)"
   ]
  },
  {
   "cell_type": "code",
   "execution_count": null,
   "metadata": {},
   "outputs": [],
   "source": [
    "scores = cross_val_score(\n",
    "    lin_reg,\n",
    "    X_train,\n",
    "    y_train,\n",
    "    cv=5,\n",
    "    n_jobs=-1,\n",
    "    scoring='neg_root_mean_squared_error'\n",
    ")\n",
    "\n",
    "cv_score_lin_reg = sum(scores) / len(scores)\n",
    "print('RMSE на кросс-валидации :', (-1) * cv_score_lin_reg)"
   ]
  },
  {
   "cell_type": "code",
   "execution_count": null,
   "metadata": {},
   "outputs": [],
   "source": [
    "#%%time\n",
    "start = time()\n",
    "\n",
    "y_pred_lin_reg = lin_reg.predict(X_train)\n",
    "#print('RMSE на тренировочной выборке:', mean_squared_error(y_train, y_pred_lin_reg, squared=False))\n",
    "\n",
    "end = time()\n",
    "linear_predict_time = (end-start)/60\n",
    "\n",
    "print('Время предсказания модели:', linear_predict_time)"
   ]
  },
  {
   "cell_type": "markdown",
   "metadata": {},
   "source": [
    "**Качество предсказания LinearRegression:**<br>\n",
    "- **RMSE на кросс-валидации:** 2846.455289893139\n",
    "- **Время обучения модели:** 0.35 min\n",
    "- **Время предсказания модели:** 0.03 min"
   ]
  },
  {
   "cell_type": "markdown",
   "metadata": {},
   "source": [
    "### LGBMRegressor"
   ]
  },
  {
   "cell_type": "code",
   "execution_count": null,
   "metadata": {
    "scrolled": true
   },
   "outputs": [],
   "source": [
    "# подберем лучшие гиперпараметры\n",
    "\n",
    "lgbm_pipe = Pipeline([\n",
    "    ('preprocessor', data_preprocessor_tree),\n",
    "    ('models', LGBMRegressor(random_state=RANDOM_STATE, verbose=-1))\n",
    "])\n",
    "\n",
    "lgbm_params = {\n",
    "    'models': [LGBMRegressor(random_state=RANDOM_STATE, verbose=-1)],\n",
    "    'models__n_estimators': range(50, 100, 10),\n",
    "    'models__max_depth': range(3, 8),\n",
    "    'models__num_leaves': range(5, 50, 5)\n",
    "}\n",
    "\n",
    "lgbm_reg = RandomizedSearchCV(\n",
    "    lgbm_pipe,\n",
    "    lgbm_params,\n",
    "    scoring='neg_root_mean_squared_error',\n",
    "    n_jobs=-1,\n",
    "    n_iter=10,\n",
    "    cv=5,\n",
    "    verbose=5,\n",
    "    random_state=RANDOM_STATE,\n",
    ")\n",
    "\n",
    "lgbm_reg.fit(X_train, y_train)\n",
    "\n",
    "# лучшие гиперпараметры\n",
    "print('Лучшая модель: \\n', lgbm_reg.best_estimator_)\n",
    "# лучшая метрика качества\n",
    "print('RMSE на кросс-валидации', (-1) * lgbm_reg.best_score_)"
   ]
  },
  {
   "cell_type": "code",
   "execution_count": null,
   "metadata": {},
   "outputs": [],
   "source": [
    "#%%time\n",
    "start = time()\n",
    "\n",
    "lgbm_reg.best_estimator_.fit(X_train, y_train)\n",
    "\n",
    "end = time()\n",
    "lgbm_time = (end-start)/60\n",
    "\n",
    "print('Время обучения модели: ', lgbm_time)"
   ]
  },
  {
   "cell_type": "code",
   "execution_count": null,
   "metadata": {},
   "outputs": [],
   "source": [
    "#%%time\n",
    "start = time()\n",
    "\n",
    "y_pred_lgbm_reg = lgbm_reg.best_estimator_.predict(X_train)\n",
    "#print('RMSE на тренировочной выборке:', mean_squared_error(y_train, y_pred_lgbm_reg, squared=False))\n",
    "\n",
    "end = time()\n",
    "lgbm_predict_time = (end-start)/60\n",
    "\n",
    "print('Время предсказания модели:', lgbm_predict_time)"
   ]
  },
  {
   "cell_type": "markdown",
   "metadata": {},
   "source": [
    "**Качество предсказания LGBMRegressor:**<br>\n",
    "- **RMSE на кросс-валидации:** 1850.6183606205384\n",
    "- **Время обучения модели:** 0.06 min\n",
    "- **Время предсказания модели:** 0.0 2min"
   ]
  },
  {
   "cell_type": "markdown",
   "metadata": {},
   "source": [
    "### CatBoostRegressor"
   ]
  },
  {
   "cell_type": "code",
   "execution_count": null,
   "metadata": {},
   "outputs": [],
   "source": [
    "# пайплайн для замены пропущенных значений\n",
    "imputer_pipe = Pipeline(\n",
    "    [\n",
    "        (\n",
    "            'SimpleImputer',\n",
    "            SimpleImputer(missing_values=np.nan, strategy='most_frequent')\n",
    "        ),\n",
    "    ]\n",
    ")\n",
    "\n",
    "# обработка пропущенных значений при помощи пайплайна\n",
    "nan_cols = ['vehicle_type', 'gearbox', 'model', 'fuel_type', 'repaired']\n",
    "X_train[nan_cols] = imputer_pipe.fit_transform(X_train[nan_cols])"
   ]
  },
  {
   "cell_type": "code",
   "execution_count": null,
   "metadata": {},
   "outputs": [],
   "source": [
    "#%%time\n",
    "start = time()\n",
    "\n",
    "catboost_model = CatBoostRegressor(random_state=RANDOM_STATE, cat_features=ohe_columns, verbose=False)\n",
    "catboost_model.fit(X_train, y_train)\n",
    "\n",
    "end = time()\n",
    "catboost_time = (end-start)/60\n",
    "\n",
    "print('Время обучения модели: ', catboost_time)"
   ]
  },
  {
   "cell_type": "code",
   "execution_count": null,
   "metadata": {},
   "outputs": [],
   "source": [
    "catboost_scores = cross_val_score(\n",
    "    catboost_model,\n",
    "    X_train,\n",
    "    y_train,\n",
    "    cv=5,\n",
    "    n_jobs=-1,\n",
    "    scoring='neg_root_mean_squared_error'\n",
    ")\n",
    "\n",
    "cv_score_catboost = sum(catboost_scores) / len(catboost_scores)\n",
    "print('RMSE на кросс-валидации :', (-1) * cv_score_catboost)"
   ]
  },
  {
   "cell_type": "code",
   "execution_count": null,
   "metadata": {},
   "outputs": [],
   "source": [
    "#%%time\n",
    "start = time()\n",
    "\n",
    "y_pred_catboost = catboost_model.predict(X_train)\n",
    "#print('RMSE на тренировочной выборке:', mean_squared_error(y_train, y_pred_catboost, squared=False))\n",
    "\n",
    "end = time()\n",
    "catboost_predict_time = (end-start)/60\n",
    "\n",
    "print('Время предсказания модели:', catboost_predict_time)"
   ]
  },
  {
   "cell_type": "markdown",
   "metadata": {},
   "source": [
    "**Качество предсказания CatBoostRegressor:**<br>\n",
    "- **RMSE на кросс-валидации:** 1760.2421775419946\n",
    "- **Время обучения модели:** 1.96 min\n",
    "- **Время предсказания модели:** 0.02 min"
   ]
  },
  {
   "cell_type": "markdown",
   "metadata": {},
   "source": [
    "## Анализ моделей"
   ]
  },
  {
   "cell_type": "code",
   "execution_count": null,
   "metadata": {},
   "outputs": [],
   "source": [
    "results = {\n",
    "    'model': ['LinearRegression', 'LGBMRegressor', 'CatBoostRegressor'],\n",
    "    'RMSE_cross_val': [(-1) * cv_score_lin_reg, (-1) * lgbm_reg.best_score_, (-1) * cv_score_catboost],\n",
    "    'train_time': [linear_time, lgbm_time, catboost_time],\n",
    "    'predict_time': [linear_predict_time, lgbm_predict_time, catboost_predict_time]\n",
    "}\n",
    "\n",
    "all_models = pd.DataFrame(results)\n",
    "\n",
    "all_models.sort_values(by='RMSE_cross_val')"
   ]
  },
  {
   "cell_type": "markdown",
   "metadata": {},
   "source": [
    "Лучше всего с задачей справилась модель с дефолтными настройками - CatBoostRegressor. Она показала лучший RMSE на кросс-валидации и быстрее остальных моделей предсказывает значения.<br>\n",
    "Выбираем CatBoostRegressor"
   ]
  },
  {
   "cell_type": "code",
   "execution_count": null,
   "metadata": {},
   "outputs": [],
   "source": [
    "%%time\n",
    "\n",
    "X_test[nan_cols] = imputer_pipe.fit_transform(X_test[nan_cols])\n",
    "y_pred = catboost_model.predict(X_test)\n",
    "print('RMSE лучшей модели тестовой выборки:', mean_squared_error(y_test, y_pred, squared=False))"
   ]
  },
  {
   "cell_type": "markdown",
   "metadata": {},
   "source": [
    "## Общий вывод"
   ]
  },
  {
   "cell_type": "markdown",
   "metadata": {},
   "source": [
    "В ходе работы над исследованием была построена модель машинного обучения для определения рыночной стоимости автомобиля, соответствующая критериям заказчика.<br>\n",
    "\n",
    "Исследование было разделено на несколько этапов:\n",
    "\n",
    "1. **Загрузка и подготовка данных**\n",
    "\n",
    "В таблице представлены данные о технических характеристиках, комплектации и ценах автомобилей. Всего в датасете 354 369 записей.<br>\n",
    "Обнаружили пропущенные значения:<br>\n",
    "VehicleType - 37 490<br>\n",
    "Gearbox - 19 833<br>\n",
    "Model - 19 705<br>\n",
    "FuelType - 32 895<br>\n",
    "Repaired - 71 154<br>\n",
    "Обнаружили 4 явных дубликата<br>\n",
    "Предварительно определили аномальные значения:<br>\n",
    "Price - минимальная цена 0. Такого быть не должно.<br>\n",
    "RegistrationYear - машина явно не может быть зарегистрирована в 9999 году, как и в 1000<br>\n",
    "Power - 20 000 лошадиных сил. Слишком много.<br>\n",
    "NumberOfPictures - предполагаем, картинок не было в данных, поскольку наблюдаем только нули, либо это техническая неполадка.<br>\n",
    "С типами данных все в порядке.\n",
    "\n",
    "\n",
    "2. **Предобработка данных**\n",
    "\n",
    "Привели названия столбцов к snake_case для удобства.<br>\n",
    "Избавились от 5-ти явных дубликатов в данных.\n",
    "\n",
    "3. **Исследовательский анализ данных**\n",
    "\n",
    "Избавились от автомобилей стоимостью ниже 1000 евро в записях - удалено 83 326 строк;<br>\n",
    "Убрали 10 643 строк из данных, связанных с годом регистрации автомобиля: машины, зарегистрированные до 1900 и после 2016;<br>\n",
    "Обнаружили строки с мощностью автомобиля 0 лошадиных сил. Подобных записей достаточно много. Заменили нули на медианное значение количества лошадиных сил среди подобных брендов и моделей автомобиля;<br>\n",
    "Обнаружили странные записи, в которых в автомобилях более 1000 лошадиных сил. Скорее всего это техническая ошибка сервиса. Заменили отобранные значения по тому же принципу, что и с 0 лошадиными силами;<br>\n",
    "Среди типов автомобильных кузовов лидирует \"седан\" - 29.6%;<br>\n",
    "Лидирующий тип коробки передач ручной - 77.1%;<br>\n",
    "Среди моделей автомобилей лидирует golf;<br>\n",
    "Среди брендов лидер volkswagen;<br>\n",
    "Лидирует тип топлива бензин - 61.5%;<br>\n",
    "Большинство машин 92.6% не было в ремонте.<br>\n",
    "\n",
    "4. **Корреляционный анализ данных**\n",
    "\n",
    "Целевой признак коррелирует умеренно-положительно (0.5 < y < 0.8) с несколькими признаками:<br>\n",
    "год регистрации: корреляция умеренно-положительная. Коэффициент взаимосвязи: 0.64. Это логично, так как, чем свежее автомобиль, тем он более востребован, а значит и дороже;<br>\n",
    "модель: закономерно, корреляция умеренно-положительная. Одни модели ценятся больше у автовладельцев, другие меньше. Коэффициент взаимосвязи: 0.54.\n",
    "\n",
    "5. **Обучение моделей**\n",
    "\n",
    "Подготовили выборки, убрав неважные признаки;<br>\n",
    "Создали пайплайн предобработки;<br>\n",
    "Подобрали гиперпараметры некоторых моделей и обучили + замерили метрики на кросс-валидации и трейне.\n",
    "\n",
    "6. **Анализ моделей**\n",
    "\n",
    "Лучше всего с задачей справилась модель с классическими гиперпараметрами - CatBoostRegressor. Она показала лучший RMSE на кросс-валидации и быстрее остальных моделей предсказывает значения.<br>\n",
    "RMSE на кросс-валидации: 1760.2421775419946<br>\n",
    "RMSE на тестовой выборке: 1732.5431702466208<br>\n",
    "Время обучения модели: 1.96 min<br>\n",
    "Время предсказания модели (на тестовой выборке): 424 ms\n",
    "<br>\n",
    "\n",
    "Конечная модель отвечает всем критериям заказчика:<br>\n",
    "Предсказание качественно и метрика RMSE < 2500."
   ]
  }
 ],
 "metadata": {
  "ExecuteTimeLog": [
   {
    "duration": 18387,
    "start_time": "2025-06-16T12:42:24.558Z"
   },
   {
    "duration": 1991,
    "start_time": "2025-06-16T12:43:45.948Z"
   },
   {
    "duration": 132,
    "start_time": "2025-06-16T12:43:56.726Z"
   },
   {
    "duration": 7467,
    "start_time": "2025-06-16T12:44:08.206Z"
   },
   {
    "duration": 1779,
    "start_time": "2025-06-16T12:44:15.676Z"
   },
   {
    "duration": 2,
    "start_time": "2025-06-16T12:45:31.675Z"
   },
   {
    "duration": 5,
    "start_time": "2025-06-16T12:45:55.034Z"
   },
   {
    "duration": 1717,
    "start_time": "2025-06-16T12:56:04.944Z"
   },
   {
    "duration": 925,
    "start_time": "2025-06-16T12:56:59.705Z"
   },
   {
    "duration": 30228,
    "start_time": "2025-06-16T14:03:21.956Z"
   },
   {
    "duration": 7991,
    "start_time": "2025-06-16T14:05:38.254Z"
   },
   {
    "duration": 1880,
    "start_time": "2025-06-16T14:05:46.248Z"
   },
   {
    "duration": 3,
    "start_time": "2025-06-16T14:05:48.130Z"
   },
   {
    "duration": 7,
    "start_time": "2025-06-16T14:05:48.135Z"
   },
   {
    "duration": 2694,
    "start_time": "2025-06-16T14:05:48.146Z"
   },
   {
    "duration": 1039,
    "start_time": "2025-06-16T14:05:50.843Z"
   },
   {
    "duration": 546,
    "start_time": "2025-06-16T14:05:51.883Z"
   },
   {
    "duration": 3340,
    "start_time": "2025-06-16T14:06:15.091Z"
   },
   {
    "duration": 115,
    "start_time": "2025-06-16T14:09:47.302Z"
   },
   {
    "duration": 491,
    "start_time": "2025-06-16T14:10:06.930Z"
   },
   {
    "duration": 1031,
    "start_time": "2025-06-16T14:19:01.085Z"
   },
   {
    "duration": 14,
    "start_time": "2025-06-16T14:19:33.271Z"
   },
   {
    "duration": 56,
    "start_time": "2025-06-16T14:21:20.274Z"
   },
   {
    "duration": 10855,
    "start_time": "2025-06-16T17:41:33.744Z"
   },
   {
    "duration": 1976,
    "start_time": "2025-06-16T17:41:44.601Z"
   },
   {
    "duration": 3,
    "start_time": "2025-06-16T17:41:46.579Z"
   },
   {
    "duration": 13,
    "start_time": "2025-06-16T17:41:46.583Z"
   },
   {
    "duration": 3206,
    "start_time": "2025-06-16T17:41:46.598Z"
   },
   {
    "duration": 968,
    "start_time": "2025-06-16T17:41:49.805Z"
   },
   {
    "duration": 145,
    "start_time": "2025-06-16T17:41:50.775Z"
   },
   {
    "duration": 0,
    "start_time": "2025-06-16T17:41:50.922Z"
   },
   {
    "duration": 0,
    "start_time": "2025-06-16T17:41:50.923Z"
   },
   {
    "duration": 0,
    "start_time": "2025-06-16T17:41:50.924Z"
   },
   {
    "duration": 16,
    "start_time": "2025-06-16T17:42:16.011Z"
   },
   {
    "duration": 9842,
    "start_time": "2025-06-16T17:42:51.981Z"
   },
   {
    "duration": 2001,
    "start_time": "2025-06-16T17:43:01.825Z"
   },
   {
    "duration": 3,
    "start_time": "2025-06-16T17:43:03.828Z"
   },
   {
    "duration": 37,
    "start_time": "2025-06-16T17:43:03.833Z"
   },
   {
    "duration": 1575,
    "start_time": "2025-06-16T17:43:03.871Z"
   },
   {
    "duration": 871,
    "start_time": "2025-06-16T17:43:05.448Z"
   },
   {
    "duration": 24,
    "start_time": "2025-06-16T17:43:06.321Z"
   },
   {
    "duration": 565,
    "start_time": "2025-06-16T17:43:06.347Z"
   },
   {
    "duration": 0,
    "start_time": "2025-06-16T17:43:06.913Z"
   },
   {
    "duration": 0,
    "start_time": "2025-06-16T17:43:06.914Z"
   },
   {
    "duration": 565,
    "start_time": "2025-06-16T17:44:44.740Z"
   },
   {
    "duration": 14,
    "start_time": "2025-06-16T17:44:58.164Z"
   },
   {
    "duration": 1371,
    "start_time": "2025-06-16T17:45:07.843Z"
   },
   {
    "duration": 18,
    "start_time": "2025-06-16T17:59:55.693Z"
   },
   {
    "duration": 4,
    "start_time": "2025-06-16T18:01:05.418Z"
   },
   {
    "duration": 9965,
    "start_time": "2025-06-16T18:02:15.400Z"
   },
   {
    "duration": 1942,
    "start_time": "2025-06-16T18:02:25.367Z"
   },
   {
    "duration": 3,
    "start_time": "2025-06-16T18:02:27.310Z"
   },
   {
    "duration": 20,
    "start_time": "2025-06-16T18:02:27.315Z"
   },
   {
    "duration": 21,
    "start_time": "2025-06-16T18:02:27.337Z"
   },
   {
    "duration": 1772,
    "start_time": "2025-06-16T18:02:27.359Z"
   },
   {
    "duration": 899,
    "start_time": "2025-06-16T18:02:29.132Z"
   },
   {
    "duration": 20,
    "start_time": "2025-06-16T18:02:30.033Z"
   },
   {
    "duration": 671,
    "start_time": "2025-06-16T18:02:30.054Z"
   },
   {
    "duration": 18,
    "start_time": "2025-06-16T18:02:30.727Z"
   },
   {
    "duration": 1472,
    "start_time": "2025-06-16T18:02:30.747Z"
   },
   {
    "duration": 31,
    "start_time": "2025-06-16T18:02:32.221Z"
   },
   {
    "duration": 2023,
    "start_time": "2025-06-16T18:02:32.254Z"
   },
   {
    "duration": 1331,
    "start_time": "2025-06-16T18:09:35.260Z"
   },
   {
    "duration": 19,
    "start_time": "2025-06-16T18:10:05.490Z"
   },
   {
    "duration": 19,
    "start_time": "2025-06-16T18:10:23.329Z"
   },
   {
    "duration": 16,
    "start_time": "2025-06-16T18:10:28.294Z"
   },
   {
    "duration": 87,
    "start_time": "2025-06-16T18:12:56.129Z"
   },
   {
    "duration": 332,
    "start_time": "2025-06-16T18:16:55.638Z"
   },
   {
    "duration": 305,
    "start_time": "2025-06-16T18:17:27.578Z"
   },
   {
    "duration": 10299,
    "start_time": "2025-06-16T18:17:58.620Z"
   },
   {
    "duration": 1999,
    "start_time": "2025-06-16T18:18:08.923Z"
   },
   {
    "duration": 2,
    "start_time": "2025-06-16T18:18:10.924Z"
   },
   {
    "duration": 8,
    "start_time": "2025-06-16T18:18:10.928Z"
   },
   {
    "duration": 9,
    "start_time": "2025-06-16T18:18:10.940Z"
   },
   {
    "duration": 1747,
    "start_time": "2025-06-16T18:18:10.951Z"
   },
   {
    "duration": 939,
    "start_time": "2025-06-16T18:18:12.700Z"
   },
   {
    "duration": 16,
    "start_time": "2025-06-16T18:18:13.640Z"
   },
   {
    "duration": 589,
    "start_time": "2025-06-16T18:18:13.657Z"
   },
   {
    "duration": 15,
    "start_time": "2025-06-16T18:18:14.247Z"
   },
   {
    "duration": 1476,
    "start_time": "2025-06-16T18:18:14.263Z"
   },
   {
    "duration": 19,
    "start_time": "2025-06-16T18:18:15.740Z"
   },
   {
    "duration": 2146,
    "start_time": "2025-06-16T18:18:15.761Z"
   },
   {
    "duration": 457,
    "start_time": "2025-06-16T18:18:17.910Z"
   },
   {
    "duration": 21,
    "start_time": "2025-06-16T18:18:18.368Z"
   },
   {
    "duration": 18,
    "start_time": "2025-06-16T18:18:18.391Z"
   },
   {
    "duration": 41,
    "start_time": "2025-06-16T18:18:18.411Z"
   },
   {
    "duration": 101,
    "start_time": "2025-06-16T18:18:18.454Z"
   },
   {
    "duration": 10118,
    "start_time": "2025-06-16T18:27:49.692Z"
   },
   {
    "duration": 2036,
    "start_time": "2025-06-16T18:27:59.813Z"
   },
   {
    "duration": 3,
    "start_time": "2025-06-16T18:28:01.851Z"
   },
   {
    "duration": 52,
    "start_time": "2025-06-16T18:28:01.856Z"
   },
   {
    "duration": 19,
    "start_time": "2025-06-16T18:28:01.911Z"
   },
   {
    "duration": 1546,
    "start_time": "2025-06-16T18:28:01.931Z"
   },
   {
    "duration": 913,
    "start_time": "2025-06-16T18:28:03.479Z"
   },
   {
    "duration": 14,
    "start_time": "2025-06-16T18:28:04.393Z"
   },
   {
    "duration": 1498,
    "start_time": "2025-06-16T18:28:04.408Z"
   },
   {
    "duration": 19,
    "start_time": "2025-06-16T18:28:05.908Z"
   },
   {
    "duration": 2074,
    "start_time": "2025-06-16T18:28:05.939Z"
   },
   {
    "duration": 437,
    "start_time": "2025-06-16T18:28:08.015Z"
   },
   {
    "duration": 21,
    "start_time": "2025-06-16T18:28:08.453Z"
   },
   {
    "duration": 19,
    "start_time": "2025-06-16T18:28:08.477Z"
   },
   {
    "duration": 17,
    "start_time": "2025-06-16T18:28:08.498Z"
   },
   {
    "duration": 110,
    "start_time": "2025-06-16T18:28:08.517Z"
   },
   {
    "duration": 12,
    "start_time": "2025-06-16T18:28:08.628Z"
   },
   {
    "duration": 25,
    "start_time": "2025-06-16T18:28:08.641Z"
   },
   {
    "duration": 185,
    "start_time": "2025-06-16T18:33:37.568Z"
   },
   {
    "duration": 44,
    "start_time": "2025-06-16T18:33:53.964Z"
   },
   {
    "duration": 13,
    "start_time": "2025-06-16T18:36:49.723Z"
   },
   {
    "duration": 17,
    "start_time": "2025-06-16T18:37:01.222Z"
   },
   {
    "duration": 45,
    "start_time": "2025-06-16T18:37:50.600Z"
   },
   {
    "duration": 46,
    "start_time": "2025-06-16T18:38:56.653Z"
   },
   {
    "duration": 48,
    "start_time": "2025-06-16T18:39:04.440Z"
   },
   {
    "duration": 63,
    "start_time": "2025-06-16T18:43:08.599Z"
   },
   {
    "duration": 87,
    "start_time": "2025-06-16T18:43:33.774Z"
   },
   {
    "duration": 17,
    "start_time": "2025-06-16T18:58:39.904Z"
   },
   {
    "duration": 1654,
    "start_time": "2025-06-16T18:59:23.036Z"
   },
   {
    "duration": 16,
    "start_time": "2025-06-16T19:02:26.562Z"
   },
   {
    "duration": 289,
    "start_time": "2025-06-16T19:05:14.375Z"
   },
   {
    "duration": 409,
    "start_time": "2025-06-16T19:05:22.901Z"
   },
   {
    "duration": 1774,
    "start_time": "2025-06-16T19:05:29.498Z"
   },
   {
    "duration": 387,
    "start_time": "2025-06-16T19:05:41.781Z"
   },
   {
    "duration": 318,
    "start_time": "2025-06-16T19:06:36.906Z"
   },
   {
    "duration": 92,
    "start_time": "2025-06-16T19:10:02.189Z"
   },
   {
    "duration": 28,
    "start_time": "2025-06-16T19:10:42.788Z"
   },
   {
    "duration": 215,
    "start_time": "2025-06-16T19:16:31.365Z"
   },
   {
    "duration": 1594,
    "start_time": "2025-06-16T19:16:51.497Z"
   },
   {
    "duration": 307,
    "start_time": "2025-06-16T19:17:18.511Z"
   },
   {
    "duration": 1534,
    "start_time": "2025-06-16T19:18:27.448Z"
   },
   {
    "duration": 266,
    "start_time": "2025-06-16T19:19:21.673Z"
   },
   {
    "duration": 46,
    "start_time": "2025-06-16T19:21:55.448Z"
   },
   {
    "duration": 89,
    "start_time": "2025-06-16T19:23:04.205Z"
   },
   {
    "duration": 17,
    "start_time": "2025-06-16T19:25:35.767Z"
   },
   {
    "duration": 1578,
    "start_time": "2025-06-16T19:26:33.954Z"
   },
   {
    "duration": 277,
    "start_time": "2025-06-16T19:28:05.076Z"
   },
   {
    "duration": 102,
    "start_time": "2025-06-16T19:37:29.869Z"
   },
   {
    "duration": 71,
    "start_time": "2025-06-16T19:38:52.684Z"
   },
   {
    "duration": 680,
    "start_time": "2025-06-16T19:44:20.517Z"
   },
   {
    "duration": 24298,
    "start_time": "2025-06-16T19:44:45.704Z"
   },
   {
    "duration": 10739,
    "start_time": "2025-06-16T19:45:42.158Z"
   },
   {
    "duration": 2077,
    "start_time": "2025-06-16T19:45:52.900Z"
   },
   {
    "duration": 3,
    "start_time": "2025-06-16T19:45:54.980Z"
   },
   {
    "duration": 18,
    "start_time": "2025-06-16T19:45:54.985Z"
   },
   {
    "duration": 9,
    "start_time": "2025-06-16T19:45:55.006Z"
   },
   {
    "duration": 1869,
    "start_time": "2025-06-16T19:45:55.017Z"
   },
   {
    "duration": 1015,
    "start_time": "2025-06-16T19:45:56.888Z"
   },
   {
    "duration": 15,
    "start_time": "2025-06-16T19:45:57.905Z"
   },
   {
    "duration": 40,
    "start_time": "2025-06-16T19:45:57.922Z"
   },
   {
    "duration": 1659,
    "start_time": "2025-06-16T19:45:57.964Z"
   },
   {
    "duration": 33,
    "start_time": "2025-06-16T19:45:59.624Z"
   },
   {
    "duration": 2359,
    "start_time": "2025-06-16T19:45:59.658Z"
   },
   {
    "duration": 566,
    "start_time": "2025-06-16T19:46:02.020Z"
   },
   {
    "duration": 22,
    "start_time": "2025-06-16T19:46:02.589Z"
   },
   {
    "duration": 45,
    "start_time": "2025-06-16T19:46:02.613Z"
   },
   {
    "duration": 17,
    "start_time": "2025-06-16T19:46:02.660Z"
   },
   {
    "duration": 138,
    "start_time": "2025-06-16T19:46:02.679Z"
   },
   {
    "duration": 1746,
    "start_time": "2025-06-16T19:46:02.819Z"
   },
   {
    "duration": 571,
    "start_time": "2025-06-16T19:46:04.568Z"
   },
   {
    "duration": 53,
    "start_time": "2025-06-16T19:46:05.141Z"
   },
   {
    "duration": 120,
    "start_time": "2025-06-16T19:46:05.196Z"
   },
   {
    "duration": 56,
    "start_time": "2025-06-16T19:46:05.318Z"
   },
   {
    "duration": 1747,
    "start_time": "2025-06-16T19:46:05.376Z"
   },
   {
    "duration": 545,
    "start_time": "2025-06-16T19:46:07.126Z"
   },
   {
    "duration": 29,
    "start_time": "2025-06-16T19:46:07.672Z"
   },
   {
    "duration": 267,
    "start_time": "2025-06-16T19:46:07.704Z"
   },
   {
    "duration": 1747,
    "start_time": "2025-06-16T19:46:07.972Z"
   },
   {
    "duration": 441,
    "start_time": "2025-06-16T19:46:09.721Z"
   },
   {
    "duration": 74,
    "start_time": "2025-06-16T19:46:10.165Z"
   },
   {
    "duration": 0,
    "start_time": "2025-06-16T19:46:10.242Z"
   },
   {
    "duration": 0,
    "start_time": "2025-06-16T19:46:10.245Z"
   },
   {
    "duration": 0,
    "start_time": "2025-06-16T19:46:10.249Z"
   },
   {
    "duration": 0,
    "start_time": "2025-06-16T19:46:10.252Z"
   },
   {
    "duration": 0,
    "start_time": "2025-06-16T19:46:10.254Z"
   },
   {
    "duration": 0,
    "start_time": "2025-06-16T19:46:10.256Z"
   },
   {
    "duration": 0,
    "start_time": "2025-06-16T19:46:10.257Z"
   },
   {
    "duration": 0,
    "start_time": "2025-06-16T19:46:10.259Z"
   },
   {
    "duration": 0,
    "start_time": "2025-06-16T19:46:10.260Z"
   },
   {
    "duration": 58,
    "start_time": "2025-06-16T19:46:40.087Z"
   },
   {
    "duration": 86,
    "start_time": "2025-06-16T19:46:44.788Z"
   },
   {
    "duration": 16,
    "start_time": "2025-06-16T19:46:49.274Z"
   },
   {
    "duration": 1358,
    "start_time": "2025-06-16T19:46:51.952Z"
   },
   {
    "duration": 311,
    "start_time": "2025-06-16T19:47:00.370Z"
   },
   {
    "duration": 30,
    "start_time": "2025-06-16T19:47:03.331Z"
   },
   {
    "duration": 4330,
    "start_time": "2025-06-16T19:47:07.024Z"
   },
   {
    "duration": 80,
    "start_time": "2025-06-16T19:55:23.678Z"
   },
   {
    "duration": 98,
    "start_time": "2025-06-16T19:56:38.997Z"
   },
   {
    "duration": 215,
    "start_time": "2025-06-16T19:58:38.159Z"
   },
   {
    "duration": 2549,
    "start_time": "2025-06-16T20:01:47.432Z"
   },
   {
    "duration": 89,
    "start_time": "2025-06-16T20:07:05.988Z"
   },
   {
    "duration": 117,
    "start_time": "2025-06-16T20:07:41.407Z"
   },
   {
    "duration": 10790,
    "start_time": "2025-06-16T20:08:19.708Z"
   },
   {
    "duration": 2102,
    "start_time": "2025-06-16T20:08:30.500Z"
   },
   {
    "duration": 2,
    "start_time": "2025-06-16T20:08:32.604Z"
   },
   {
    "duration": 19,
    "start_time": "2025-06-16T20:08:32.608Z"
   },
   {
    "duration": 11,
    "start_time": "2025-06-16T20:08:32.629Z"
   },
   {
    "duration": 2068,
    "start_time": "2025-06-16T20:08:32.643Z"
   },
   {
    "duration": 1018,
    "start_time": "2025-06-16T20:08:34.713Z"
   },
   {
    "duration": 23,
    "start_time": "2025-06-16T20:08:35.733Z"
   },
   {
    "duration": 53,
    "start_time": "2025-06-16T20:08:35.758Z"
   },
   {
    "duration": 1695,
    "start_time": "2025-06-16T20:08:35.814Z"
   },
   {
    "duration": 34,
    "start_time": "2025-06-16T20:08:37.510Z"
   },
   {
    "duration": 2473,
    "start_time": "2025-06-16T20:08:37.547Z"
   },
   {
    "duration": 521,
    "start_time": "2025-06-16T20:08:40.022Z"
   },
   {
    "duration": 29,
    "start_time": "2025-06-16T20:08:40.545Z"
   },
   {
    "duration": 18,
    "start_time": "2025-06-16T20:08:40.575Z"
   },
   {
    "duration": 35,
    "start_time": "2025-06-16T20:08:40.595Z"
   },
   {
    "duration": 109,
    "start_time": "2025-06-16T20:08:40.638Z"
   },
   {
    "duration": 1735,
    "start_time": "2025-06-16T20:08:40.750Z"
   },
   {
    "duration": 473,
    "start_time": "2025-06-16T20:08:42.487Z"
   },
   {
    "duration": 46,
    "start_time": "2025-06-16T20:08:42.961Z"
   },
   {
    "duration": 122,
    "start_time": "2025-06-16T20:08:43.008Z"
   },
   {
    "duration": 30,
    "start_time": "2025-06-16T20:08:43.132Z"
   },
   {
    "duration": 1703,
    "start_time": "2025-06-16T20:08:43.164Z"
   },
   {
    "duration": 496,
    "start_time": "2025-06-16T20:08:44.869Z"
   },
   {
    "duration": 29,
    "start_time": "2025-06-16T20:08:45.367Z"
   },
   {
    "duration": 291,
    "start_time": "2025-06-16T20:08:45.397Z"
   },
   {
    "duration": 1760,
    "start_time": "2025-06-16T20:08:45.690Z"
   },
   {
    "duration": 487,
    "start_time": "2025-06-16T20:08:47.455Z"
   },
   {
    "duration": 52,
    "start_time": "2025-06-16T20:08:47.945Z"
   },
   {
    "duration": 122,
    "start_time": "2025-06-16T20:08:47.999Z"
   },
   {
    "duration": 72,
    "start_time": "2025-06-16T20:08:48.122Z"
   },
   {
    "duration": 2425,
    "start_time": "2025-06-16T20:08:48.195Z"
   },
   {
    "duration": 2,
    "start_time": "2025-06-16T20:08:50.622Z"
   },
   {
    "duration": 101,
    "start_time": "2025-06-16T20:08:50.626Z"
   },
   {
    "duration": 31,
    "start_time": "2025-06-16T20:08:50.729Z"
   },
   {
    "duration": 1381,
    "start_time": "2025-06-16T20:08:50.762Z"
   },
   {
    "duration": 457,
    "start_time": "2025-06-16T20:08:52.156Z"
   },
   {
    "duration": 48,
    "start_time": "2025-06-16T20:08:52.615Z"
   },
   {
    "duration": 4053,
    "start_time": "2025-06-16T20:08:52.665Z"
   },
   {
    "duration": 3,
    "start_time": "2025-06-16T20:08:56.720Z"
   },
   {
    "duration": 38,
    "start_time": "2025-06-16T20:08:56.725Z"
   },
   {
    "duration": 25,
    "start_time": "2025-06-16T20:30:16.909Z"
   },
   {
    "duration": 1650,
    "start_time": "2025-06-16T20:31:06.430Z"
   },
   {
    "duration": 281,
    "start_time": "2025-06-16T20:34:49.861Z"
   },
   {
    "duration": 433,
    "start_time": "2025-06-16T20:35:03.935Z"
   },
   {
    "duration": 308,
    "start_time": "2025-06-16T20:35:10.709Z"
   },
   {
    "duration": 311,
    "start_time": "2025-06-16T20:35:21.720Z"
   },
   {
    "duration": 125,
    "start_time": "2025-06-16T20:39:04.648Z"
   },
   {
    "duration": 20,
    "start_time": "2025-06-16T20:39:13.887Z"
   },
   {
    "duration": 18,
    "start_time": "2025-06-16T20:42:36.857Z"
   },
   {
    "duration": 1444,
    "start_time": "2025-06-16T20:44:24.172Z"
   },
   {
    "duration": 270,
    "start_time": "2025-06-16T20:45:09.527Z"
   },
   {
    "duration": 315,
    "start_time": "2025-06-16T20:45:35.710Z"
   },
   {
    "duration": 48,
    "start_time": "2025-06-16T20:48:08.183Z"
   },
   {
    "duration": 101,
    "start_time": "2025-06-16T20:50:57.163Z"
   },
   {
    "duration": 52,
    "start_time": "2025-06-17T09:51:52.837Z"
   },
   {
    "duration": 24096,
    "start_time": "2025-06-17T09:51:58.252Z"
   },
   {
    "duration": 2272,
    "start_time": "2025-06-17T09:52:22.350Z"
   },
   {
    "duration": 3,
    "start_time": "2025-06-17T09:52:24.624Z"
   },
   {
    "duration": 13,
    "start_time": "2025-06-17T09:52:24.628Z"
   },
   {
    "duration": 12,
    "start_time": "2025-06-17T09:52:24.644Z"
   },
   {
    "duration": 2036,
    "start_time": "2025-06-17T09:52:24.661Z"
   },
   {
    "duration": 1058,
    "start_time": "2025-06-17T09:52:26.699Z"
   },
   {
    "duration": 16,
    "start_time": "2025-06-17T09:52:27.760Z"
   },
   {
    "duration": 21,
    "start_time": "2025-06-17T09:52:27.778Z"
   },
   {
    "duration": 1543,
    "start_time": "2025-06-17T09:52:27.800Z"
   },
   {
    "duration": 27,
    "start_time": "2025-06-17T09:52:29.345Z"
   },
   {
    "duration": 2111,
    "start_time": "2025-06-17T09:52:29.373Z"
   },
   {
    "duration": 524,
    "start_time": "2025-06-17T09:52:31.486Z"
   },
   {
    "duration": 18,
    "start_time": "2025-06-17T09:52:32.060Z"
   },
   {
    "duration": 16,
    "start_time": "2025-06-17T09:52:32.080Z"
   },
   {
    "duration": 15,
    "start_time": "2025-06-17T09:52:32.097Z"
   },
   {
    "duration": 111,
    "start_time": "2025-06-17T09:52:32.114Z"
   },
   {
    "duration": 1590,
    "start_time": "2025-06-17T09:52:32.227Z"
   },
   {
    "duration": 458,
    "start_time": "2025-06-17T09:52:33.820Z"
   },
   {
    "duration": 47,
    "start_time": "2025-06-17T09:52:34.280Z"
   },
   {
    "duration": 107,
    "start_time": "2025-06-17T09:52:34.329Z"
   },
   {
    "duration": 26,
    "start_time": "2025-06-17T09:52:34.438Z"
   },
   {
    "duration": 1606,
    "start_time": "2025-06-17T09:52:34.466Z"
   },
   {
    "duration": 437,
    "start_time": "2025-06-17T09:52:36.075Z"
   },
   {
    "duration": 290,
    "start_time": "2025-06-17T09:52:36.515Z"
   },
   {
    "duration": 292,
    "start_time": "2025-06-17T09:52:36.807Z"
   },
   {
    "duration": 1602,
    "start_time": "2025-06-17T09:52:37.101Z"
   },
   {
    "duration": 406,
    "start_time": "2025-06-17T09:52:38.715Z"
   },
   {
    "duration": 46,
    "start_time": "2025-06-17T09:52:39.160Z"
   },
   {
    "duration": 93,
    "start_time": "2025-06-17T09:52:39.207Z"
   },
   {
    "duration": 61,
    "start_time": "2025-06-17T09:52:39.302Z"
   },
   {
    "duration": 2396,
    "start_time": "2025-06-17T09:52:39.364Z"
   },
   {
    "duration": 77,
    "start_time": "2025-06-17T09:52:41.762Z"
   },
   {
    "duration": 29,
    "start_time": "2025-06-17T09:52:41.841Z"
   },
   {
    "duration": 1327,
    "start_time": "2025-06-17T09:52:41.871Z"
   },
   {
    "duration": 427,
    "start_time": "2025-06-17T09:52:43.201Z"
   },
   {
    "duration": 20,
    "start_time": "2025-06-17T09:52:43.630Z"
   },
   {
    "duration": 3978,
    "start_time": "2025-06-17T09:52:43.660Z"
   },
   {
    "duration": 23,
    "start_time": "2025-06-17T09:52:47.639Z"
   },
   {
    "duration": 1466,
    "start_time": "2025-06-17T09:52:47.664Z"
   },
   {
    "duration": 432,
    "start_time": "2025-06-17T09:52:49.135Z"
   },
   {
    "duration": 18,
    "start_time": "2025-06-17T09:52:49.568Z"
   },
   {
    "duration": 68,
    "start_time": "2025-06-17T09:52:49.588Z"
   },
   {
    "duration": 1444,
    "start_time": "2025-06-17T09:52:49.658Z"
   },
   {
    "duration": 396,
    "start_time": "2025-06-17T09:52:51.104Z"
   },
   {
    "duration": 46,
    "start_time": "2025-06-17T09:52:51.502Z"
   },
   {
    "duration": 83,
    "start_time": "2025-06-17T09:52:51.561Z"
   },
   {
    "duration": 93,
    "start_time": "2025-06-17T09:52:51.646Z"
   },
   {
    "duration": 0,
    "start_time": "2025-06-17T09:52:51.741Z"
   },
   {
    "duration": 0,
    "start_time": "2025-06-17T09:52:51.742Z"
   },
   {
    "duration": 0,
    "start_time": "2025-06-17T09:52:51.744Z"
   },
   {
    "duration": 42,
    "start_time": "2025-06-17T09:57:10.020Z"
   },
   {
    "duration": 43,
    "start_time": "2025-06-17T09:58:49.813Z"
   },
   {
    "duration": 82,
    "start_time": "2025-06-17T10:00:02.332Z"
   },
   {
    "duration": 83,
    "start_time": "2025-06-17T10:04:06.868Z"
   },
   {
    "duration": 215,
    "start_time": "2025-06-17T10:05:45.613Z"
   },
   {
    "duration": 38,
    "start_time": "2025-06-17T10:05:53.782Z"
   },
   {
    "duration": 40,
    "start_time": "2025-06-17T10:10:11.082Z"
   },
   {
    "duration": 12,
    "start_time": "2025-06-17T10:13:23.171Z"
   },
   {
    "duration": 1380,
    "start_time": "2025-06-17T10:13:58.971Z"
   },
   {
    "duration": 301,
    "start_time": "2025-06-17T10:14:40.539Z"
   },
   {
    "duration": 11209,
    "start_time": "2025-06-17T16:52:51.215Z"
   },
   {
    "duration": 4646,
    "start_time": "2025-06-17T16:53:02.426Z"
   },
   {
    "duration": 4,
    "start_time": "2025-06-17T16:53:07.074Z"
   },
   {
    "duration": 8,
    "start_time": "2025-06-17T16:53:07.080Z"
   },
   {
    "duration": 7,
    "start_time": "2025-06-17T16:53:07.090Z"
   },
   {
    "duration": 1890,
    "start_time": "2025-06-17T16:53:07.099Z"
   },
   {
    "duration": 1079,
    "start_time": "2025-06-17T16:53:08.992Z"
   },
   {
    "duration": 16,
    "start_time": "2025-06-17T16:53:10.073Z"
   },
   {
    "duration": 15,
    "start_time": "2025-06-17T16:53:10.091Z"
   },
   {
    "duration": 1719,
    "start_time": "2025-06-17T16:53:10.110Z"
   },
   {
    "duration": 42,
    "start_time": "2025-06-17T16:53:11.832Z"
   },
   {
    "duration": 2272,
    "start_time": "2025-06-17T16:53:11.876Z"
   },
   {
    "duration": 551,
    "start_time": "2025-06-17T16:53:14.151Z"
   },
   {
    "duration": 21,
    "start_time": "2025-06-17T16:53:14.704Z"
   },
   {
    "duration": 36,
    "start_time": "2025-06-17T16:53:14.727Z"
   },
   {
    "duration": 40,
    "start_time": "2025-06-17T16:53:14.765Z"
   },
   {
    "duration": 88,
    "start_time": "2025-06-17T16:53:14.806Z"
   },
   {
    "duration": 1772,
    "start_time": "2025-06-17T16:53:14.896Z"
   },
   {
    "duration": 518,
    "start_time": "2025-06-17T16:53:16.670Z"
   },
   {
    "duration": 49,
    "start_time": "2025-06-17T16:53:17.190Z"
   },
   {
    "duration": 114,
    "start_time": "2025-06-17T16:53:17.241Z"
   },
   {
    "duration": 19,
    "start_time": "2025-06-17T16:53:17.364Z"
   },
   {
    "duration": 1837,
    "start_time": "2025-06-17T16:53:17.385Z"
   },
   {
    "duration": 470,
    "start_time": "2025-06-17T16:53:19.224Z"
   },
   {
    "duration": 28,
    "start_time": "2025-06-17T16:53:19.696Z"
   },
   {
    "duration": 207,
    "start_time": "2025-06-17T16:53:19.725Z"
   },
   {
    "duration": 1762,
    "start_time": "2025-06-17T16:53:19.934Z"
   },
   {
    "duration": 499,
    "start_time": "2025-06-17T16:53:21.702Z"
   },
   {
    "duration": 79,
    "start_time": "2025-06-17T16:53:22.203Z"
   },
   {
    "duration": 101,
    "start_time": "2025-06-17T16:53:22.284Z"
   },
   {
    "duration": 41,
    "start_time": "2025-06-17T16:53:22.386Z"
   },
   {
    "duration": 2623,
    "start_time": "2025-06-17T16:53:22.429Z"
   },
   {
    "duration": 99,
    "start_time": "2025-06-17T16:53:25.053Z"
   },
   {
    "duration": 17,
    "start_time": "2025-06-17T16:53:25.173Z"
   },
   {
    "duration": 1429,
    "start_time": "2025-06-17T16:53:25.192Z"
   },
   {
    "duration": 478,
    "start_time": "2025-06-17T16:53:26.624Z"
   },
   {
    "duration": 24,
    "start_time": "2025-06-17T16:53:27.103Z"
   },
   {
    "duration": 4209,
    "start_time": "2025-06-17T16:53:27.130Z"
   },
   {
    "duration": 34,
    "start_time": "2025-06-17T16:53:31.341Z"
   },
   {
    "duration": 1678,
    "start_time": "2025-06-17T16:53:31.378Z"
   },
   {
    "duration": 431,
    "start_time": "2025-06-17T16:53:33.064Z"
   },
   {
    "duration": 22,
    "start_time": "2025-06-17T16:53:33.496Z"
   },
   {
    "duration": 48,
    "start_time": "2025-06-17T16:53:33.560Z"
   },
   {
    "duration": 1635,
    "start_time": "2025-06-17T16:53:33.609Z"
   },
   {
    "duration": 401,
    "start_time": "2025-06-17T16:53:35.245Z"
   },
   {
    "duration": 62,
    "start_time": "2025-06-17T16:53:35.648Z"
   },
   {
    "duration": 131,
    "start_time": "2025-06-17T16:53:35.712Z"
   },
   {
    "duration": 50,
    "start_time": "2025-06-17T16:53:35.844Z"
   },
   {
    "duration": 132,
    "start_time": "2025-06-17T16:53:35.895Z"
   },
   {
    "duration": 98,
    "start_time": "2025-06-17T16:53:36.029Z"
   },
   {
    "duration": 13,
    "start_time": "2025-06-17T16:53:36.129Z"
   },
   {
    "duration": 1371,
    "start_time": "2025-06-17T16:53:36.144Z"
   },
   {
    "duration": 424,
    "start_time": "2025-06-17T16:53:37.517Z"
   },
   {
    "duration": 3,
    "start_time": "2025-06-17T16:53:37.943Z"
   },
   {
    "duration": 56,
    "start_time": "2025-06-17T16:53:37.947Z"
   },
   {
    "duration": 54,
    "start_time": "2025-06-17T17:01:41.071Z"
   },
   {
    "duration": 10878,
    "start_time": "2025-06-17T17:02:06.320Z"
   },
   {
    "duration": 4068,
    "start_time": "2025-06-17T17:02:17.201Z"
   },
   {
    "duration": 3,
    "start_time": "2025-06-17T17:02:21.271Z"
   },
   {
    "duration": 17,
    "start_time": "2025-06-17T17:02:21.276Z"
   },
   {
    "duration": 7,
    "start_time": "2025-06-17T17:02:21.295Z"
   },
   {
    "duration": 2819,
    "start_time": "2025-06-17T17:02:21.304Z"
   },
   {
    "duration": 1016,
    "start_time": "2025-06-17T17:02:24.125Z"
   },
   {
    "duration": 25,
    "start_time": "2025-06-17T17:02:25.143Z"
   },
   {
    "duration": 49,
    "start_time": "2025-06-17T17:02:25.170Z"
   },
   {
    "duration": 1690,
    "start_time": "2025-06-17T17:02:25.222Z"
   },
   {
    "duration": 20,
    "start_time": "2025-06-17T17:02:26.913Z"
   },
   {
    "duration": 2206,
    "start_time": "2025-06-17T17:02:26.934Z"
   },
   {
    "duration": 455,
    "start_time": "2025-06-17T17:02:29.142Z"
   },
   {
    "duration": 20,
    "start_time": "2025-06-17T17:02:29.599Z"
   },
   {
    "duration": 45,
    "start_time": "2025-06-17T17:02:29.620Z"
   },
   {
    "duration": 40,
    "start_time": "2025-06-17T17:02:29.667Z"
   },
   {
    "duration": 85,
    "start_time": "2025-06-17T17:02:29.708Z"
   },
   {
    "duration": 1702,
    "start_time": "2025-06-17T17:02:29.795Z"
   },
   {
    "duration": 481,
    "start_time": "2025-06-17T17:02:31.500Z"
   },
   {
    "duration": 84,
    "start_time": "2025-06-17T17:02:31.984Z"
   },
   {
    "duration": 104,
    "start_time": "2025-06-17T17:02:32.070Z"
   },
   {
    "duration": 19,
    "start_time": "2025-06-17T17:02:32.176Z"
   },
   {
    "duration": 1689,
    "start_time": "2025-06-17T17:02:32.197Z"
   },
   {
    "duration": 442,
    "start_time": "2025-06-17T17:02:33.889Z"
   },
   {
    "duration": 43,
    "start_time": "2025-06-17T17:02:34.333Z"
   },
   {
    "duration": 189,
    "start_time": "2025-06-17T17:02:34.377Z"
   },
   {
    "duration": 1764,
    "start_time": "2025-06-17T17:02:34.568Z"
   },
   {
    "duration": 431,
    "start_time": "2025-06-17T17:02:36.337Z"
   },
   {
    "duration": 46,
    "start_time": "2025-06-17T17:02:36.770Z"
   },
   {
    "duration": 99,
    "start_time": "2025-06-17T17:02:36.818Z"
   },
   {
    "duration": 55,
    "start_time": "2025-06-17T17:02:36.919Z"
   },
   {
    "duration": 2515,
    "start_time": "2025-06-17T17:02:36.976Z"
   },
   {
    "duration": 98,
    "start_time": "2025-06-17T17:02:39.493Z"
   },
   {
    "duration": 18,
    "start_time": "2025-06-17T17:02:39.593Z"
   },
   {
    "duration": 1371,
    "start_time": "2025-06-17T17:02:39.613Z"
   },
   {
    "duration": 414,
    "start_time": "2025-06-17T17:02:40.987Z"
   },
   {
    "duration": 24,
    "start_time": "2025-06-17T17:02:41.403Z"
   },
   {
    "duration": 4024,
    "start_time": "2025-06-17T17:02:41.428Z"
   },
   {
    "duration": 19,
    "start_time": "2025-06-17T17:02:45.454Z"
   },
   {
    "duration": 1597,
    "start_time": "2025-06-17T17:02:45.475Z"
   },
   {
    "duration": 429,
    "start_time": "2025-06-17T17:02:47.075Z"
   },
   {
    "duration": 74,
    "start_time": "2025-06-17T17:02:47.505Z"
   },
   {
    "duration": 77,
    "start_time": "2025-06-17T17:02:47.581Z"
   },
   {
    "duration": 1587,
    "start_time": "2025-06-17T17:02:47.660Z"
   },
   {
    "duration": 461,
    "start_time": "2025-06-17T17:02:49.249Z"
   },
   {
    "duration": 58,
    "start_time": "2025-06-17T17:02:49.712Z"
   },
   {
    "duration": 97,
    "start_time": "2025-06-17T17:02:49.772Z"
   },
   {
    "duration": 47,
    "start_time": "2025-06-17T17:02:49.871Z"
   },
   {
    "duration": 146,
    "start_time": "2025-06-17T17:02:49.920Z"
   },
   {
    "duration": 95,
    "start_time": "2025-06-17T17:02:50.068Z"
   },
   {
    "duration": 14,
    "start_time": "2025-06-17T17:02:50.165Z"
   },
   {
    "duration": 1322,
    "start_time": "2025-06-17T17:02:50.181Z"
   },
   {
    "duration": 418,
    "start_time": "2025-06-17T17:02:51.504Z"
   },
   {
    "duration": 280,
    "start_time": "2025-06-17T17:02:51.961Z"
   },
   {
    "duration": 0,
    "start_time": "2025-06-17T17:02:52.243Z"
   },
   {
    "duration": 0,
    "start_time": "2025-06-17T17:02:52.244Z"
   },
   {
    "duration": 7906,
    "start_time": "2025-06-17T17:05:42.081Z"
   },
   {
    "duration": 27,
    "start_time": "2025-06-17T18:09:44.730Z"
   },
   {
    "duration": 418,
    "start_time": "2025-06-17T18:10:40.343Z"
   },
   {
    "duration": 341,
    "start_time": "2025-06-17T18:12:28.047Z"
   },
   {
    "duration": 105,
    "start_time": "2025-06-17T18:17:15.851Z"
   },
   {
    "duration": 12,
    "start_time": "2025-06-17T18:22:57.494Z"
   },
   {
    "duration": 6,
    "start_time": "2025-06-17T18:46:07.500Z"
   },
   {
    "duration": 4052,
    "start_time": "2025-06-17T18:47:19.652Z"
   },
   {
    "duration": 13892,
    "start_time": "2025-06-17T19:44:32.622Z"
   },
   {
    "duration": 2060,
    "start_time": "2025-06-17T19:44:46.517Z"
   },
   {
    "duration": 3,
    "start_time": "2025-06-17T19:44:48.579Z"
   },
   {
    "duration": 13,
    "start_time": "2025-06-17T19:44:48.584Z"
   },
   {
    "duration": 7,
    "start_time": "2025-06-17T19:44:48.599Z"
   },
   {
    "duration": 1864,
    "start_time": "2025-06-17T19:44:48.608Z"
   },
   {
    "duration": 1021,
    "start_time": "2025-06-17T19:44:50.474Z"
   },
   {
    "duration": 16,
    "start_time": "2025-06-17T19:44:51.496Z"
   },
   {
    "duration": 15,
    "start_time": "2025-06-17T19:44:51.514Z"
   },
   {
    "duration": 1730,
    "start_time": "2025-06-17T19:44:51.532Z"
   },
   {
    "duration": 19,
    "start_time": "2025-06-17T19:44:53.264Z"
   },
   {
    "duration": 2258,
    "start_time": "2025-06-17T19:44:53.285Z"
   },
   {
    "duration": 465,
    "start_time": "2025-06-17T19:44:55.545Z"
   },
   {
    "duration": 54,
    "start_time": "2025-06-17T19:44:56.011Z"
   },
   {
    "duration": 28,
    "start_time": "2025-06-17T19:44:56.067Z"
   },
   {
    "duration": 18,
    "start_time": "2025-06-17T19:44:56.098Z"
   },
   {
    "duration": 116,
    "start_time": "2025-06-17T19:44:56.118Z"
   },
   {
    "duration": 1724,
    "start_time": "2025-06-17T19:44:56.237Z"
   },
   {
    "duration": 465,
    "start_time": "2025-06-17T19:44:57.964Z"
   },
   {
    "duration": 70,
    "start_time": "2025-06-17T19:44:58.432Z"
   },
   {
    "duration": 111,
    "start_time": "2025-06-17T19:44:58.504Z"
   },
   {
    "duration": 20,
    "start_time": "2025-06-17T19:44:58.617Z"
   },
   {
    "duration": 1706,
    "start_time": "2025-06-17T19:44:58.640Z"
   },
   {
    "duration": 415,
    "start_time": "2025-06-17T19:45:00.349Z"
   },
   {
    "duration": 30,
    "start_time": "2025-06-17T19:45:00.766Z"
   },
   {
    "duration": 210,
    "start_time": "2025-06-17T19:45:00.797Z"
   },
   {
    "duration": 1739,
    "start_time": "2025-06-17T19:45:01.009Z"
   },
   {
    "duration": 466,
    "start_time": "2025-06-17T19:45:02.762Z"
   },
   {
    "duration": 65,
    "start_time": "2025-06-17T19:45:03.230Z"
   },
   {
    "duration": 96,
    "start_time": "2025-06-17T19:45:03.297Z"
   },
   {
    "duration": 41,
    "start_time": "2025-06-17T19:45:03.395Z"
   },
   {
    "duration": 2553,
    "start_time": "2025-06-17T19:45:03.437Z"
   },
   {
    "duration": 101,
    "start_time": "2025-06-17T19:45:05.992Z"
   },
   {
    "duration": 18,
    "start_time": "2025-06-17T19:45:06.095Z"
   },
   {
    "duration": 1373,
    "start_time": "2025-06-17T19:45:06.114Z"
   },
   {
    "duration": 449,
    "start_time": "2025-06-17T19:45:07.488Z"
   },
   {
    "duration": 35,
    "start_time": "2025-06-17T19:45:07.939Z"
   },
   {
    "duration": 4184,
    "start_time": "2025-06-17T19:45:07.976Z"
   },
   {
    "duration": 15,
    "start_time": "2025-06-17T19:45:12.162Z"
   },
   {
    "duration": 1575,
    "start_time": "2025-06-17T19:45:12.179Z"
   },
   {
    "duration": 421,
    "start_time": "2025-06-17T19:45:13.756Z"
   },
   {
    "duration": 22,
    "start_time": "2025-06-17T19:45:14.179Z"
   },
   {
    "duration": 17,
    "start_time": "2025-06-17T19:45:14.203Z"
   },
   {
    "duration": 1473,
    "start_time": "2025-06-17T19:45:14.222Z"
   },
   {
    "duration": 406,
    "start_time": "2025-06-17T19:45:15.697Z"
   },
   {
    "duration": 56,
    "start_time": "2025-06-17T19:45:16.105Z"
   },
   {
    "duration": 97,
    "start_time": "2025-06-17T19:45:16.164Z"
   },
   {
    "duration": 39,
    "start_time": "2025-06-17T19:45:16.264Z"
   },
   {
    "duration": 65,
    "start_time": "2025-06-17T19:45:16.304Z"
   },
   {
    "duration": 95,
    "start_time": "2025-06-17T19:45:16.371Z"
   },
   {
    "duration": 15,
    "start_time": "2025-06-17T19:45:16.468Z"
   },
   {
    "duration": 1437,
    "start_time": "2025-06-17T19:45:16.485Z"
   },
   {
    "duration": 379,
    "start_time": "2025-06-17T19:45:17.924Z"
   },
   {
    "duration": 7774,
    "start_time": "2025-06-17T19:45:18.305Z"
   },
   {
    "duration": 28,
    "start_time": "2025-06-17T19:45:26.081Z"
   },
   {
    "duration": 438,
    "start_time": "2025-06-17T19:45:26.111Z"
   },
   {
    "duration": 366,
    "start_time": "2025-06-17T19:45:26.551Z"
   },
   {
    "duration": 90,
    "start_time": "2025-06-17T19:45:26.919Z"
   },
   {
    "duration": 13,
    "start_time": "2025-06-17T19:45:27.011Z"
   },
   {
    "duration": 9,
    "start_time": "2025-06-17T19:45:27.026Z"
   },
   {
    "duration": 4253,
    "start_time": "2025-06-17T19:45:27.037Z"
   },
   {
    "duration": 269,
    "start_time": "2025-06-17T19:46:21.880Z"
   },
   {
    "duration": 13576,
    "start_time": "2025-06-17T19:51:28.095Z"
   },
   {
    "duration": 2320,
    "start_time": "2025-06-17T19:51:41.674Z"
   },
   {
    "duration": 2,
    "start_time": "2025-06-17T19:51:43.996Z"
   },
   {
    "duration": 5,
    "start_time": "2025-06-17T19:51:44.001Z"
   },
   {
    "duration": 7,
    "start_time": "2025-06-17T19:51:44.008Z"
   },
   {
    "duration": 1814,
    "start_time": "2025-06-17T19:51:44.016Z"
   },
   {
    "duration": 989,
    "start_time": "2025-06-17T19:51:45.832Z"
   },
   {
    "duration": 16,
    "start_time": "2025-06-17T19:51:46.823Z"
   },
   {
    "duration": 32,
    "start_time": "2025-06-17T19:51:46.841Z"
   },
   {
    "duration": 1625,
    "start_time": "2025-06-17T19:51:46.876Z"
   },
   {
    "duration": 19,
    "start_time": "2025-06-17T19:51:48.503Z"
   },
   {
    "duration": 2228,
    "start_time": "2025-06-17T19:51:48.523Z"
   },
   {
    "duration": 513,
    "start_time": "2025-06-17T19:51:50.753Z"
   },
   {
    "duration": 21,
    "start_time": "2025-06-17T19:51:51.268Z"
   },
   {
    "duration": 19,
    "start_time": "2025-06-17T19:51:51.291Z"
   },
   {
    "duration": 49,
    "start_time": "2025-06-17T19:51:51.312Z"
   },
   {
    "duration": 102,
    "start_time": "2025-06-17T19:51:51.364Z"
   },
   {
    "duration": 1734,
    "start_time": "2025-06-17T19:51:51.468Z"
   },
   {
    "duration": 472,
    "start_time": "2025-06-17T19:51:53.205Z"
   },
   {
    "duration": 49,
    "start_time": "2025-06-17T19:51:53.678Z"
   },
   {
    "duration": 138,
    "start_time": "2025-06-17T19:51:53.729Z"
   },
   {
    "duration": 18,
    "start_time": "2025-06-17T19:51:53.869Z"
   },
   {
    "duration": 1690,
    "start_time": "2025-06-17T19:51:53.889Z"
   },
   {
    "duration": 444,
    "start_time": "2025-06-17T19:51:55.582Z"
   },
   {
    "duration": 32,
    "start_time": "2025-06-17T19:51:56.060Z"
   },
   {
    "duration": 206,
    "start_time": "2025-06-17T19:51:56.094Z"
   },
   {
    "duration": 1737,
    "start_time": "2025-06-17T19:51:56.302Z"
   },
   {
    "duration": 419,
    "start_time": "2025-06-17T19:51:58.044Z"
   },
   {
    "duration": 47,
    "start_time": "2025-06-17T19:51:58.464Z"
   },
   {
    "duration": 100,
    "start_time": "2025-06-17T19:51:58.513Z"
   },
   {
    "duration": 49,
    "start_time": "2025-06-17T19:51:58.614Z"
   },
   {
    "duration": 2484,
    "start_time": "2025-06-17T19:51:58.665Z"
   },
   {
    "duration": 93,
    "start_time": "2025-06-17T19:52:01.151Z"
   },
   {
    "duration": 31,
    "start_time": "2025-06-17T19:52:01.246Z"
   },
   {
    "duration": 1385,
    "start_time": "2025-06-17T19:52:01.279Z"
   },
   {
    "duration": 462,
    "start_time": "2025-06-17T19:52:02.666Z"
   },
   {
    "duration": 36,
    "start_time": "2025-06-17T19:52:03.130Z"
   },
   {
    "duration": 4179,
    "start_time": "2025-06-17T19:52:03.168Z"
   },
   {
    "duration": 24,
    "start_time": "2025-06-17T19:52:07.349Z"
   },
   {
    "duration": 1569,
    "start_time": "2025-06-17T19:52:07.374Z"
   },
   {
    "duration": 443,
    "start_time": "2025-06-17T19:52:08.945Z"
   },
   {
    "duration": 21,
    "start_time": "2025-06-17T19:52:09.390Z"
   },
   {
    "duration": 17,
    "start_time": "2025-06-17T19:52:09.413Z"
   },
   {
    "duration": 1454,
    "start_time": "2025-06-17T19:52:09.431Z"
   },
   {
    "duration": 404,
    "start_time": "2025-06-17T19:52:10.887Z"
   },
   {
    "duration": 47,
    "start_time": "2025-06-17T19:52:11.293Z"
   },
   {
    "duration": 97,
    "start_time": "2025-06-17T19:52:11.342Z"
   },
   {
    "duration": 46,
    "start_time": "2025-06-17T19:52:11.441Z"
   },
   {
    "duration": 44,
    "start_time": "2025-06-17T19:52:11.489Z"
   },
   {
    "duration": 99,
    "start_time": "2025-06-17T19:52:11.535Z"
   },
   {
    "duration": 26,
    "start_time": "2025-06-17T19:52:11.636Z"
   },
   {
    "duration": 1441,
    "start_time": "2025-06-17T19:52:11.664Z"
   },
   {
    "duration": 383,
    "start_time": "2025-06-17T19:52:13.107Z"
   },
   {
    "duration": 7812,
    "start_time": "2025-06-17T19:52:13.492Z"
   },
   {
    "duration": 28,
    "start_time": "2025-06-17T19:52:21.305Z"
   },
   {
    "duration": 449,
    "start_time": "2025-06-17T19:52:21.335Z"
   },
   {
    "duration": 361,
    "start_time": "2025-06-17T19:52:21.786Z"
   },
   {
    "duration": 87,
    "start_time": "2025-06-17T19:52:22.149Z"
   },
   {
    "duration": 49,
    "start_time": "2025-06-17T19:52:22.238Z"
   },
   {
    "duration": 7,
    "start_time": "2025-06-17T19:52:22.289Z"
   },
   {
    "duration": 4176,
    "start_time": "2025-06-17T19:52:22.297Z"
   },
   {
    "duration": 119,
    "start_time": "2025-06-17T19:57:55.254Z"
   },
   {
    "duration": 65,
    "start_time": "2025-06-17T19:58:05.400Z"
   },
   {
    "duration": 13612,
    "start_time": "2025-06-17T19:58:25.150Z"
   },
   {
    "duration": 2281,
    "start_time": "2025-06-17T19:58:38.764Z"
   },
   {
    "duration": 3,
    "start_time": "2025-06-17T19:58:41.046Z"
   },
   {
    "duration": 3,
    "start_time": "2025-06-17T19:58:41.060Z"
   },
   {
    "duration": 8,
    "start_time": "2025-06-17T19:58:41.065Z"
   },
   {
    "duration": 1766,
    "start_time": "2025-06-17T19:58:41.074Z"
   },
   {
    "duration": 992,
    "start_time": "2025-06-17T19:58:42.842Z"
   },
   {
    "duration": 15,
    "start_time": "2025-06-17T19:58:43.835Z"
   },
   {
    "duration": 15,
    "start_time": "2025-06-17T19:58:43.860Z"
   },
   {
    "duration": 1628,
    "start_time": "2025-06-17T19:58:43.877Z"
   },
   {
    "duration": 19,
    "start_time": "2025-06-17T19:58:45.507Z"
   },
   {
    "duration": 2255,
    "start_time": "2025-06-17T19:58:45.528Z"
   },
   {
    "duration": 487,
    "start_time": "2025-06-17T19:58:47.785Z"
   },
   {
    "duration": 22,
    "start_time": "2025-06-17T19:58:48.274Z"
   },
   {
    "duration": 19,
    "start_time": "2025-06-17T19:58:48.298Z"
   },
   {
    "duration": 42,
    "start_time": "2025-06-17T19:58:48.320Z"
   },
   {
    "duration": 101,
    "start_time": "2025-06-17T19:58:48.364Z"
   },
   {
    "duration": 1737,
    "start_time": "2025-06-17T19:58:48.467Z"
   },
   {
    "duration": 468,
    "start_time": "2025-06-17T19:58:50.206Z"
   },
   {
    "duration": 49,
    "start_time": "2025-06-17T19:58:50.676Z"
   },
   {
    "duration": 115,
    "start_time": "2025-06-17T19:58:50.727Z"
   },
   {
    "duration": 32,
    "start_time": "2025-06-17T19:58:50.845Z"
   },
   {
    "duration": 1698,
    "start_time": "2025-06-17T19:58:50.879Z"
   },
   {
    "duration": 435,
    "start_time": "2025-06-17T19:58:52.579Z"
   },
   {
    "duration": 47,
    "start_time": "2025-06-17T19:58:53.016Z"
   },
   {
    "duration": 203,
    "start_time": "2025-06-17T19:58:53.065Z"
   },
   {
    "duration": 1720,
    "start_time": "2025-06-17T19:58:53.270Z"
   },
   {
    "duration": 416,
    "start_time": "2025-06-17T19:58:54.995Z"
   },
   {
    "duration": 66,
    "start_time": "2025-06-17T19:58:55.413Z"
   },
   {
    "duration": 96,
    "start_time": "2025-06-17T19:58:55.481Z"
   },
   {
    "duration": 41,
    "start_time": "2025-06-17T19:58:55.579Z"
   },
   {
    "duration": 2492,
    "start_time": "2025-06-17T19:58:55.622Z"
   },
   {
    "duration": 98,
    "start_time": "2025-06-17T19:58:58.116Z"
   },
   {
    "duration": 18,
    "start_time": "2025-06-17T19:58:58.216Z"
   },
   {
    "duration": 1400,
    "start_time": "2025-06-17T19:58:58.236Z"
   },
   {
    "duration": 392,
    "start_time": "2025-06-17T19:58:59.638Z"
   },
   {
    "duration": 43,
    "start_time": "2025-06-17T19:59:00.032Z"
   },
   {
    "duration": 4107,
    "start_time": "2025-06-17T19:59:00.077Z"
   },
   {
    "duration": 15,
    "start_time": "2025-06-17T19:59:04.185Z"
   },
   {
    "duration": 1634,
    "start_time": "2025-06-17T19:59:04.202Z"
   },
   {
    "duration": 448,
    "start_time": "2025-06-17T19:59:05.837Z"
   },
   {
    "duration": 21,
    "start_time": "2025-06-17T19:59:06.287Z"
   },
   {
    "duration": 19,
    "start_time": "2025-06-17T19:59:06.310Z"
   },
   {
    "duration": 1458,
    "start_time": "2025-06-17T19:59:06.331Z"
   },
   {
    "duration": 403,
    "start_time": "2025-06-17T19:59:07.791Z"
   },
   {
    "duration": 46,
    "start_time": "2025-06-17T19:59:08.195Z"
   },
   {
    "duration": 147,
    "start_time": "2025-06-17T19:59:08.243Z"
   },
   {
    "duration": 40,
    "start_time": "2025-06-17T19:59:08.392Z"
   },
   {
    "duration": 64,
    "start_time": "2025-06-17T19:59:08.434Z"
   },
   {
    "duration": 97,
    "start_time": "2025-06-17T19:59:08.501Z"
   },
   {
    "duration": 14,
    "start_time": "2025-06-17T19:59:08.601Z"
   },
   {
    "duration": 1492,
    "start_time": "2025-06-17T19:59:08.618Z"
   },
   {
    "duration": 386,
    "start_time": "2025-06-17T19:59:10.112Z"
   },
   {
    "duration": 7778,
    "start_time": "2025-06-17T19:59:10.500Z"
   },
   {
    "duration": 28,
    "start_time": "2025-06-17T19:59:18.280Z"
   },
   {
    "duration": 445,
    "start_time": "2025-06-17T19:59:18.310Z"
   },
   {
    "duration": 381,
    "start_time": "2025-06-17T19:59:18.757Z"
   },
   {
    "duration": 89,
    "start_time": "2025-06-17T19:59:19.140Z"
   },
   {
    "duration": 12,
    "start_time": "2025-06-17T19:59:19.231Z"
   },
   {
    "duration": 51,
    "start_time": "2025-06-17T19:59:19.244Z"
   },
   {
    "duration": 4194,
    "start_time": "2025-06-17T19:59:19.297Z"
   },
   {
    "duration": 51,
    "start_time": "2025-06-17T20:08:02.867Z"
   },
   {
    "duration": 13351,
    "start_time": "2025-06-17T20:08:14.175Z"
   },
   {
    "duration": 2271,
    "start_time": "2025-06-17T20:08:27.529Z"
   },
   {
    "duration": 3,
    "start_time": "2025-06-17T20:08:29.802Z"
   },
   {
    "duration": 14,
    "start_time": "2025-06-17T20:08:29.807Z"
   },
   {
    "duration": 18,
    "start_time": "2025-06-17T20:08:29.823Z"
   },
   {
    "duration": 1944,
    "start_time": "2025-06-17T20:08:29.843Z"
   },
   {
    "duration": 1004,
    "start_time": "2025-06-17T20:08:31.790Z"
   },
   {
    "duration": 15,
    "start_time": "2025-06-17T20:08:32.796Z"
   },
   {
    "duration": 14,
    "start_time": "2025-06-17T20:08:32.813Z"
   },
   {
    "duration": 1809,
    "start_time": "2025-06-17T20:08:32.830Z"
   },
   {
    "duration": 25,
    "start_time": "2025-06-17T20:08:34.641Z"
   },
   {
    "duration": 2184,
    "start_time": "2025-06-17T20:08:34.668Z"
   },
   {
    "duration": 334,
    "start_time": "2025-06-17T20:08:36.854Z"
   },
   {
    "duration": 23,
    "start_time": "2025-06-17T20:08:37.190Z"
   },
   {
    "duration": 19,
    "start_time": "2025-06-17T20:08:37.214Z"
   },
   {
    "duration": 26,
    "start_time": "2025-06-17T20:08:37.235Z"
   },
   {
    "duration": 136,
    "start_time": "2025-06-17T20:08:37.263Z"
   },
   {
    "duration": 2070,
    "start_time": "2025-06-17T20:08:37.401Z"
   },
   {
    "duration": 446,
    "start_time": "2025-06-17T20:08:39.473Z"
   },
   {
    "duration": 70,
    "start_time": "2025-06-17T20:08:39.921Z"
   },
   {
    "duration": 119,
    "start_time": "2025-06-17T20:08:39.992Z"
   },
   {
    "duration": 24,
    "start_time": "2025-06-17T20:08:40.113Z"
   },
   {
    "duration": 1661,
    "start_time": "2025-06-17T20:08:40.138Z"
   },
   {
    "duration": 418,
    "start_time": "2025-06-17T20:08:41.801Z"
   },
   {
    "duration": 62,
    "start_time": "2025-06-17T20:08:42.221Z"
   },
   {
    "duration": 241,
    "start_time": "2025-06-17T20:08:42.285Z"
   },
   {
    "duration": 1672,
    "start_time": "2025-06-17T20:08:42.528Z"
   },
   {
    "duration": 417,
    "start_time": "2025-06-17T20:08:44.205Z"
   },
   {
    "duration": 77,
    "start_time": "2025-06-17T20:08:44.624Z"
   },
   {
    "duration": 116,
    "start_time": "2025-06-17T20:08:44.702Z"
   },
   {
    "duration": 47,
    "start_time": "2025-06-17T20:08:44.820Z"
   },
   {
    "duration": 2431,
    "start_time": "2025-06-17T20:08:44.868Z"
   },
   {
    "duration": 106,
    "start_time": "2025-06-17T20:08:47.302Z"
   },
   {
    "duration": 19,
    "start_time": "2025-06-17T20:08:47.410Z"
   },
   {
    "duration": 1335,
    "start_time": "2025-06-17T20:08:47.431Z"
   },
   {
    "duration": 453,
    "start_time": "2025-06-17T20:08:48.768Z"
   },
   {
    "duration": 25,
    "start_time": "2025-06-17T20:08:49.222Z"
   },
   {
    "duration": 4126,
    "start_time": "2025-06-17T20:08:49.249Z"
   },
   {
    "duration": 15,
    "start_time": "2025-06-17T20:08:53.377Z"
   },
   {
    "duration": 1522,
    "start_time": "2025-06-17T20:08:53.394Z"
   },
   {
    "duration": 407,
    "start_time": "2025-06-17T20:08:54.918Z"
   },
   {
    "duration": 54,
    "start_time": "2025-06-17T20:08:55.327Z"
   },
   {
    "duration": 17,
    "start_time": "2025-06-17T20:08:55.383Z"
   },
   {
    "duration": 1459,
    "start_time": "2025-06-17T20:08:55.401Z"
   },
   {
    "duration": 405,
    "start_time": "2025-06-17T20:08:56.862Z"
   },
   {
    "duration": 44,
    "start_time": "2025-06-17T20:08:57.269Z"
   },
   {
    "duration": 103,
    "start_time": "2025-06-17T20:08:57.315Z"
   },
   {
    "duration": 46,
    "start_time": "2025-06-17T20:08:57.420Z"
   },
   {
    "duration": 55,
    "start_time": "2025-06-17T20:08:57.468Z"
   },
   {
    "duration": 92,
    "start_time": "2025-06-17T20:08:57.525Z"
   },
   {
    "duration": 13,
    "start_time": "2025-06-17T20:08:57.619Z"
   },
   {
    "duration": 1443,
    "start_time": "2025-06-17T20:08:57.634Z"
   },
   {
    "duration": 388,
    "start_time": "2025-06-17T20:08:59.079Z"
   },
   {
    "duration": 7539,
    "start_time": "2025-06-17T20:08:59.469Z"
   },
   {
    "duration": 28,
    "start_time": "2025-06-17T20:09:07.011Z"
   },
   {
    "duration": 447,
    "start_time": "2025-06-17T20:09:07.041Z"
   },
   {
    "duration": 354,
    "start_time": "2025-06-17T20:09:07.489Z"
   },
   {
    "duration": 95,
    "start_time": "2025-06-17T20:09:07.845Z"
   },
   {
    "duration": 21,
    "start_time": "2025-06-17T20:09:07.942Z"
   },
   {
    "duration": 53,
    "start_time": "2025-06-17T20:09:07.965Z"
   },
   {
    "duration": 4071,
    "start_time": "2025-06-17T20:09:08.020Z"
   },
   {
    "duration": 22078,
    "start_time": "2025-06-17T20:15:12.458Z"
   },
   {
    "duration": 2146,
    "start_time": "2025-06-17T20:15:34.539Z"
   },
   {
    "duration": 3,
    "start_time": "2025-06-17T20:15:36.687Z"
   },
   {
    "duration": 92,
    "start_time": "2025-06-17T20:15:36.692Z"
   },
   {
    "duration": 19,
    "start_time": "2025-06-17T20:15:36.786Z"
   },
   {
    "duration": 2241,
    "start_time": "2025-06-17T20:15:36.807Z"
   },
   {
    "duration": 1049,
    "start_time": "2025-06-17T20:15:39.050Z"
   },
   {
    "duration": 15,
    "start_time": "2025-06-17T20:15:40.100Z"
   },
   {
    "duration": 49,
    "start_time": "2025-06-17T20:15:40.117Z"
   },
   {
    "duration": 1613,
    "start_time": "2025-06-17T20:15:40.169Z"
   },
   {
    "duration": 19,
    "start_time": "2025-06-17T20:15:41.784Z"
   },
   {
    "duration": 28,
    "start_time": "2025-06-17T20:15:41.804Z"
   },
   {
    "duration": 330,
    "start_time": "2025-06-17T20:15:41.834Z"
   },
   {
    "duration": 21,
    "start_time": "2025-06-17T20:15:42.166Z"
   },
   {
    "duration": 20,
    "start_time": "2025-06-17T20:15:42.188Z"
   },
   {
    "duration": 18,
    "start_time": "2025-06-17T20:15:42.209Z"
   },
   {
    "duration": 131,
    "start_time": "2025-06-17T20:15:42.229Z"
   },
   {
    "duration": 4,
    "start_time": "2025-06-17T20:15:42.362Z"
   },
   {
    "duration": 299,
    "start_time": "2025-06-17T20:15:42.368Z"
   },
   {
    "duration": 48,
    "start_time": "2025-06-17T20:15:42.669Z"
   },
   {
    "duration": 167,
    "start_time": "2025-06-17T20:15:42.719Z"
   },
   {
    "duration": 0,
    "start_time": "2025-06-17T20:15:42.890Z"
   },
   {
    "duration": 0,
    "start_time": "2025-06-17T20:15:42.890Z"
   },
   {
    "duration": 0,
    "start_time": "2025-06-17T20:15:42.892Z"
   },
   {
    "duration": 0,
    "start_time": "2025-06-17T20:15:42.893Z"
   },
   {
    "duration": 0,
    "start_time": "2025-06-17T20:15:42.894Z"
   },
   {
    "duration": 0,
    "start_time": "2025-06-17T20:15:42.895Z"
   },
   {
    "duration": 0,
    "start_time": "2025-06-17T20:15:42.896Z"
   },
   {
    "duration": 0,
    "start_time": "2025-06-17T20:15:42.897Z"
   },
   {
    "duration": 0,
    "start_time": "2025-06-17T20:15:42.898Z"
   },
   {
    "duration": 0,
    "start_time": "2025-06-17T20:15:42.899Z"
   },
   {
    "duration": 0,
    "start_time": "2025-06-17T20:15:42.900Z"
   },
   {
    "duration": 0,
    "start_time": "2025-06-17T20:15:42.902Z"
   },
   {
    "duration": 0,
    "start_time": "2025-06-17T20:15:42.903Z"
   },
   {
    "duration": 0,
    "start_time": "2025-06-17T20:15:42.904Z"
   },
   {
    "duration": 0,
    "start_time": "2025-06-17T20:15:42.905Z"
   },
   {
    "duration": 0,
    "start_time": "2025-06-17T20:15:42.906Z"
   },
   {
    "duration": 1,
    "start_time": "2025-06-17T20:15:42.907Z"
   },
   {
    "duration": 0,
    "start_time": "2025-06-17T20:15:42.908Z"
   },
   {
    "duration": 0,
    "start_time": "2025-06-17T20:15:42.909Z"
   },
   {
    "duration": 0,
    "start_time": "2025-06-17T20:15:42.911Z"
   },
   {
    "duration": 0,
    "start_time": "2025-06-17T20:15:42.912Z"
   },
   {
    "duration": 0,
    "start_time": "2025-06-17T20:15:42.913Z"
   },
   {
    "duration": 0,
    "start_time": "2025-06-17T20:15:42.914Z"
   },
   {
    "duration": 0,
    "start_time": "2025-06-17T20:15:42.960Z"
   },
   {
    "duration": 0,
    "start_time": "2025-06-17T20:15:42.962Z"
   },
   {
    "duration": 0,
    "start_time": "2025-06-17T20:15:42.963Z"
   },
   {
    "duration": 0,
    "start_time": "2025-06-17T20:15:42.964Z"
   },
   {
    "duration": 0,
    "start_time": "2025-06-17T20:15:42.965Z"
   },
   {
    "duration": 0,
    "start_time": "2025-06-17T20:15:42.966Z"
   },
   {
    "duration": 0,
    "start_time": "2025-06-17T20:15:42.967Z"
   },
   {
    "duration": 0,
    "start_time": "2025-06-17T20:15:42.968Z"
   },
   {
    "duration": 0,
    "start_time": "2025-06-17T20:15:42.969Z"
   },
   {
    "duration": 0,
    "start_time": "2025-06-17T20:15:42.971Z"
   },
   {
    "duration": 0,
    "start_time": "2025-06-17T20:15:42.972Z"
   },
   {
    "duration": 0,
    "start_time": "2025-06-17T20:15:42.973Z"
   },
   {
    "duration": 0,
    "start_time": "2025-06-17T20:15:42.974Z"
   },
   {
    "duration": 0,
    "start_time": "2025-06-17T20:15:42.975Z"
   },
   {
    "duration": 0,
    "start_time": "2025-06-17T20:15:42.977Z"
   },
   {
    "duration": 0,
    "start_time": "2025-06-17T20:15:42.978Z"
   },
   {
    "duration": 0,
    "start_time": "2025-06-17T20:15:42.979Z"
   },
   {
    "duration": 0,
    "start_time": "2025-06-17T20:15:42.980Z"
   },
   {
    "duration": 16762,
    "start_time": "2025-06-17T20:21:21.792Z"
   },
   {
    "duration": 2138,
    "start_time": "2025-06-17T20:21:38.556Z"
   },
   {
    "duration": 3,
    "start_time": "2025-06-17T20:21:40.695Z"
   },
   {
    "duration": 8,
    "start_time": "2025-06-17T20:21:40.700Z"
   },
   {
    "duration": 12,
    "start_time": "2025-06-17T20:21:40.709Z"
   },
   {
    "duration": 1952,
    "start_time": "2025-06-17T20:21:40.722Z"
   },
   {
    "duration": 1003,
    "start_time": "2025-06-17T20:21:42.676Z"
   },
   {
    "duration": 16,
    "start_time": "2025-06-17T20:21:43.681Z"
   },
   {
    "duration": 161,
    "start_time": "2025-06-17T20:21:43.699Z"
   },
   {
    "duration": 1628,
    "start_time": "2025-06-17T20:21:43.863Z"
   },
   {
    "duration": 19,
    "start_time": "2025-06-17T20:21:45.493Z"
   },
   {
    "duration": 2292,
    "start_time": "2025-06-17T20:21:45.514Z"
   },
   {
    "duration": 418,
    "start_time": "2025-06-17T20:21:47.809Z"
   },
   {
    "duration": 23,
    "start_time": "2025-06-17T20:21:48.260Z"
   },
   {
    "duration": 19,
    "start_time": "2025-06-17T20:21:48.284Z"
   },
   {
    "duration": 17,
    "start_time": "2025-06-17T20:21:48.304Z"
   },
   {
    "duration": 123,
    "start_time": "2025-06-17T20:21:48.322Z"
   },
   {
    "duration": 1699,
    "start_time": "2025-06-17T20:21:48.447Z"
   },
   {
    "duration": 465,
    "start_time": "2025-06-17T20:21:50.149Z"
   },
   {
    "duration": 84,
    "start_time": "2025-06-17T20:21:50.616Z"
   },
   {
    "duration": 105,
    "start_time": "2025-06-17T20:21:50.701Z"
   },
   {
    "duration": 33,
    "start_time": "2025-06-17T20:21:50.808Z"
   },
   {
    "duration": 1629,
    "start_time": "2025-06-17T20:21:50.843Z"
   },
   {
    "duration": 425,
    "start_time": "2025-06-17T20:21:52.474Z"
   },
   {
    "duration": 65,
    "start_time": "2025-06-17T20:21:52.901Z"
   },
   {
    "duration": 203,
    "start_time": "2025-06-17T20:21:52.968Z"
   },
   {
    "duration": 1568,
    "start_time": "2025-06-17T20:21:53.173Z"
   },
   {
    "duration": 572,
    "start_time": "2025-06-17T20:21:54.759Z"
   },
   {
    "duration": 49,
    "start_time": "2025-06-17T20:21:55.333Z"
   },
   {
    "duration": 97,
    "start_time": "2025-06-17T20:21:55.384Z"
   },
   {
    "duration": 42,
    "start_time": "2025-06-17T20:21:55.482Z"
   },
   {
    "duration": 2416,
    "start_time": "2025-06-17T20:21:55.526Z"
   },
   {
    "duration": 98,
    "start_time": "2025-06-17T20:21:57.943Z"
   },
   {
    "duration": 26,
    "start_time": "2025-06-17T20:21:58.043Z"
   },
   {
    "duration": 1464,
    "start_time": "2025-06-17T20:21:58.071Z"
   },
   {
    "duration": 393,
    "start_time": "2025-06-17T20:21:59.538Z"
   },
   {
    "duration": 29,
    "start_time": "2025-06-17T20:21:59.933Z"
   },
   {
    "duration": 3844,
    "start_time": "2025-06-17T20:21:59.964Z"
   },
   {
    "duration": 15,
    "start_time": "2025-06-17T20:22:03.810Z"
   },
   {
    "duration": 1562,
    "start_time": "2025-06-17T20:22:03.827Z"
   },
   {
    "duration": 473,
    "start_time": "2025-06-17T20:22:05.391Z"
   },
   {
    "duration": 21,
    "start_time": "2025-06-17T20:22:05.865Z"
   },
   {
    "duration": 16,
    "start_time": "2025-06-17T20:22:05.888Z"
   },
   {
    "duration": 1467,
    "start_time": "2025-06-17T20:22:05.906Z"
   },
   {
    "duration": 394,
    "start_time": "2025-06-17T20:22:07.375Z"
   },
   {
    "duration": 45,
    "start_time": "2025-06-17T20:22:07.770Z"
   },
   {
    "duration": 120,
    "start_time": "2025-06-17T20:22:07.817Z"
   },
   {
    "duration": 40,
    "start_time": "2025-06-17T20:22:07.939Z"
   },
   {
    "duration": 60,
    "start_time": "2025-06-17T20:22:07.981Z"
   },
   {
    "duration": 78,
    "start_time": "2025-06-17T20:22:08.043Z"
   },
   {
    "duration": 13,
    "start_time": "2025-06-17T20:22:08.123Z"
   },
   {
    "duration": 1452,
    "start_time": "2025-06-17T20:22:08.138Z"
   },
   {
    "duration": 354,
    "start_time": "2025-06-17T20:22:09.592Z"
   },
   {
    "duration": 7405,
    "start_time": "2025-06-17T20:22:09.961Z"
   },
   {
    "duration": 26,
    "start_time": "2025-06-17T20:22:17.368Z"
   },
   {
    "duration": 424,
    "start_time": "2025-06-17T20:22:17.396Z"
   },
   {
    "duration": 328,
    "start_time": "2025-06-17T20:22:17.822Z"
   },
   {
    "duration": 77,
    "start_time": "2025-06-17T20:22:18.152Z"
   },
   {
    "duration": 13,
    "start_time": "2025-06-17T20:22:18.231Z"
   },
   {
    "duration": 195,
    "start_time": "2025-06-17T20:22:18.262Z"
   },
   {
    "duration": 1,
    "start_time": "2025-06-17T20:22:18.460Z"
   },
   {
    "duration": 0,
    "start_time": "2025-06-17T20:22:18.462Z"
   },
   {
    "duration": 22298,
    "start_time": "2025-06-17T20:25:37.968Z"
   },
   {
    "duration": 2103,
    "start_time": "2025-06-17T20:26:00.269Z"
   },
   {
    "duration": 3,
    "start_time": "2025-06-17T20:26:02.373Z"
   },
   {
    "duration": 49,
    "start_time": "2025-06-17T20:26:02.378Z"
   },
   {
    "duration": 44,
    "start_time": "2025-06-17T20:26:02.429Z"
   },
   {
    "duration": 2977,
    "start_time": "2025-06-17T20:26:02.475Z"
   },
   {
    "duration": 1064,
    "start_time": "2025-06-17T20:26:05.454Z"
   },
   {
    "duration": 15,
    "start_time": "2025-06-17T20:26:06.520Z"
   },
   {
    "duration": 31,
    "start_time": "2025-06-17T20:26:06.537Z"
   },
   {
    "duration": 1664,
    "start_time": "2025-06-17T20:26:06.571Z"
   },
   {
    "duration": 28,
    "start_time": "2025-06-17T20:26:08.237Z"
   },
   {
    "duration": 2197,
    "start_time": "2025-06-17T20:26:08.267Z"
   },
   {
    "duration": 452,
    "start_time": "2025-06-17T20:26:10.466Z"
   },
   {
    "duration": 46,
    "start_time": "2025-06-17T20:26:10.920Z"
   },
   {
    "duration": 19,
    "start_time": "2025-06-17T20:26:10.968Z"
   },
   {
    "duration": 18,
    "start_time": "2025-06-17T20:26:10.988Z"
   },
   {
    "duration": 119,
    "start_time": "2025-06-17T20:26:11.007Z"
   },
   {
    "duration": 1669,
    "start_time": "2025-06-17T20:26:11.128Z"
   },
   {
    "duration": 423,
    "start_time": "2025-06-17T20:26:12.800Z"
   },
   {
    "duration": 81,
    "start_time": "2025-06-17T20:26:13.225Z"
   },
   {
    "duration": 697,
    "start_time": "2025-06-17T20:26:13.308Z"
   },
   {
    "duration": 18,
    "start_time": "2025-06-17T20:26:14.006Z"
   },
   {
    "duration": 1668,
    "start_time": "2025-06-17T20:26:14.026Z"
   },
   {
    "duration": 418,
    "start_time": "2025-06-17T20:26:15.696Z"
   },
   {
    "duration": 51,
    "start_time": "2025-06-17T20:26:16.116Z"
   },
   {
    "duration": 228,
    "start_time": "2025-06-17T20:26:16.169Z"
   },
   {
    "duration": 1699,
    "start_time": "2025-06-17T20:26:16.400Z"
   },
   {
    "duration": 421,
    "start_time": "2025-06-17T20:26:18.105Z"
   },
   {
    "duration": 50,
    "start_time": "2025-06-17T20:26:18.527Z"
   },
   {
    "duration": 97,
    "start_time": "2025-06-17T20:26:18.579Z"
   },
   {
    "duration": 42,
    "start_time": "2025-06-17T20:26:18.678Z"
   },
   {
    "duration": 2399,
    "start_time": "2025-06-17T20:26:18.722Z"
   },
   {
    "duration": 101,
    "start_time": "2025-06-17T20:26:21.123Z"
   },
   {
    "duration": 19,
    "start_time": "2025-06-17T20:26:21.226Z"
   },
   {
    "duration": 1333,
    "start_time": "2025-06-17T20:26:21.246Z"
   },
   {
    "duration": 411,
    "start_time": "2025-06-17T20:26:22.581Z"
   },
   {
    "duration": 23,
    "start_time": "2025-06-17T20:26:22.994Z"
   },
   {
    "duration": 4030,
    "start_time": "2025-06-17T20:26:23.019Z"
   },
   {
    "duration": 18,
    "start_time": "2025-06-17T20:26:27.051Z"
   },
   {
    "duration": 1513,
    "start_time": "2025-06-17T20:26:27.071Z"
   },
   {
    "duration": 440,
    "start_time": "2025-06-17T20:26:28.586Z"
   },
   {
    "duration": 48,
    "start_time": "2025-06-17T20:26:29.028Z"
   },
   {
    "duration": 18,
    "start_time": "2025-06-17T20:26:29.078Z"
   },
   {
    "duration": 1415,
    "start_time": "2025-06-17T20:26:29.097Z"
   },
   {
    "duration": 368,
    "start_time": "2025-06-17T20:26:30.514Z"
   },
   {
    "duration": 43,
    "start_time": "2025-06-17T20:26:30.884Z"
   },
   {
    "duration": 94,
    "start_time": "2025-06-17T20:26:30.929Z"
   },
   {
    "duration": 50,
    "start_time": "2025-06-17T20:26:31.025Z"
   },
   {
    "duration": 58,
    "start_time": "2025-06-17T20:26:31.077Z"
   },
   {
    "duration": 81,
    "start_time": "2025-06-17T20:26:31.136Z"
   },
   {
    "duration": 14,
    "start_time": "2025-06-17T20:26:31.219Z"
   },
   {
    "duration": 1439,
    "start_time": "2025-06-17T20:26:31.235Z"
   },
   {
    "duration": 384,
    "start_time": "2025-06-17T20:26:32.676Z"
   },
   {
    "duration": 7606,
    "start_time": "2025-06-17T20:26:33.062Z"
   },
   {
    "duration": 27,
    "start_time": "2025-06-17T20:26:40.670Z"
   },
   {
    "duration": 439,
    "start_time": "2025-06-17T20:26:40.699Z"
   },
   {
    "duration": 339,
    "start_time": "2025-06-17T20:26:41.141Z"
   },
   {
    "duration": 93,
    "start_time": "2025-06-17T20:26:41.483Z"
   },
   {
    "duration": 14,
    "start_time": "2025-06-17T20:26:41.578Z"
   },
   {
    "duration": 7,
    "start_time": "2025-06-17T20:26:41.594Z"
   },
   {
    "duration": 4099,
    "start_time": "2025-06-17T20:26:41.603Z"
   },
   {
    "duration": 3,
    "start_time": "2025-06-17T20:31:17.045Z"
   },
   {
    "duration": 18670,
    "start_time": "2025-06-17T20:33:38.199Z"
   },
   {
    "duration": 2788,
    "start_time": "2025-06-17T20:33:56.872Z"
   },
   {
    "duration": 4,
    "start_time": "2025-06-17T20:33:59.662Z"
   },
   {
    "duration": 7,
    "start_time": "2025-06-17T20:33:59.669Z"
   },
   {
    "duration": 11,
    "start_time": "2025-06-17T20:33:59.678Z"
   },
   {
    "duration": 1575,
    "start_time": "2025-06-17T20:33:59.690Z"
   },
   {
    "duration": 952,
    "start_time": "2025-06-17T20:34:01.267Z"
   },
   {
    "duration": 15,
    "start_time": "2025-06-17T20:34:02.221Z"
   },
   {
    "duration": 28,
    "start_time": "2025-06-17T20:34:02.238Z"
   },
   {
    "duration": 1585,
    "start_time": "2025-06-17T20:34:02.269Z"
   },
   {
    "duration": 18,
    "start_time": "2025-06-17T20:34:03.860Z"
   },
   {
    "duration": 2211,
    "start_time": "2025-06-17T20:34:03.879Z"
   },
   {
    "duration": 480,
    "start_time": "2025-06-17T20:34:06.092Z"
   },
   {
    "duration": 21,
    "start_time": "2025-06-17T20:34:06.574Z"
   },
   {
    "duration": 20,
    "start_time": "2025-06-17T20:34:06.597Z"
   },
   {
    "duration": 43,
    "start_time": "2025-06-17T20:34:06.619Z"
   },
   {
    "duration": 115,
    "start_time": "2025-06-17T20:34:06.664Z"
   },
   {
    "duration": 1682,
    "start_time": "2025-06-17T20:34:06.781Z"
   },
   {
    "duration": 454,
    "start_time": "2025-06-17T20:34:08.465Z"
   },
   {
    "duration": 63,
    "start_time": "2025-06-17T20:34:08.921Z"
   },
   {
    "duration": 124,
    "start_time": "2025-06-17T20:34:08.986Z"
   },
   {
    "duration": 18,
    "start_time": "2025-06-17T20:34:09.112Z"
   },
   {
    "duration": 1661,
    "start_time": "2025-06-17T20:34:09.131Z"
   },
   {
    "duration": 419,
    "start_time": "2025-06-17T20:34:10.794Z"
   },
   {
    "duration": 67,
    "start_time": "2025-06-17T20:34:11.214Z"
   },
   {
    "duration": 202,
    "start_time": "2025-06-17T20:34:11.283Z"
   },
   {
    "duration": 1692,
    "start_time": "2025-06-17T20:34:11.487Z"
   },
   {
    "duration": 426,
    "start_time": "2025-06-17T20:34:13.185Z"
   },
   {
    "duration": 77,
    "start_time": "2025-06-17T20:34:13.613Z"
   },
   {
    "duration": 95,
    "start_time": "2025-06-17T20:34:13.692Z"
   },
   {
    "duration": 41,
    "start_time": "2025-06-17T20:34:13.788Z"
   },
   {
    "duration": 2431,
    "start_time": "2025-06-17T20:34:13.831Z"
   },
   {
    "duration": 96,
    "start_time": "2025-06-17T20:34:16.264Z"
   },
   {
    "duration": 17,
    "start_time": "2025-06-17T20:34:16.362Z"
   },
   {
    "duration": 1305,
    "start_time": "2025-06-17T20:34:16.381Z"
   },
   {
    "duration": 413,
    "start_time": "2025-06-17T20:34:17.688Z"
   },
   {
    "duration": 24,
    "start_time": "2025-06-17T20:34:18.103Z"
   },
   {
    "duration": 4060,
    "start_time": "2025-06-17T20:34:18.128Z"
   },
   {
    "duration": 15,
    "start_time": "2025-06-17T20:34:22.190Z"
   },
   {
    "duration": 1522,
    "start_time": "2025-06-17T20:34:22.207Z"
   },
   {
    "duration": 396,
    "start_time": "2025-06-17T20:34:23.732Z"
   },
   {
    "duration": 21,
    "start_time": "2025-06-17T20:34:24.161Z"
   },
   {
    "duration": 31,
    "start_time": "2025-06-17T20:34:24.184Z"
   },
   {
    "duration": 1390,
    "start_time": "2025-06-17T20:34:24.217Z"
   },
   {
    "duration": 399,
    "start_time": "2025-06-17T20:34:25.609Z"
   },
   {
    "duration": 56,
    "start_time": "2025-06-17T20:34:26.010Z"
   },
   {
    "duration": 83,
    "start_time": "2025-06-17T20:34:26.068Z"
   },
   {
    "duration": 37,
    "start_time": "2025-06-17T20:34:26.159Z"
   },
   {
    "duration": 60,
    "start_time": "2025-06-17T20:34:26.198Z"
   },
   {
    "duration": 81,
    "start_time": "2025-06-17T20:34:26.260Z"
   },
   {
    "duration": 28,
    "start_time": "2025-06-17T20:34:26.343Z"
   },
   {
    "duration": 1413,
    "start_time": "2025-06-17T20:34:26.373Z"
   },
   {
    "duration": 384,
    "start_time": "2025-06-17T20:34:27.788Z"
   },
   {
    "duration": 7525,
    "start_time": "2025-06-17T20:34:28.174Z"
   },
   {
    "duration": 28,
    "start_time": "2025-06-17T20:34:35.702Z"
   },
   {
    "duration": 449,
    "start_time": "2025-06-17T20:34:35.734Z"
   },
   {
    "duration": 349,
    "start_time": "2025-06-17T20:34:36.185Z"
   },
   {
    "duration": 86,
    "start_time": "2025-06-17T20:34:36.536Z"
   },
   {
    "duration": 13,
    "start_time": "2025-06-17T20:34:36.623Z"
   },
   {
    "duration": 6,
    "start_time": "2025-06-17T20:34:36.638Z"
   },
   {
    "duration": 4122,
    "start_time": "2025-06-17T20:34:36.660Z"
   },
   {
    "duration": 3,
    "start_time": "2025-06-17T20:34:40.784Z"
   },
   {
    "duration": 24516,
    "start_time": "2025-06-17T20:35:30.965Z"
   },
   {
    "duration": 204,
    "start_time": "2025-06-17T20:37:03.797Z"
   },
   {
    "duration": 15,
    "start_time": "2025-06-17T20:38:12.877Z"
   },
   {
    "duration": 19832,
    "start_time": "2025-06-17T20:38:27.046Z"
   },
   {
    "duration": 2120,
    "start_time": "2025-06-17T20:38:46.881Z"
   },
   {
    "duration": 3,
    "start_time": "2025-06-17T20:38:49.003Z"
   },
   {
    "duration": 20,
    "start_time": "2025-06-17T20:38:49.007Z"
   },
   {
    "duration": 11,
    "start_time": "2025-06-17T20:38:49.031Z"
   },
   {
    "duration": 1948,
    "start_time": "2025-06-17T20:38:49.045Z"
   },
   {
    "duration": 1021,
    "start_time": "2025-06-17T20:38:50.994Z"
   },
   {
    "duration": 15,
    "start_time": "2025-06-17T20:38:52.017Z"
   },
   {
    "duration": 41,
    "start_time": "2025-06-17T20:38:52.033Z"
   },
   {
    "duration": 1644,
    "start_time": "2025-06-17T20:38:52.077Z"
   },
   {
    "duration": 18,
    "start_time": "2025-06-17T20:38:53.723Z"
   },
   {
    "duration": 2527,
    "start_time": "2025-06-17T20:38:53.743Z"
   },
   {
    "duration": 544,
    "start_time": "2025-06-17T20:38:56.273Z"
   },
   {
    "duration": 61,
    "start_time": "2025-06-17T20:38:56.820Z"
   },
   {
    "duration": 32,
    "start_time": "2025-06-17T20:38:56.884Z"
   },
   {
    "duration": 19,
    "start_time": "2025-06-17T20:38:56.918Z"
   },
   {
    "duration": 130,
    "start_time": "2025-06-17T20:38:56.939Z"
   },
   {
    "duration": 1869,
    "start_time": "2025-06-17T20:38:57.072Z"
   },
   {
    "duration": 553,
    "start_time": "2025-06-17T20:38:58.943Z"
   },
   {
    "duration": 70,
    "start_time": "2025-06-17T20:38:59.498Z"
   },
   {
    "duration": 108,
    "start_time": "2025-06-17T20:38:59.573Z"
   },
   {
    "duration": 18,
    "start_time": "2025-06-17T20:38:59.682Z"
   },
   {
    "duration": 1785,
    "start_time": "2025-06-17T20:38:59.702Z"
   },
   {
    "duration": 537,
    "start_time": "2025-06-17T20:39:01.490Z"
   },
   {
    "duration": 46,
    "start_time": "2025-06-17T20:39:02.029Z"
   },
   {
    "duration": 237,
    "start_time": "2025-06-17T20:39:02.077Z"
   },
   {
    "duration": 1898,
    "start_time": "2025-06-17T20:39:02.316Z"
   },
   {
    "duration": 485,
    "start_time": "2025-06-17T20:39:04.219Z"
   },
   {
    "duration": 89,
    "start_time": "2025-06-17T20:39:04.706Z"
   },
   {
    "duration": 105,
    "start_time": "2025-06-17T20:39:04.796Z"
   },
   {
    "duration": 44,
    "start_time": "2025-06-17T20:39:04.902Z"
   },
   {
    "duration": 2824,
    "start_time": "2025-06-17T20:39:04.947Z"
   },
   {
    "duration": 116,
    "start_time": "2025-06-17T20:39:07.774Z"
   },
   {
    "duration": 18,
    "start_time": "2025-06-17T20:39:07.892Z"
   },
   {
    "duration": 1575,
    "start_time": "2025-06-17T20:39:07.912Z"
   },
   {
    "duration": 498,
    "start_time": "2025-06-17T20:39:09.490Z"
   },
   {
    "duration": 25,
    "start_time": "2025-06-17T20:39:09.990Z"
   },
   {
    "duration": 4670,
    "start_time": "2025-06-17T20:39:10.017Z"
   },
   {
    "duration": 16,
    "start_time": "2025-06-17T20:39:14.689Z"
   },
   {
    "duration": 1792,
    "start_time": "2025-06-17T20:39:14.707Z"
   },
   {
    "duration": 566,
    "start_time": "2025-06-17T20:39:16.502Z"
   },
   {
    "duration": 29,
    "start_time": "2025-06-17T20:39:17.073Z"
   },
   {
    "duration": 17,
    "start_time": "2025-06-17T20:39:17.104Z"
   },
   {
    "duration": 1615,
    "start_time": "2025-06-17T20:39:17.122Z"
   },
   {
    "duration": 537,
    "start_time": "2025-06-17T20:39:18.739Z"
   },
   {
    "duration": 49,
    "start_time": "2025-06-17T20:39:19.282Z"
   },
   {
    "duration": 107,
    "start_time": "2025-06-17T20:39:19.333Z"
   },
   {
    "duration": 60,
    "start_time": "2025-06-17T20:39:19.442Z"
   },
   {
    "duration": 59,
    "start_time": "2025-06-17T20:39:19.504Z"
   },
   {
    "duration": 105,
    "start_time": "2025-06-17T20:39:19.567Z"
   },
   {
    "duration": 22,
    "start_time": "2025-06-17T20:39:19.675Z"
   },
   {
    "duration": 1554,
    "start_time": "2025-06-17T20:39:19.698Z"
   },
   {
    "duration": 494,
    "start_time": "2025-06-17T20:39:21.254Z"
   },
   {
    "duration": 8585,
    "start_time": "2025-06-17T20:39:21.749Z"
   },
   {
    "duration": 56,
    "start_time": "2025-06-17T20:39:30.336Z"
   },
   {
    "duration": 493,
    "start_time": "2025-06-17T20:39:30.394Z"
   },
   {
    "duration": 370,
    "start_time": "2025-06-17T20:39:30.889Z"
   },
   {
    "duration": 86,
    "start_time": "2025-06-17T20:39:31.271Z"
   },
   {
    "duration": 19,
    "start_time": "2025-06-17T20:39:31.360Z"
   },
   {
    "duration": 7,
    "start_time": "2025-06-17T20:39:31.381Z"
   },
   {
    "duration": 4442,
    "start_time": "2025-06-17T20:39:31.390Z"
   },
   {
    "duration": 72749,
    "start_time": "2025-06-17T20:39:35.834Z"
   },
   {
    "duration": 271690,
    "start_time": "2025-06-17T20:40:48.586Z"
   },
   {
    "duration": 1669,
    "start_time": "2025-06-17T20:46:40.509Z"
   },
   {
    "duration": 3478898,
    "start_time": "2025-06-17T20:56:16.473Z"
   },
   {
    "duration": 0,
    "start_time": "2025-06-17T21:54:15.375Z"
   },
   {
    "duration": 0,
    "start_time": "2025-06-17T21:54:15.379Z"
   },
   {
    "duration": 0,
    "start_time": "2025-06-17T21:54:15.382Z"
   },
   {
    "duration": 19016,
    "start_time": "2025-06-17T21:58:47.460Z"
   },
   {
    "duration": 2082,
    "start_time": "2025-06-17T21:59:06.478Z"
   },
   {
    "duration": 3,
    "start_time": "2025-06-17T21:59:08.562Z"
   },
   {
    "duration": 4,
    "start_time": "2025-06-17T21:59:08.567Z"
   },
   {
    "duration": 10,
    "start_time": "2025-06-17T21:59:08.572Z"
   },
   {
    "duration": 1789,
    "start_time": "2025-06-17T21:59:08.584Z"
   },
   {
    "duration": 947,
    "start_time": "2025-06-17T21:59:10.374Z"
   },
   {
    "duration": 16,
    "start_time": "2025-06-17T21:59:11.323Z"
   },
   {
    "duration": 27,
    "start_time": "2025-06-17T21:59:11.340Z"
   },
   {
    "duration": 1569,
    "start_time": "2025-06-17T21:59:11.370Z"
   },
   {
    "duration": 30,
    "start_time": "2025-06-17T21:59:12.940Z"
   },
   {
    "duration": 2153,
    "start_time": "2025-06-17T21:59:12.972Z"
   },
   {
    "duration": 447,
    "start_time": "2025-06-17T21:59:15.128Z"
   },
   {
    "duration": 21,
    "start_time": "2025-06-17T21:59:15.577Z"
   },
   {
    "duration": 18,
    "start_time": "2025-06-17T21:59:15.599Z"
   },
   {
    "duration": 16,
    "start_time": "2025-06-17T21:59:15.619Z"
   },
   {
    "duration": 101,
    "start_time": "2025-06-17T21:59:15.661Z"
   },
   {
    "duration": 1658,
    "start_time": "2025-06-17T21:59:15.765Z"
   },
   {
    "duration": 442,
    "start_time": "2025-06-17T21:59:17.426Z"
   },
   {
    "duration": 49,
    "start_time": "2025-06-17T21:59:17.870Z"
   },
   {
    "duration": 108,
    "start_time": "2025-06-17T21:59:17.921Z"
   },
   {
    "duration": 31,
    "start_time": "2025-06-17T21:59:18.030Z"
   },
   {
    "duration": 1693,
    "start_time": "2025-06-17T21:59:18.063Z"
   },
   {
    "duration": 450,
    "start_time": "2025-06-17T21:59:19.760Z"
   },
   {
    "duration": 29,
    "start_time": "2025-06-17T21:59:20.212Z"
   },
   {
    "duration": 196,
    "start_time": "2025-06-17T21:59:20.261Z"
   },
   {
    "duration": 1649,
    "start_time": "2025-06-17T21:59:20.460Z"
   },
   {
    "duration": 395,
    "start_time": "2025-06-17T21:59:22.114Z"
   },
   {
    "duration": 60,
    "start_time": "2025-06-17T21:59:22.511Z"
   },
   {
    "duration": 92,
    "start_time": "2025-06-17T21:59:22.573Z"
   },
   {
    "duration": 40,
    "start_time": "2025-06-17T21:59:22.666Z"
   },
   {
    "duration": 2376,
    "start_time": "2025-06-17T21:59:22.708Z"
   },
   {
    "duration": 96,
    "start_time": "2025-06-17T21:59:25.086Z"
   },
   {
    "duration": 17,
    "start_time": "2025-06-17T21:59:25.184Z"
   },
   {
    "duration": 1307,
    "start_time": "2025-06-17T21:59:25.203Z"
   },
   {
    "duration": 407,
    "start_time": "2025-06-17T21:59:26.512Z"
   },
   {
    "duration": 23,
    "start_time": "2025-06-17T21:59:26.921Z"
   },
   {
    "duration": 3944,
    "start_time": "2025-06-17T21:59:26.946Z"
   },
   {
    "duration": 15,
    "start_time": "2025-06-17T21:59:30.891Z"
   },
   {
    "duration": 1518,
    "start_time": "2025-06-17T21:59:30.908Z"
   },
   {
    "duration": 432,
    "start_time": "2025-06-17T21:59:32.428Z"
   },
   {
    "duration": 22,
    "start_time": "2025-06-17T21:59:32.862Z"
   },
   {
    "duration": 17,
    "start_time": "2025-06-17T21:59:32.885Z"
   },
   {
    "duration": 1405,
    "start_time": "2025-06-17T21:59:32.903Z"
   },
   {
    "duration": 376,
    "start_time": "2025-06-17T21:59:34.310Z"
   },
   {
    "duration": 43,
    "start_time": "2025-06-17T21:59:34.688Z"
   },
   {
    "duration": 93,
    "start_time": "2025-06-17T21:59:34.733Z"
   },
   {
    "duration": 49,
    "start_time": "2025-06-17T21:59:34.828Z"
   },
   {
    "duration": 46,
    "start_time": "2025-06-17T21:59:34.879Z"
   },
   {
    "duration": 93,
    "start_time": "2025-06-17T21:59:34.926Z"
   },
   {
    "duration": 13,
    "start_time": "2025-06-17T21:59:35.021Z"
   },
   {
    "duration": 1431,
    "start_time": "2025-06-17T21:59:35.036Z"
   },
   {
    "duration": 407,
    "start_time": "2025-06-17T21:59:36.469Z"
   },
   {
    "duration": 7442,
    "start_time": "2025-06-17T21:59:36.878Z"
   },
   {
    "duration": 40,
    "start_time": "2025-06-17T21:59:44.322Z"
   },
   {
    "duration": 426,
    "start_time": "2025-06-17T21:59:44.363Z"
   },
   {
    "duration": 337,
    "start_time": "2025-06-17T21:59:44.792Z"
   },
   {
    "duration": 86,
    "start_time": "2025-06-17T21:59:45.132Z"
   },
   {
    "duration": 14,
    "start_time": "2025-06-17T21:59:45.220Z"
   },
   {
    "duration": 25,
    "start_time": "2025-06-17T21:59:45.236Z"
   },
   {
    "duration": 4055,
    "start_time": "2025-06-17T21:59:45.263Z"
   },
   {
    "duration": 23550,
    "start_time": "2025-06-17T21:59:49.321Z"
   },
   {
    "duration": 93988,
    "start_time": "2025-06-17T22:00:12.873Z"
   },
   {
    "duration": 1600,
    "start_time": "2025-06-17T22:01:46.863Z"
   },
   {
    "duration": 22016072,
    "start_time": "2025-06-17T22:01:48.465Z"
   },
   {
    "duration": 0,
    "start_time": "2025-06-18T04:08:44.540Z"
   },
   {
    "duration": 0,
    "start_time": "2025-06-18T04:08:44.541Z"
   },
   {
    "duration": 0,
    "start_time": "2025-06-18T04:08:44.543Z"
   },
   {
    "duration": 0,
    "start_time": "2025-06-18T04:08:44.545Z"
   },
   {
    "duration": 0,
    "start_time": "2025-06-18T04:08:44.547Z"
   },
   {
    "duration": 0,
    "start_time": "2025-06-18T04:08:44.561Z"
   },
   {
    "duration": 0,
    "start_time": "2025-06-18T04:08:44.562Z"
   },
   {
    "duration": 0,
    "start_time": "2025-06-18T04:08:44.563Z"
   },
   {
    "duration": 19366,
    "start_time": "2025-06-18T07:56:58.196Z"
   },
   {
    "duration": 2138,
    "start_time": "2025-06-18T07:57:17.565Z"
   },
   {
    "duration": 3,
    "start_time": "2025-06-18T07:57:19.705Z"
   },
   {
    "duration": 24,
    "start_time": "2025-06-18T07:57:19.710Z"
   },
   {
    "duration": 8,
    "start_time": "2025-06-18T07:57:19.736Z"
   },
   {
    "duration": 2315,
    "start_time": "2025-06-18T07:57:19.745Z"
   },
   {
    "duration": 1006,
    "start_time": "2025-06-18T07:57:22.062Z"
   },
   {
    "duration": 16,
    "start_time": "2025-06-18T07:57:23.070Z"
   },
   {
    "duration": 105,
    "start_time": "2025-06-18T07:57:23.088Z"
   },
   {
    "duration": 1658,
    "start_time": "2025-06-18T07:57:23.194Z"
   },
   {
    "duration": 25,
    "start_time": "2025-06-18T07:57:24.854Z"
   },
   {
    "duration": 2230,
    "start_time": "2025-06-18T07:57:24.881Z"
   },
   {
    "duration": 489,
    "start_time": "2025-06-18T07:57:27.113Z"
   },
   {
    "duration": 26,
    "start_time": "2025-06-18T07:57:27.606Z"
   },
   {
    "duration": 41,
    "start_time": "2025-06-18T07:57:27.634Z"
   },
   {
    "duration": 18,
    "start_time": "2025-06-18T07:57:27.677Z"
   },
   {
    "duration": 106,
    "start_time": "2025-06-18T07:57:27.697Z"
   },
   {
    "duration": 1727,
    "start_time": "2025-06-18T07:57:27.805Z"
   },
   {
    "duration": 442,
    "start_time": "2025-06-18T07:57:29.534Z"
   },
   {
    "duration": 50,
    "start_time": "2025-06-18T07:57:29.978Z"
   },
   {
    "duration": 192,
    "start_time": "2025-06-18T07:57:30.032Z"
   },
   {
    "duration": 18,
    "start_time": "2025-06-18T07:57:30.226Z"
   },
   {
    "duration": 1699,
    "start_time": "2025-06-18T07:57:30.246Z"
   },
   {
    "duration": 369,
    "start_time": "2025-06-18T07:57:31.948Z"
   },
   {
    "duration": 67,
    "start_time": "2025-06-18T07:57:32.319Z"
   },
   {
    "duration": 222,
    "start_time": "2025-06-18T07:57:32.388Z"
   },
   {
    "duration": 1711,
    "start_time": "2025-06-18T07:57:32.612Z"
   },
   {
    "duration": 402,
    "start_time": "2025-06-18T07:57:34.325Z"
   },
   {
    "duration": 70,
    "start_time": "2025-06-18T07:57:34.729Z"
   },
   {
    "duration": 97,
    "start_time": "2025-06-18T07:57:34.801Z"
   },
   {
    "duration": 40,
    "start_time": "2025-06-18T07:57:34.900Z"
   },
   {
    "duration": 2477,
    "start_time": "2025-06-18T07:57:34.941Z"
   },
   {
    "duration": 98,
    "start_time": "2025-06-18T07:57:37.419Z"
   },
   {
    "duration": 18,
    "start_time": "2025-06-18T07:57:37.518Z"
   },
   {
    "duration": 1359,
    "start_time": "2025-06-18T07:57:37.538Z"
   },
   {
    "duration": 498,
    "start_time": "2025-06-18T07:57:38.899Z"
   },
   {
    "duration": 25,
    "start_time": "2025-06-18T07:57:39.398Z"
   },
   {
    "duration": 4036,
    "start_time": "2025-06-18T07:57:39.425Z"
   },
   {
    "duration": 15,
    "start_time": "2025-06-18T07:57:43.463Z"
   },
   {
    "duration": 1552,
    "start_time": "2025-06-18T07:57:43.480Z"
   },
   {
    "duration": 435,
    "start_time": "2025-06-18T07:57:45.038Z"
   },
   {
    "duration": 22,
    "start_time": "2025-06-18T07:57:45.474Z"
   },
   {
    "duration": 16,
    "start_time": "2025-06-18T07:57:45.497Z"
   },
   {
    "duration": 1510,
    "start_time": "2025-06-18T07:57:45.515Z"
   },
   {
    "duration": 505,
    "start_time": "2025-06-18T07:57:47.028Z"
   },
   {
    "duration": 66,
    "start_time": "2025-06-18T07:57:47.536Z"
   },
   {
    "duration": 105,
    "start_time": "2025-06-18T07:57:47.604Z"
   },
   {
    "duration": 39,
    "start_time": "2025-06-18T07:57:47.711Z"
   },
   {
    "duration": 47,
    "start_time": "2025-06-18T07:57:47.761Z"
   },
   {
    "duration": 104,
    "start_time": "2025-06-18T07:57:47.810Z"
   },
   {
    "duration": 17,
    "start_time": "2025-06-18T07:57:47.917Z"
   },
   {
    "duration": 1525,
    "start_time": "2025-06-18T07:57:47.936Z"
   },
   {
    "duration": 410,
    "start_time": "2025-06-18T07:57:49.463Z"
   },
   {
    "duration": 7842,
    "start_time": "2025-06-18T07:57:49.874Z"
   },
   {
    "duration": 27,
    "start_time": "2025-06-18T07:57:57.718Z"
   },
   {
    "duration": 427,
    "start_time": "2025-06-18T07:57:57.760Z"
   },
   {
    "duration": 364,
    "start_time": "2025-06-18T07:57:58.190Z"
   },
   {
    "duration": 90,
    "start_time": "2025-06-18T07:57:58.556Z"
   },
   {
    "duration": 13,
    "start_time": "2025-06-18T07:57:58.661Z"
   },
   {
    "duration": 6,
    "start_time": "2025-06-18T07:57:58.676Z"
   },
   {
    "duration": 15351,
    "start_time": "2025-06-18T07:57:58.683Z"
   },
   {
    "duration": 35051,
    "start_time": "2025-06-18T07:58:14.036Z"
   },
   {
    "duration": 123071,
    "start_time": "2025-06-18T07:58:49.089Z"
   },
   {
    "duration": 2701,
    "start_time": "2025-06-18T08:00:52.162Z"
   },
   {
    "duration": 1167345,
    "start_time": "2025-06-18T08:00:54.865Z"
   },
   {
    "duration": 0,
    "start_time": "2025-06-18T08:20:22.212Z"
   },
   {
    "duration": 0,
    "start_time": "2025-06-18T08:20:22.262Z"
   },
   {
    "duration": 0,
    "start_time": "2025-06-18T08:20:22.263Z"
   },
   {
    "duration": 0,
    "start_time": "2025-06-18T08:20:22.264Z"
   },
   {
    "duration": 0,
    "start_time": "2025-06-18T08:20:22.265Z"
   },
   {
    "duration": 19031,
    "start_time": "2025-06-18T08:23:02.625Z"
   },
   {
    "duration": 2198,
    "start_time": "2025-06-18T08:23:21.659Z"
   },
   {
    "duration": 3,
    "start_time": "2025-06-18T08:23:23.860Z"
   },
   {
    "duration": 9,
    "start_time": "2025-06-18T08:23:23.865Z"
   },
   {
    "duration": 41,
    "start_time": "2025-06-18T08:23:23.876Z"
   },
   {
    "duration": 1650,
    "start_time": "2025-06-18T08:23:23.919Z"
   },
   {
    "duration": 1042,
    "start_time": "2025-06-18T08:23:25.571Z"
   },
   {
    "duration": 17,
    "start_time": "2025-06-18T08:23:26.616Z"
   },
   {
    "duration": 32,
    "start_time": "2025-06-18T08:23:26.635Z"
   },
   {
    "duration": 1668,
    "start_time": "2025-06-18T08:23:26.671Z"
   },
   {
    "duration": 28,
    "start_time": "2025-06-18T08:23:28.341Z"
   },
   {
    "duration": 2160,
    "start_time": "2025-06-18T08:23:28.371Z"
   },
   {
    "duration": 451,
    "start_time": "2025-06-18T08:23:30.533Z"
   },
   {
    "duration": 21,
    "start_time": "2025-06-18T08:23:30.986Z"
   },
   {
    "duration": 20,
    "start_time": "2025-06-18T08:23:31.009Z"
   },
   {
    "duration": 38,
    "start_time": "2025-06-18T08:23:31.031Z"
   },
   {
    "duration": 98,
    "start_time": "2025-06-18T08:23:31.071Z"
   },
   {
    "duration": 1692,
    "start_time": "2025-06-18T08:23:31.171Z"
   },
   {
    "duration": 447,
    "start_time": "2025-06-18T08:23:32.866Z"
   },
   {
    "duration": 65,
    "start_time": "2025-06-18T08:23:33.315Z"
   },
   {
    "duration": 169,
    "start_time": "2025-06-18T08:23:33.382Z"
   },
   {
    "duration": 23,
    "start_time": "2025-06-18T08:23:33.552Z"
   },
   {
    "duration": 1639,
    "start_time": "2025-06-18T08:23:33.576Z"
   },
   {
    "duration": 445,
    "start_time": "2025-06-18T08:23:35.216Z"
   },
   {
    "duration": 31,
    "start_time": "2025-06-18T08:23:35.662Z"
   },
   {
    "duration": 212,
    "start_time": "2025-06-18T08:23:35.694Z"
   },
   {
    "duration": 1707,
    "start_time": "2025-06-18T08:23:35.907Z"
   },
   {
    "duration": 407,
    "start_time": "2025-06-18T08:23:37.618Z"
   },
   {
    "duration": 57,
    "start_time": "2025-06-18T08:23:38.027Z"
   },
   {
    "duration": 93,
    "start_time": "2025-06-18T08:23:38.086Z"
   },
   {
    "duration": 100,
    "start_time": "2025-06-18T08:23:38.181Z"
   },
   {
    "duration": 2430,
    "start_time": "2025-06-18T08:23:38.283Z"
   },
   {
    "duration": 100,
    "start_time": "2025-06-18T08:23:40.714Z"
   },
   {
    "duration": 17,
    "start_time": "2025-06-18T08:23:40.816Z"
   },
   {
    "duration": 1321,
    "start_time": "2025-06-18T08:23:40.835Z"
   },
   {
    "duration": 376,
    "start_time": "2025-06-18T08:23:42.161Z"
   },
   {
    "duration": 41,
    "start_time": "2025-06-18T08:23:42.539Z"
   },
   {
    "duration": 3985,
    "start_time": "2025-06-18T08:23:42.582Z"
   },
   {
    "duration": 16,
    "start_time": "2025-06-18T08:23:46.569Z"
   },
   {
    "duration": 1547,
    "start_time": "2025-06-18T08:23:46.586Z"
   },
   {
    "duration": 442,
    "start_time": "2025-06-18T08:23:48.135Z"
   },
   {
    "duration": 21,
    "start_time": "2025-06-18T08:23:48.579Z"
   },
   {
    "duration": 17,
    "start_time": "2025-06-18T08:23:48.602Z"
   },
   {
    "duration": 1440,
    "start_time": "2025-06-18T08:23:48.620Z"
   },
   {
    "duration": 440,
    "start_time": "2025-06-18T08:23:50.062Z"
   },
   {
    "duration": 56,
    "start_time": "2025-06-18T08:23:50.505Z"
   },
   {
    "duration": 97,
    "start_time": "2025-06-18T08:23:50.563Z"
   },
   {
    "duration": 38,
    "start_time": "2025-06-18T08:23:50.662Z"
   },
   {
    "duration": 68,
    "start_time": "2025-06-18T08:23:50.702Z"
   },
   {
    "duration": 96,
    "start_time": "2025-06-18T08:23:50.772Z"
   },
   {
    "duration": 14,
    "start_time": "2025-06-18T08:23:50.870Z"
   },
   {
    "duration": 1412,
    "start_time": "2025-06-18T08:23:50.885Z"
   },
   {
    "duration": 371,
    "start_time": "2025-06-18T08:23:52.298Z"
   },
   {
    "duration": 7617,
    "start_time": "2025-06-18T08:23:52.671Z"
   },
   {
    "duration": 26,
    "start_time": "2025-06-18T08:24:00.290Z"
   },
   {
    "duration": 446,
    "start_time": "2025-06-18T08:24:00.318Z"
   },
   {
    "duration": 341,
    "start_time": "2025-06-18T08:24:00.766Z"
   },
   {
    "duration": 91,
    "start_time": "2025-06-18T08:24:01.109Z"
   },
   {
    "duration": 14,
    "start_time": "2025-06-18T08:24:01.202Z"
   },
   {
    "duration": 56,
    "start_time": "2025-06-18T08:24:01.217Z"
   },
   {
    "duration": 22908,
    "start_time": "2025-06-18T08:24:01.275Z"
   },
   {
    "duration": 112683,
    "start_time": "2025-06-18T08:24:24.185Z"
   },
   {
    "duration": 1692,
    "start_time": "2025-06-18T08:26:16.870Z"
   },
   {
    "duration": 19407,
    "start_time": "2025-06-18T08:28:35.993Z"
   },
   {
    "duration": 2103,
    "start_time": "2025-06-18T08:28:55.403Z"
   },
   {
    "duration": 2,
    "start_time": "2025-06-18T08:28:57.508Z"
   },
   {
    "duration": 6,
    "start_time": "2025-06-18T08:28:57.513Z"
   },
   {
    "duration": 9,
    "start_time": "2025-06-18T08:28:57.521Z"
   },
   {
    "duration": 1845,
    "start_time": "2025-06-18T08:28:57.532Z"
   },
   {
    "duration": 1016,
    "start_time": "2025-06-18T08:28:59.378Z"
   },
   {
    "duration": 16,
    "start_time": "2025-06-18T08:29:00.396Z"
   },
   {
    "duration": 129,
    "start_time": "2025-06-18T08:29:00.413Z"
   },
   {
    "duration": 1734,
    "start_time": "2025-06-18T08:29:00.546Z"
   },
   {
    "duration": 20,
    "start_time": "2025-06-18T08:29:02.282Z"
   },
   {
    "duration": 2280,
    "start_time": "2025-06-18T08:29:02.304Z"
   },
   {
    "duration": 494,
    "start_time": "2025-06-18T08:29:04.587Z"
   },
   {
    "duration": 24,
    "start_time": "2025-06-18T08:29:05.083Z"
   },
   {
    "duration": 22,
    "start_time": "2025-06-18T08:29:05.109Z"
   },
   {
    "duration": 21,
    "start_time": "2025-06-18T08:29:05.161Z"
   },
   {
    "duration": 113,
    "start_time": "2025-06-18T08:29:05.184Z"
   },
   {
    "duration": 1793,
    "start_time": "2025-06-18T08:29:05.299Z"
   },
   {
    "duration": 480,
    "start_time": "2025-06-18T08:29:07.095Z"
   },
   {
    "duration": 50,
    "start_time": "2025-06-18T08:29:07.577Z"
   },
   {
    "duration": 112,
    "start_time": "2025-06-18T08:29:07.629Z"
   },
   {
    "duration": 32,
    "start_time": "2025-06-18T08:29:07.743Z"
   },
   {
    "duration": 1753,
    "start_time": "2025-06-18T08:29:07.777Z"
   },
   {
    "duration": 457,
    "start_time": "2025-06-18T08:29:09.533Z"
   },
   {
    "duration": 31,
    "start_time": "2025-06-18T08:29:09.991Z"
   },
   {
    "duration": 243,
    "start_time": "2025-06-18T08:29:10.024Z"
   },
   {
    "duration": 1751,
    "start_time": "2025-06-18T08:29:10.269Z"
   },
   {
    "duration": 469,
    "start_time": "2025-06-18T08:29:12.025Z"
   },
   {
    "duration": 113,
    "start_time": "2025-06-18T08:29:12.496Z"
   },
   {
    "duration": 129,
    "start_time": "2025-06-18T08:29:12.612Z"
   },
   {
    "duration": 54,
    "start_time": "2025-06-18T08:29:12.743Z"
   },
   {
    "duration": 2555,
    "start_time": "2025-06-18T08:29:12.799Z"
   },
   {
    "duration": 89,
    "start_time": "2025-06-18T08:29:15.360Z"
   },
   {
    "duration": 20,
    "start_time": "2025-06-18T08:29:15.460Z"
   },
   {
    "duration": 1409,
    "start_time": "2025-06-18T08:29:15.482Z"
   },
   {
    "duration": 451,
    "start_time": "2025-06-18T08:29:16.893Z"
   },
   {
    "duration": 41,
    "start_time": "2025-06-18T08:29:17.345Z"
   },
   {
    "duration": 4330,
    "start_time": "2025-06-18T08:29:17.387Z"
   },
   {
    "duration": 16,
    "start_time": "2025-06-18T08:29:21.719Z"
   },
   {
    "duration": 1605,
    "start_time": "2025-06-18T08:29:21.737Z"
   },
   {
    "duration": 532,
    "start_time": "2025-06-18T08:29:23.345Z"
   },
   {
    "duration": 24,
    "start_time": "2025-06-18T08:29:23.879Z"
   },
   {
    "duration": 18,
    "start_time": "2025-06-18T08:29:23.905Z"
   },
   {
    "duration": 1493,
    "start_time": "2025-06-18T08:29:23.925Z"
   },
   {
    "duration": 476,
    "start_time": "2025-06-18T08:29:25.420Z"
   },
   {
    "duration": 46,
    "start_time": "2025-06-18T08:29:25.897Z"
   },
   {
    "duration": 99,
    "start_time": "2025-06-18T08:29:25.945Z"
   },
   {
    "duration": 48,
    "start_time": "2025-06-18T08:29:26.046Z"
   },
   {
    "duration": 68,
    "start_time": "2025-06-18T08:29:26.096Z"
   },
   {
    "duration": 98,
    "start_time": "2025-06-18T08:29:26.166Z"
   },
   {
    "duration": 22,
    "start_time": "2025-06-18T08:29:26.266Z"
   },
   {
    "duration": 1527,
    "start_time": "2025-06-18T08:29:26.291Z"
   },
   {
    "duration": 389,
    "start_time": "2025-06-18T08:29:27.820Z"
   },
   {
    "duration": 7836,
    "start_time": "2025-06-18T08:29:28.211Z"
   },
   {
    "duration": 38,
    "start_time": "2025-06-18T08:29:36.049Z"
   },
   {
    "duration": 458,
    "start_time": "2025-06-18T08:29:36.089Z"
   },
   {
    "duration": 361,
    "start_time": "2025-06-18T08:29:36.549Z"
   },
   {
    "duration": 99,
    "start_time": "2025-06-18T08:29:36.912Z"
   },
   {
    "duration": 13,
    "start_time": "2025-06-18T08:29:37.013Z"
   },
   {
    "duration": 10,
    "start_time": "2025-06-18T08:29:37.028Z"
   },
   {
    "duration": 28713,
    "start_time": "2025-06-18T08:29:37.040Z"
   },
   {
    "duration": 123414,
    "start_time": "2025-06-18T08:30:05.756Z"
   },
   {
    "duration": 1790,
    "start_time": "2025-06-18T08:32:09.174Z"
   },
   {
    "duration": 28945,
    "start_time": "2025-06-18T08:32:10.968Z"
   },
   {
    "duration": 123090,
    "start_time": "2025-06-18T08:32:43.771Z"
   },
   {
    "duration": 1664,
    "start_time": "2025-06-18T08:34:55.505Z"
   },
   {
    "duration": 19125,
    "start_time": "2025-06-18T09:09:08.527Z"
   },
   {
    "duration": 2144,
    "start_time": "2025-06-18T09:09:27.655Z"
   },
   {
    "duration": 3,
    "start_time": "2025-06-18T09:09:29.801Z"
   },
   {
    "duration": 8,
    "start_time": "2025-06-18T09:09:29.805Z"
   },
   {
    "duration": 8,
    "start_time": "2025-06-18T09:09:29.815Z"
   },
   {
    "duration": 2872,
    "start_time": "2025-06-18T09:09:29.824Z"
   },
   {
    "duration": 990,
    "start_time": "2025-06-18T09:09:32.699Z"
   },
   {
    "duration": 16,
    "start_time": "2025-06-18T09:09:33.691Z"
   },
   {
    "duration": 19,
    "start_time": "2025-06-18T09:09:33.709Z"
   },
   {
    "duration": 1595,
    "start_time": "2025-06-18T09:09:33.731Z"
   },
   {
    "duration": 19,
    "start_time": "2025-06-18T09:09:35.328Z"
   },
   {
    "duration": 2221,
    "start_time": "2025-06-18T09:09:35.361Z"
   },
   {
    "duration": 446,
    "start_time": "2025-06-18T09:09:37.583Z"
   },
   {
    "duration": 47,
    "start_time": "2025-06-18T09:09:38.031Z"
   },
   {
    "duration": 20,
    "start_time": "2025-06-18T09:09:38.080Z"
   },
   {
    "duration": 18,
    "start_time": "2025-06-18T09:09:38.101Z"
   },
   {
    "duration": 117,
    "start_time": "2025-06-18T09:09:38.120Z"
   },
   {
    "duration": 1679,
    "start_time": "2025-06-18T09:09:38.239Z"
   },
   {
    "duration": 397,
    "start_time": "2025-06-18T09:09:39.920Z"
   },
   {
    "duration": 86,
    "start_time": "2025-06-18T09:09:40.319Z"
   },
   {
    "duration": 126,
    "start_time": "2025-06-18T09:09:40.407Z"
   },
   {
    "duration": 31,
    "start_time": "2025-06-18T09:09:40.535Z"
   },
   {
    "duration": 1639,
    "start_time": "2025-06-18T09:09:40.568Z"
   },
   {
    "duration": 478,
    "start_time": "2025-06-18T09:09:42.210Z"
   },
   {
    "duration": 74,
    "start_time": "2025-06-18T09:09:42.691Z"
   },
   {
    "duration": 195,
    "start_time": "2025-06-18T09:09:42.767Z"
   },
   {
    "duration": 1682,
    "start_time": "2025-06-18T09:09:42.964Z"
   },
   {
    "duration": 446,
    "start_time": "2025-06-18T09:09:44.661Z"
   },
   {
    "duration": 63,
    "start_time": "2025-06-18T09:09:45.110Z"
   },
   {
    "duration": 106,
    "start_time": "2025-06-18T09:09:45.176Z"
   },
   {
    "duration": 45,
    "start_time": "2025-06-18T09:09:45.284Z"
   },
   {
    "duration": 2490,
    "start_time": "2025-06-18T09:09:45.331Z"
   },
   {
    "duration": 103,
    "start_time": "2025-06-18T09:09:47.823Z"
   },
   {
    "duration": 32,
    "start_time": "2025-06-18T09:09:47.928Z"
   },
   {
    "duration": 1336,
    "start_time": "2025-06-18T09:09:47.963Z"
   },
   {
    "duration": 423,
    "start_time": "2025-06-18T09:09:49.302Z"
   },
   {
    "duration": 47,
    "start_time": "2025-06-18T09:09:49.726Z"
   },
   {
    "duration": 4230,
    "start_time": "2025-06-18T09:09:49.774Z"
   },
   {
    "duration": 15,
    "start_time": "2025-06-18T09:09:54.006Z"
   },
   {
    "duration": 1659,
    "start_time": "2025-06-18T09:09:54.023Z"
   },
   {
    "duration": 517,
    "start_time": "2025-06-18T09:09:55.684Z"
   },
   {
    "duration": 21,
    "start_time": "2025-06-18T09:09:56.203Z"
   },
   {
    "duration": 50,
    "start_time": "2025-06-18T09:09:56.226Z"
   },
   {
    "duration": 1539,
    "start_time": "2025-06-18T09:09:56.278Z"
   },
   {
    "duration": 575,
    "start_time": "2025-06-18T09:09:57.819Z"
   },
   {
    "duration": 47,
    "start_time": "2025-06-18T09:09:58.397Z"
   },
   {
    "duration": 103,
    "start_time": "2025-06-18T09:09:58.463Z"
   },
   {
    "duration": 42,
    "start_time": "2025-06-18T09:09:58.569Z"
   },
   {
    "duration": 110,
    "start_time": "2025-06-18T09:09:58.613Z"
   },
   {
    "duration": 91,
    "start_time": "2025-06-18T09:09:58.725Z"
   },
   {
    "duration": 14,
    "start_time": "2025-06-18T09:09:58.818Z"
   },
   {
    "duration": 1546,
    "start_time": "2025-06-18T09:09:58.834Z"
   },
   {
    "duration": 431,
    "start_time": "2025-06-18T09:10:00.382Z"
   },
   {
    "duration": 8319,
    "start_time": "2025-06-18T09:10:00.815Z"
   },
   {
    "duration": 45,
    "start_time": "2025-06-18T09:10:09.135Z"
   },
   {
    "duration": 447,
    "start_time": "2025-06-18T09:10:09.182Z"
   },
   {
    "duration": 381,
    "start_time": "2025-06-18T09:10:09.632Z"
   },
   {
    "duration": 101,
    "start_time": "2025-06-18T09:10:10.015Z"
   },
   {
    "duration": 13,
    "start_time": "2025-06-18T09:10:10.118Z"
   },
   {
    "duration": 10,
    "start_time": "2025-06-18T09:10:10.133Z"
   },
   {
    "duration": 34410,
    "start_time": "2025-06-18T09:10:10.160Z"
   },
   {
    "duration": 102898,
    "start_time": "2025-06-18T09:10:44.578Z"
   },
   {
    "duration": 1790,
    "start_time": "2025-06-18T09:12:27.480Z"
   },
   {
    "duration": 220,
    "start_time": "2025-06-18T09:29:01.915Z"
   },
   {
    "duration": 96,
    "start_time": "2025-06-18T09:30:34.679Z"
   },
   {
    "duration": 19,
    "start_time": "2025-06-18T09:34:10.170Z"
   },
   {
    "duration": 19034,
    "start_time": "2025-06-18T09:57:12.484Z"
   },
   {
    "duration": 2047,
    "start_time": "2025-06-18T09:57:31.521Z"
   },
   {
    "duration": 3,
    "start_time": "2025-06-18T09:57:33.569Z"
   },
   {
    "duration": 79,
    "start_time": "2025-06-18T09:57:33.574Z"
   },
   {
    "duration": 7,
    "start_time": "2025-06-18T09:57:33.655Z"
   },
   {
    "duration": 2515,
    "start_time": "2025-06-18T09:57:33.664Z"
   },
   {
    "duration": 731,
    "start_time": "2025-06-18T09:57:36.181Z"
   },
   {
    "duration": 17,
    "start_time": "2025-06-18T09:57:36.913Z"
   },
   {
    "duration": 152,
    "start_time": "2025-06-18T09:57:36.932Z"
   },
   {
    "duration": 0,
    "start_time": "2025-06-18T09:57:37.087Z"
   },
   {
    "duration": 0,
    "start_time": "2025-06-18T09:57:37.088Z"
   },
   {
    "duration": 0,
    "start_time": "2025-06-18T09:57:37.089Z"
   },
   {
    "duration": 0,
    "start_time": "2025-06-18T09:57:37.091Z"
   },
   {
    "duration": 0,
    "start_time": "2025-06-18T09:57:37.092Z"
   },
   {
    "duration": 0,
    "start_time": "2025-06-18T09:57:37.093Z"
   },
   {
    "duration": 0,
    "start_time": "2025-06-18T09:57:37.094Z"
   },
   {
    "duration": 0,
    "start_time": "2025-06-18T09:57:37.095Z"
   },
   {
    "duration": 0,
    "start_time": "2025-06-18T09:57:37.096Z"
   },
   {
    "duration": 0,
    "start_time": "2025-06-18T09:57:37.098Z"
   },
   {
    "duration": 0,
    "start_time": "2025-06-18T09:57:37.099Z"
   },
   {
    "duration": 0,
    "start_time": "2025-06-18T09:57:37.100Z"
   },
   {
    "duration": 0,
    "start_time": "2025-06-18T09:57:37.101Z"
   },
   {
    "duration": 0,
    "start_time": "2025-06-18T09:57:37.102Z"
   },
   {
    "duration": 0,
    "start_time": "2025-06-18T09:57:37.103Z"
   },
   {
    "duration": 0,
    "start_time": "2025-06-18T09:57:37.105Z"
   },
   {
    "duration": 0,
    "start_time": "2025-06-18T09:57:37.106Z"
   },
   {
    "duration": 0,
    "start_time": "2025-06-18T09:57:37.107Z"
   },
   {
    "duration": 0,
    "start_time": "2025-06-18T09:57:37.109Z"
   },
   {
    "duration": 0,
    "start_time": "2025-06-18T09:57:37.110Z"
   },
   {
    "duration": 0,
    "start_time": "2025-06-18T09:57:37.111Z"
   },
   {
    "duration": 0,
    "start_time": "2025-06-18T09:57:37.112Z"
   },
   {
    "duration": 0,
    "start_time": "2025-06-18T09:57:37.113Z"
   },
   {
    "duration": 0,
    "start_time": "2025-06-18T09:57:37.114Z"
   },
   {
    "duration": 0,
    "start_time": "2025-06-18T09:57:37.161Z"
   },
   {
    "duration": 0,
    "start_time": "2025-06-18T09:57:37.162Z"
   },
   {
    "duration": 0,
    "start_time": "2025-06-18T09:57:37.163Z"
   },
   {
    "duration": 0,
    "start_time": "2025-06-18T09:57:37.164Z"
   },
   {
    "duration": 0,
    "start_time": "2025-06-18T09:57:37.165Z"
   },
   {
    "duration": 0,
    "start_time": "2025-06-18T09:57:37.167Z"
   },
   {
    "duration": 0,
    "start_time": "2025-06-18T09:57:37.167Z"
   },
   {
    "duration": 0,
    "start_time": "2025-06-18T09:57:37.169Z"
   },
   {
    "duration": 0,
    "start_time": "2025-06-18T09:57:37.170Z"
   },
   {
    "duration": 0,
    "start_time": "2025-06-18T09:57:37.172Z"
   },
   {
    "duration": 0,
    "start_time": "2025-06-18T09:57:37.173Z"
   },
   {
    "duration": 0,
    "start_time": "2025-06-18T09:57:37.174Z"
   },
   {
    "duration": 0,
    "start_time": "2025-06-18T09:57:37.175Z"
   },
   {
    "duration": 0,
    "start_time": "2025-06-18T09:57:37.176Z"
   },
   {
    "duration": 0,
    "start_time": "2025-06-18T09:57:37.177Z"
   },
   {
    "duration": 0,
    "start_time": "2025-06-18T09:57:37.178Z"
   },
   {
    "duration": 0,
    "start_time": "2025-06-18T09:57:37.180Z"
   },
   {
    "duration": 0,
    "start_time": "2025-06-18T09:57:37.180Z"
   },
   {
    "duration": 0,
    "start_time": "2025-06-18T09:57:37.181Z"
   },
   {
    "duration": 0,
    "start_time": "2025-06-18T09:57:37.182Z"
   },
   {
    "duration": 0,
    "start_time": "2025-06-18T09:57:37.184Z"
   },
   {
    "duration": 0,
    "start_time": "2025-06-18T09:57:37.184Z"
   },
   {
    "duration": 0,
    "start_time": "2025-06-18T09:57:37.185Z"
   },
   {
    "duration": 0,
    "start_time": "2025-06-18T09:57:37.186Z"
   },
   {
    "duration": 0,
    "start_time": "2025-06-18T09:57:37.187Z"
   },
   {
    "duration": 0,
    "start_time": "2025-06-18T09:57:37.188Z"
   },
   {
    "duration": 0,
    "start_time": "2025-06-18T09:57:37.190Z"
   },
   {
    "duration": 0,
    "start_time": "2025-06-18T09:57:37.190Z"
   },
   {
    "duration": 0,
    "start_time": "2025-06-18T09:57:37.191Z"
   },
   {
    "duration": 0,
    "start_time": "2025-06-18T09:57:37.193Z"
   },
   {
    "duration": 19147,
    "start_time": "2025-06-18T10:26:07.219Z"
   },
   {
    "duration": 1974,
    "start_time": "2025-06-18T10:26:30.311Z"
   },
   {
    "duration": 3,
    "start_time": "2025-06-18T10:26:35.244Z"
   },
   {
    "duration": 4,
    "start_time": "2025-06-18T10:26:36.388Z"
   },
   {
    "duration": 7,
    "start_time": "2025-06-18T10:26:37.531Z"
   },
   {
    "duration": 1924,
    "start_time": "2025-06-18T10:26:39.417Z"
   },
   {
    "duration": 695,
    "start_time": "2025-06-18T10:26:44.670Z"
   },
   {
    "duration": 16,
    "start_time": "2025-06-18T10:27:07.223Z"
   },
   {
    "duration": 215,
    "start_time": "2025-06-18T10:27:11.915Z"
   },
   {
    "duration": 198,
    "start_time": "2025-06-18T10:27:27.285Z"
   },
   {
    "duration": 985,
    "start_time": "2025-06-18T10:27:33.482Z"
   },
   {
    "duration": 19,
    "start_time": "2025-06-18T10:27:40.894Z"
   },
   {
    "duration": 2359,
    "start_time": "2025-06-18T10:27:43.589Z"
   },
   {
    "duration": 315,
    "start_time": "2025-06-18T10:27:59.055Z"
   },
   {
    "duration": 17,
    "start_time": "2025-06-18T10:28:10.090Z"
   },
   {
    "duration": 14,
    "start_time": "2025-06-18T10:28:15.041Z"
   },
   {
    "duration": 14,
    "start_time": "2025-06-18T10:28:19.270Z"
   },
   {
    "duration": 67,
    "start_time": "2025-06-18T10:28:26.260Z"
   },
   {
    "duration": 1684,
    "start_time": "2025-06-18T10:28:29.955Z"
   },
   {
    "duration": 301,
    "start_time": "2025-06-18T10:28:44.108Z"
   },
   {
    "duration": 31,
    "start_time": "2025-06-18T10:29:12.529Z"
   },
   {
    "duration": 100,
    "start_time": "2025-06-18T10:29:18.971Z"
   },
   {
    "duration": 18,
    "start_time": "2025-06-18T10:30:45.919Z"
   },
   {
    "duration": 1660,
    "start_time": "2025-06-18T10:30:52.189Z"
   },
   {
    "duration": 288,
    "start_time": "2025-06-18T10:31:03.556Z"
   },
   {
    "duration": 19,
    "start_time": "2025-06-18T10:31:16.406Z"
   },
   {
    "duration": 136,
    "start_time": "2025-06-18T10:31:40.165Z"
   },
   {
    "duration": 1623,
    "start_time": "2025-06-18T10:32:01.680Z"
   },
   {
    "duration": 357,
    "start_time": "2025-06-18T10:32:27.109Z"
   },
   {
    "duration": 41,
    "start_time": "2025-06-18T10:32:46.272Z"
   },
   {
    "duration": 67,
    "start_time": "2025-06-18T10:32:50.514Z"
   },
   {
    "duration": 42,
    "start_time": "2025-06-18T10:33:25.842Z"
   },
   {
    "duration": 19,
    "start_time": "2025-06-18T10:33:48.893Z"
   },
   {
    "duration": 1500,
    "start_time": "2025-06-18T10:33:52.855Z"
   },
   {
    "duration": 301,
    "start_time": "2025-06-18T10:34:06.281Z"
   },
   {
    "duration": 28,
    "start_time": "2025-06-18T10:34:15.752Z"
   },
   {
    "duration": 7314,
    "start_time": "2025-06-18T10:34:55.537Z"
   },
   {
    "duration": 17,
    "start_time": "2025-06-18T10:35:17.883Z"
   },
   {
    "duration": 1619,
    "start_time": "2025-06-18T10:35:21.067Z"
   },
   {
    "duration": 332,
    "start_time": "2025-06-18T10:35:52.963Z"
   },
   {
    "duration": 18,
    "start_time": "2025-06-18T10:36:30.233Z"
   },
   {
    "duration": 19,
    "start_time": "2025-06-18T10:36:50.440Z"
   },
   {
    "duration": 1526,
    "start_time": "2025-06-18T10:36:54.793Z"
   },
   {
    "duration": 271,
    "start_time": "2025-06-18T10:37:02.383Z"
   },
   {
    "duration": 29,
    "start_time": "2025-06-18T10:37:09.256Z"
   },
   {
    "duration": 67,
    "start_time": "2025-06-18T10:37:16.345Z"
   },
   {
    "duration": 43,
    "start_time": "2025-06-18T10:38:58.921Z"
   },
   {
    "duration": 29,
    "start_time": "2025-06-18T10:39:38.481Z"
   },
   {
    "duration": 64,
    "start_time": "2025-06-18T10:39:45.257Z"
   },
   {
    "duration": 15,
    "start_time": "2025-06-18T10:40:40.903Z"
   },
   {
    "duration": 1534,
    "start_time": "2025-06-18T10:40:45.533Z"
   },
   {
    "duration": 258,
    "start_time": "2025-06-18T10:40:50.388Z"
   },
   {
    "duration": 7823,
    "start_time": "2025-06-18T10:45:43.133Z"
   },
   {
    "duration": 28,
    "start_time": "2025-06-18T10:47:08.900Z"
   },
   {
    "duration": 433,
    "start_time": "2025-06-18T10:47:13.031Z"
   },
   {
    "duration": 16,
    "start_time": "2025-06-18T10:50:12.624Z"
   },
   {
    "duration": 15,
    "start_time": "2025-06-18T10:51:09.784Z"
   },
   {
    "duration": 14,
    "start_time": "2025-06-18T10:51:32.784Z"
   },
   {
    "duration": 16,
    "start_time": "2025-06-18T10:52:42.741Z"
   },
   {
    "duration": 17,
    "start_time": "2025-06-18T10:52:48.962Z"
   },
   {
    "duration": 407,
    "start_time": "2025-06-18T10:53:03.494Z"
   },
   {
    "duration": 16,
    "start_time": "2025-06-18T10:53:19.359Z"
   },
   {
    "duration": 15,
    "start_time": "2025-06-18T10:53:51.594Z"
   },
   {
    "duration": 10,
    "start_time": "2025-06-18T10:54:34.756Z"
   },
   {
    "duration": 14,
    "start_time": "2025-06-18T10:54:40.758Z"
   },
   {
    "duration": 411,
    "start_time": "2025-06-18T10:55:03.829Z"
   },
   {
    "duration": 19432,
    "start_time": "2025-06-18T10:57:53.495Z"
   },
   {
    "duration": 2149,
    "start_time": "2025-06-18T10:58:12.929Z"
   },
   {
    "duration": 3,
    "start_time": "2025-06-18T10:58:15.080Z"
   },
   {
    "duration": 60,
    "start_time": "2025-06-18T10:58:15.085Z"
   },
   {
    "duration": 13,
    "start_time": "2025-06-18T10:58:15.147Z"
   },
   {
    "duration": 2219,
    "start_time": "2025-06-18T10:58:15.161Z"
   },
   {
    "duration": 737,
    "start_time": "2025-06-18T10:58:17.382Z"
   },
   {
    "duration": 17,
    "start_time": "2025-06-18T10:58:18.121Z"
   },
   {
    "duration": 201,
    "start_time": "2025-06-18T10:58:18.159Z"
   },
   {
    "duration": 1096,
    "start_time": "2025-06-18T10:58:18.364Z"
   },
   {
    "duration": 21,
    "start_time": "2025-06-18T10:58:19.462Z"
   },
   {
    "duration": 2314,
    "start_time": "2025-06-18T10:58:19.484Z"
   },
   {
    "duration": 486,
    "start_time": "2025-06-18T10:58:21.801Z"
   },
   {
    "duration": 74,
    "start_time": "2025-06-18T10:58:22.289Z"
   },
   {
    "duration": 18,
    "start_time": "2025-06-18T10:58:22.366Z"
   },
   {
    "duration": 17,
    "start_time": "2025-06-18T10:58:22.387Z"
   },
   {
    "duration": 129,
    "start_time": "2025-06-18T10:58:22.406Z"
   },
   {
    "duration": 1724,
    "start_time": "2025-06-18T10:58:22.537Z"
   },
   {
    "duration": 522,
    "start_time": "2025-06-18T10:58:24.263Z"
   },
   {
    "duration": 30,
    "start_time": "2025-06-18T10:58:24.787Z"
   },
   {
    "duration": 108,
    "start_time": "2025-06-18T10:58:24.818Z"
   },
   {
    "duration": 35,
    "start_time": "2025-06-18T10:58:24.928Z"
   },
   {
    "duration": 1774,
    "start_time": "2025-06-18T10:58:24.965Z"
   },
   {
    "duration": 470,
    "start_time": "2025-06-18T10:58:26.741Z"
   },
   {
    "duration": 64,
    "start_time": "2025-06-18T10:58:27.214Z"
   },
   {
    "duration": 133,
    "start_time": "2025-06-18T10:58:27.280Z"
   },
   {
    "duration": 1768,
    "start_time": "2025-06-18T10:58:27.415Z"
   },
   {
    "duration": 482,
    "start_time": "2025-06-18T10:58:29.189Z"
   },
   {
    "duration": 28,
    "start_time": "2025-06-18T10:58:29.673Z"
   },
   {
    "duration": 94,
    "start_time": "2025-06-18T10:58:29.703Z"
   },
   {
    "duration": 50,
    "start_time": "2025-06-18T10:58:29.798Z"
   },
   {
    "duration": 26,
    "start_time": "2025-06-18T10:58:29.850Z"
   },
   {
    "duration": 1557,
    "start_time": "2025-06-18T10:58:29.878Z"
   },
   {
    "duration": 544,
    "start_time": "2025-06-18T10:58:31.438Z"
   },
   {
    "duration": 20,
    "start_time": "2025-06-18T10:58:31.984Z"
   },
   {
    "duration": 7524,
    "start_time": "2025-06-18T10:58:32.006Z"
   },
   {
    "duration": 33,
    "start_time": "2025-06-18T10:58:39.532Z"
   },
   {
    "duration": 79,
    "start_time": "2025-06-18T10:58:39.567Z"
   },
   {
    "duration": 15,
    "start_time": "2025-06-18T10:58:39.648Z"
   },
   {
    "duration": 1497,
    "start_time": "2025-06-18T10:58:39.664Z"
   },
   {
    "duration": 398,
    "start_time": "2025-06-18T10:58:41.163Z"
   },
   {
    "duration": 17,
    "start_time": "2025-06-18T10:58:41.562Z"
   },
   {
    "duration": 93,
    "start_time": "2025-06-18T10:58:41.581Z"
   },
   {
    "duration": 1631,
    "start_time": "2025-06-18T10:58:41.675Z"
   },
   {
    "duration": 414,
    "start_time": "2025-06-18T10:58:43.308Z"
   },
   {
    "duration": 61,
    "start_time": "2025-06-18T10:58:43.723Z"
   },
   {
    "duration": 90,
    "start_time": "2025-06-18T10:58:43.786Z"
   },
   {
    "duration": 41,
    "start_time": "2025-06-18T10:58:43.878Z"
   },
   {
    "duration": 91,
    "start_time": "2025-06-18T10:58:43.921Z"
   },
   {
    "duration": 122,
    "start_time": "2025-06-18T10:58:44.014Z"
   },
   {
    "duration": 13,
    "start_time": "2025-06-18T10:58:44.138Z"
   },
   {
    "duration": 1498,
    "start_time": "2025-06-18T10:58:44.153Z"
   },
   {
    "duration": 462,
    "start_time": "2025-06-18T10:58:45.660Z"
   },
   {
    "duration": 7963,
    "start_time": "2025-06-18T10:58:46.124Z"
   },
   {
    "duration": 30,
    "start_time": "2025-06-18T10:58:54.090Z"
   },
   {
    "duration": 466,
    "start_time": "2025-06-18T10:58:54.122Z"
   },
   {
    "duration": 360,
    "start_time": "2025-06-18T10:58:54.590Z"
   },
   {
    "duration": 95,
    "start_time": "2025-06-18T10:58:54.952Z"
   },
   {
    "duration": 78,
    "start_time": "2025-06-18T10:58:55.049Z"
   },
   {
    "duration": 20,
    "start_time": "2025-06-18T10:58:55.128Z"
   },
   {
    "duration": 27060,
    "start_time": "2025-06-18T10:58:55.150Z"
   },
   {
    "duration": 185,
    "start_time": "2025-06-18T11:07:22.648Z"
   },
   {
    "duration": 19642,
    "start_time": "2025-06-18T11:07:39.211Z"
   },
   {
    "duration": 2173,
    "start_time": "2025-06-18T11:07:58.856Z"
   },
   {
    "duration": 3,
    "start_time": "2025-06-18T11:08:01.031Z"
   },
   {
    "duration": 12,
    "start_time": "2025-06-18T11:08:01.036Z"
   },
   {
    "duration": 12,
    "start_time": "2025-06-18T11:08:01.050Z"
   },
   {
    "duration": 2247,
    "start_time": "2025-06-18T11:08:01.064Z"
   },
   {
    "duration": 742,
    "start_time": "2025-06-18T11:08:03.313Z"
   },
   {
    "duration": 16,
    "start_time": "2025-06-18T11:08:04.061Z"
   },
   {
    "duration": 247,
    "start_time": "2025-06-18T11:08:04.079Z"
   },
   {
    "duration": 1080,
    "start_time": "2025-06-18T11:08:04.328Z"
   },
   {
    "duration": 22,
    "start_time": "2025-06-18T11:08:05.410Z"
   },
   {
    "duration": 2322,
    "start_time": "2025-06-18T11:08:05.435Z"
   },
   {
    "duration": 510,
    "start_time": "2025-06-18T11:08:07.761Z"
   },
   {
    "duration": 18,
    "start_time": "2025-06-18T11:08:08.273Z"
   },
   {
    "duration": 71,
    "start_time": "2025-06-18T11:08:08.293Z"
   },
   {
    "duration": 14,
    "start_time": "2025-06-18T11:08:08.366Z"
   },
   {
    "duration": 90,
    "start_time": "2025-06-18T11:08:08.382Z"
   },
   {
    "duration": 1727,
    "start_time": "2025-06-18T11:08:08.474Z"
   },
   {
    "duration": 480,
    "start_time": "2025-06-18T11:08:10.204Z"
   },
   {
    "duration": 30,
    "start_time": "2025-06-18T11:08:10.686Z"
   },
   {
    "duration": 71,
    "start_time": "2025-06-18T11:08:10.760Z"
   },
   {
    "duration": 36,
    "start_time": "2025-06-18T11:08:10.832Z"
   },
   {
    "duration": 1671,
    "start_time": "2025-06-18T11:08:10.870Z"
   },
   {
    "duration": 457,
    "start_time": "2025-06-18T11:08:12.543Z"
   },
   {
    "duration": 61,
    "start_time": "2025-06-18T11:08:13.002Z"
   },
   {
    "duration": 238,
    "start_time": "2025-06-18T11:08:13.065Z"
   },
   {
    "duration": 1759,
    "start_time": "2025-06-18T11:08:13.306Z"
   },
   {
    "duration": 523,
    "start_time": "2025-06-18T11:08:15.070Z"
   },
   {
    "duration": 72,
    "start_time": "2025-06-18T11:08:15.595Z"
   },
   {
    "duration": 72,
    "start_time": "2025-06-18T11:08:15.669Z"
   },
   {
    "duration": 81,
    "start_time": "2025-06-18T11:08:15.744Z"
   },
   {
    "duration": 41,
    "start_time": "2025-06-18T11:08:15.827Z"
   },
   {
    "duration": 1560,
    "start_time": "2025-06-18T11:08:15.870Z"
   },
   {
    "duration": 570,
    "start_time": "2025-06-18T11:08:17.433Z"
   },
   {
    "duration": 65,
    "start_time": "2025-06-18T11:08:18.005Z"
   },
   {
    "duration": 7412,
    "start_time": "2025-06-18T11:08:18.072Z"
   },
   {
    "duration": 15,
    "start_time": "2025-06-18T11:08:25.486Z"
   },
   {
    "duration": 17,
    "start_time": "2025-06-18T11:08:25.503Z"
   },
   {
    "duration": 50,
    "start_time": "2025-06-18T11:08:25.521Z"
   },
   {
    "duration": 1553,
    "start_time": "2025-06-18T11:08:25.573Z"
   },
   {
    "duration": 376,
    "start_time": "2025-06-18T11:08:27.128Z"
   },
   {
    "duration": 70,
    "start_time": "2025-06-18T11:08:27.506Z"
   },
   {
    "duration": 98,
    "start_time": "2025-06-18T11:08:27.578Z"
   },
   {
    "duration": 1688,
    "start_time": "2025-06-18T11:08:27.678Z"
   },
   {
    "duration": 452,
    "start_time": "2025-06-18T11:08:29.368Z"
   },
   {
    "duration": 60,
    "start_time": "2025-06-18T11:08:29.822Z"
   },
   {
    "duration": 84,
    "start_time": "2025-06-18T11:08:29.884Z"
   },
   {
    "duration": 67,
    "start_time": "2025-06-18T11:08:29.970Z"
   },
   {
    "duration": 142,
    "start_time": "2025-06-18T11:08:30.039Z"
   },
   {
    "duration": 77,
    "start_time": "2025-06-18T11:08:30.183Z"
   },
   {
    "duration": 15,
    "start_time": "2025-06-18T11:08:30.262Z"
   },
   {
    "duration": 1571,
    "start_time": "2025-06-18T11:08:30.279Z"
   },
   {
    "duration": 421,
    "start_time": "2025-06-18T11:08:31.852Z"
   },
   {
    "duration": 7908,
    "start_time": "2025-06-18T11:08:32.274Z"
   },
   {
    "duration": 28,
    "start_time": "2025-06-18T11:08:40.185Z"
   },
   {
    "duration": 438,
    "start_time": "2025-06-18T11:08:40.215Z"
   },
   {
    "duration": 344,
    "start_time": "2025-06-18T11:08:40.655Z"
   },
   {
    "duration": 95,
    "start_time": "2025-06-18T11:08:41.001Z"
   },
   {
    "duration": 107,
    "start_time": "2025-06-18T11:08:41.098Z"
   },
   {
    "duration": 186,
    "start_time": "2025-06-18T11:08:41.207Z"
   },
   {
    "duration": 0,
    "start_time": "2025-06-18T11:08:41.395Z"
   },
   {
    "duration": 0,
    "start_time": "2025-06-18T11:08:41.397Z"
   },
   {
    "duration": 0,
    "start_time": "2025-06-18T11:08:41.398Z"
   },
   {
    "duration": 10,
    "start_time": "2025-06-18T11:11:47.900Z"
   },
   {
    "duration": 31143,
    "start_time": "2025-06-18T11:11:53.233Z"
   },
   {
    "duration": 126084,
    "start_time": "2025-06-18T11:12:36.479Z"
   },
   {
    "duration": 1861,
    "start_time": "2025-06-18T11:15:58.607Z"
   },
   {
    "duration": 7,
    "start_time": "2025-06-18T11:16:22.686Z"
   },
   {
    "duration": 20720,
    "start_time": "2025-06-18T15:59:25.575Z"
   },
   {
    "duration": 2108,
    "start_time": "2025-06-18T15:59:46.298Z"
   },
   {
    "duration": 3,
    "start_time": "2025-06-18T15:59:48.408Z"
   },
   {
    "duration": 8,
    "start_time": "2025-06-18T15:59:48.413Z"
   },
   {
    "duration": 83,
    "start_time": "2025-06-18T15:59:48.423Z"
   },
   {
    "duration": 2136,
    "start_time": "2025-06-18T15:59:48.507Z"
   },
   {
    "duration": 790,
    "start_time": "2025-06-18T15:59:50.645Z"
   },
   {
    "duration": 27,
    "start_time": "2025-06-18T15:59:51.437Z"
   },
   {
    "duration": 224,
    "start_time": "2025-06-18T15:59:51.472Z"
   },
   {
    "duration": 1082,
    "start_time": "2025-06-18T15:59:51.698Z"
   },
   {
    "duration": 19,
    "start_time": "2025-06-18T15:59:52.782Z"
   },
   {
    "duration": 2413,
    "start_time": "2025-06-18T15:59:52.802Z"
   },
   {
    "duration": 552,
    "start_time": "2025-06-18T15:59:55.217Z"
   },
   {
    "duration": 23,
    "start_time": "2025-06-18T15:59:55.773Z"
   },
   {
    "duration": 77,
    "start_time": "2025-06-18T15:59:55.798Z"
   },
   {
    "duration": 14,
    "start_time": "2025-06-18T15:59:55.877Z"
   },
   {
    "duration": 171,
    "start_time": "2025-06-18T15:59:55.893Z"
   },
   {
    "duration": 1770,
    "start_time": "2025-06-18T15:59:56.066Z"
   },
   {
    "duration": 461,
    "start_time": "2025-06-18T15:59:57.838Z"
   },
   {
    "duration": 84,
    "start_time": "2025-06-18T15:59:58.300Z"
   },
   {
    "duration": 225,
    "start_time": "2025-06-18T15:59:58.386Z"
   },
   {
    "duration": 62,
    "start_time": "2025-06-18T15:59:58.613Z"
   },
   {
    "duration": 1738,
    "start_time": "2025-06-18T15:59:58.677Z"
   },
   {
    "duration": 470,
    "start_time": "2025-06-18T16:00:00.417Z"
   },
   {
    "duration": 74,
    "start_time": "2025-06-18T16:00:00.889Z"
   },
   {
    "duration": 222,
    "start_time": "2025-06-18T16:00:00.968Z"
   },
   {
    "duration": 1914,
    "start_time": "2025-06-18T16:00:01.192Z"
   },
   {
    "duration": 492,
    "start_time": "2025-06-18T16:00:03.108Z"
   },
   {
    "duration": 85,
    "start_time": "2025-06-18T16:00:03.602Z"
   },
   {
    "duration": 187,
    "start_time": "2025-06-18T16:00:03.689Z"
   },
   {
    "duration": 95,
    "start_time": "2025-06-18T16:00:03.878Z"
   },
   {
    "duration": 66,
    "start_time": "2025-06-18T16:00:03.975Z"
   },
   {
    "duration": 1635,
    "start_time": "2025-06-18T16:00:04.043Z"
   },
   {
    "duration": 518,
    "start_time": "2025-06-18T16:00:05.680Z"
   },
   {
    "duration": 82,
    "start_time": "2025-06-18T16:00:06.199Z"
   },
   {
    "duration": 7970,
    "start_time": "2025-06-18T16:00:06.283Z"
   },
   {
    "duration": 234,
    "start_time": "2025-06-18T16:00:14.255Z"
   },
   {
    "duration": 0,
    "start_time": "2025-06-18T16:00:14.492Z"
   },
   {
    "duration": 0,
    "start_time": "2025-06-18T16:00:14.494Z"
   },
   {
    "duration": 0,
    "start_time": "2025-06-18T16:00:14.495Z"
   },
   {
    "duration": 0,
    "start_time": "2025-06-18T16:00:14.497Z"
   },
   {
    "duration": 0,
    "start_time": "2025-06-18T16:00:14.498Z"
   },
   {
    "duration": 0,
    "start_time": "2025-06-18T16:00:14.499Z"
   },
   {
    "duration": 0,
    "start_time": "2025-06-18T16:00:14.501Z"
   },
   {
    "duration": 0,
    "start_time": "2025-06-18T16:00:14.503Z"
   },
   {
    "duration": 0,
    "start_time": "2025-06-18T16:00:14.505Z"
   },
   {
    "duration": 0,
    "start_time": "2025-06-18T16:00:14.506Z"
   },
   {
    "duration": 0,
    "start_time": "2025-06-18T16:00:14.508Z"
   },
   {
    "duration": 0,
    "start_time": "2025-06-18T16:00:14.509Z"
   },
   {
    "duration": 0,
    "start_time": "2025-06-18T16:00:14.511Z"
   },
   {
    "duration": 0,
    "start_time": "2025-06-18T16:00:14.513Z"
   },
   {
    "duration": 0,
    "start_time": "2025-06-18T16:00:14.515Z"
   },
   {
    "duration": 0,
    "start_time": "2025-06-18T16:00:14.516Z"
   },
   {
    "duration": 0,
    "start_time": "2025-06-18T16:00:14.518Z"
   },
   {
    "duration": 0,
    "start_time": "2025-06-18T16:00:14.520Z"
   },
   {
    "duration": 0,
    "start_time": "2025-06-18T16:00:14.564Z"
   },
   {
    "duration": 0,
    "start_time": "2025-06-18T16:00:14.565Z"
   },
   {
    "duration": 0,
    "start_time": "2025-06-18T16:00:14.566Z"
   },
   {
    "duration": 0,
    "start_time": "2025-06-18T16:00:14.566Z"
   },
   {
    "duration": 0,
    "start_time": "2025-06-18T16:00:14.567Z"
   },
   {
    "duration": 0,
    "start_time": "2025-06-18T16:00:14.568Z"
   },
   {
    "duration": 0,
    "start_time": "2025-06-18T16:00:14.568Z"
   },
   {
    "duration": 0,
    "start_time": "2025-06-18T16:00:14.569Z"
   },
   {
    "duration": 11,
    "start_time": "2025-06-18T16:12:55.861Z"
   },
   {
    "duration": 16,
    "start_time": "2025-06-18T16:16:25.234Z"
   },
   {
    "duration": 1962,
    "start_time": "2025-06-18T16:16:28.353Z"
   },
   {
    "duration": 276,
    "start_time": "2025-06-18T16:17:04.160Z"
   },
   {
    "duration": 16,
    "start_time": "2025-06-18T16:17:14.520Z"
   },
   {
    "duration": 18,
    "start_time": "2025-06-18T16:17:43.687Z"
   },
   {
    "duration": 1601,
    "start_time": "2025-06-18T16:17:45.588Z"
   },
   {
    "duration": 302,
    "start_time": "2025-06-18T16:17:56.750Z"
   },
   {
    "duration": 32,
    "start_time": "2025-06-18T16:18:02.390Z"
   },
   {
    "duration": 77,
    "start_time": "2025-06-18T16:18:04.008Z"
   },
   {
    "duration": 19014,
    "start_time": "2025-06-18T16:21:28.622Z"
   },
   {
    "duration": 2145,
    "start_time": "2025-06-18T16:21:47.638Z"
   },
   {
    "duration": 3,
    "start_time": "2025-06-18T16:21:49.785Z"
   },
   {
    "duration": 98,
    "start_time": "2025-06-18T16:21:49.791Z"
   },
   {
    "duration": 8,
    "start_time": "2025-06-18T16:21:49.891Z"
   },
   {
    "duration": 2170,
    "start_time": "2025-06-18T16:21:49.901Z"
   },
   {
    "duration": 740,
    "start_time": "2025-06-18T16:21:52.073Z"
   },
   {
    "duration": 17,
    "start_time": "2025-06-18T16:21:52.815Z"
   },
   {
    "duration": 226,
    "start_time": "2025-06-18T16:21:52.834Z"
   },
   {
    "duration": 1029,
    "start_time": "2025-06-18T16:21:53.063Z"
   },
   {
    "duration": 19,
    "start_time": "2025-06-18T16:21:54.093Z"
   },
   {
    "duration": 2289,
    "start_time": "2025-06-18T16:21:54.114Z"
   },
   {
    "duration": 487,
    "start_time": "2025-06-18T16:21:56.405Z"
   },
   {
    "duration": 70,
    "start_time": "2025-06-18T16:21:56.895Z"
   },
   {
    "duration": 15,
    "start_time": "2025-06-18T16:21:56.968Z"
   },
   {
    "duration": 14,
    "start_time": "2025-06-18T16:21:56.985Z"
   },
   {
    "duration": 175,
    "start_time": "2025-06-18T16:21:57.001Z"
   },
   {
    "duration": 1754,
    "start_time": "2025-06-18T16:21:57.178Z"
   },
   {
    "duration": 526,
    "start_time": "2025-06-18T16:21:58.935Z"
   },
   {
    "duration": 30,
    "start_time": "2025-06-18T16:21:59.462Z"
   },
   {
    "duration": 179,
    "start_time": "2025-06-18T16:21:59.494Z"
   },
   {
    "duration": 19,
    "start_time": "2025-06-18T16:21:59.674Z"
   },
   {
    "duration": 1755,
    "start_time": "2025-06-18T16:21:59.695Z"
   },
   {
    "duration": 508,
    "start_time": "2025-06-18T16:22:01.460Z"
   },
   {
    "duration": 19,
    "start_time": "2025-06-18T16:22:01.970Z"
   },
   {
    "duration": 220,
    "start_time": "2025-06-18T16:22:01.991Z"
   },
   {
    "duration": 1718,
    "start_time": "2025-06-18T16:22:02.260Z"
   },
   {
    "duration": 501,
    "start_time": "2025-06-18T16:22:03.983Z"
   },
   {
    "duration": 82,
    "start_time": "2025-06-18T16:22:04.485Z"
   },
   {
    "duration": 117,
    "start_time": "2025-06-18T16:22:04.569Z"
   },
   {
    "duration": 82,
    "start_time": "2025-06-18T16:22:04.688Z"
   },
   {
    "duration": 38,
    "start_time": "2025-06-18T16:22:04.772Z"
   },
   {
    "duration": 1565,
    "start_time": "2025-06-18T16:22:04.812Z"
   },
   {
    "duration": 498,
    "start_time": "2025-06-18T16:22:06.380Z"
   },
   {
    "duration": 21,
    "start_time": "2025-06-18T16:22:06.880Z"
   },
   {
    "duration": 7343,
    "start_time": "2025-06-18T16:22:06.903Z"
   },
   {
    "duration": 26,
    "start_time": "2025-06-18T16:22:14.248Z"
   },
   {
    "duration": 1529,
    "start_time": "2025-06-18T16:22:14.276Z"
   },
   {
    "duration": 396,
    "start_time": "2025-06-18T16:22:15.809Z"
   },
   {
    "duration": 16,
    "start_time": "2025-06-18T16:22:16.260Z"
   },
   {
    "duration": 17,
    "start_time": "2025-06-18T16:22:16.278Z"
   },
   {
    "duration": 1844,
    "start_time": "2025-06-18T16:22:16.297Z"
   },
   {
    "duration": 444,
    "start_time": "2025-06-18T16:22:18.144Z"
   },
   {
    "duration": 80,
    "start_time": "2025-06-18T16:22:18.590Z"
   },
   {
    "duration": 114,
    "start_time": "2025-06-18T16:22:18.671Z"
   },
   {
    "duration": 40,
    "start_time": "2025-06-18T16:22:18.786Z"
   },
   {
    "duration": 54,
    "start_time": "2025-06-18T16:22:18.828Z"
   },
   {
    "duration": 87,
    "start_time": "2025-06-18T16:22:18.884Z"
   },
   {
    "duration": 17,
    "start_time": "2025-06-18T16:22:18.973Z"
   },
   {
    "duration": 1521,
    "start_time": "2025-06-18T16:22:18.992Z"
   },
   {
    "duration": 393,
    "start_time": "2025-06-18T16:22:20.514Z"
   },
   {
    "duration": 7902,
    "start_time": "2025-06-18T16:22:20.960Z"
   },
   {
    "duration": 28,
    "start_time": "2025-06-18T16:22:28.864Z"
   },
   {
    "duration": 457,
    "start_time": "2025-06-18T16:22:28.894Z"
   },
   {
    "duration": 342,
    "start_time": "2025-06-18T16:22:29.353Z"
   },
   {
    "duration": 104,
    "start_time": "2025-06-18T16:22:29.697Z"
   },
   {
    "duration": 13,
    "start_time": "2025-06-18T16:22:29.803Z"
   },
   {
    "duration": 248,
    "start_time": "2025-06-18T16:22:29.819Z"
   },
   {
    "duration": 0,
    "start_time": "2025-06-18T16:22:30.069Z"
   },
   {
    "duration": 0,
    "start_time": "2025-06-18T16:22:30.070Z"
   },
   {
    "duration": 0,
    "start_time": "2025-06-18T16:22:30.072Z"
   },
   {
    "duration": 2591,
    "start_time": "2025-06-18T16:27:17.261Z"
   },
   {
    "duration": 1899,
    "start_time": "2025-06-18T16:27:37.021Z"
   },
   {
    "duration": 2721,
    "start_time": "2025-06-18T16:28:38.176Z"
   },
   {
    "duration": 2149,
    "start_time": "2025-06-18T16:28:45.425Z"
   },
   {
    "duration": 9245,
    "start_time": "2025-06-18T16:29:52.502Z"
   },
   {
    "duration": 8138,
    "start_time": "2025-06-18T16:30:07.711Z"
   },
   {
    "duration": 19799,
    "start_time": "2025-06-18T16:35:26.767Z"
   },
   {
    "duration": 2327,
    "start_time": "2025-06-18T16:35:46.569Z"
   },
   {
    "duration": 3,
    "start_time": "2025-06-18T16:35:48.898Z"
   },
   {
    "duration": 7,
    "start_time": "2025-06-18T16:35:48.904Z"
   },
   {
    "duration": 17,
    "start_time": "2025-06-18T16:35:48.914Z"
   },
   {
    "duration": 2121,
    "start_time": "2025-06-18T16:35:48.933Z"
   },
   {
    "duration": 773,
    "start_time": "2025-06-18T16:35:51.059Z"
   },
   {
    "duration": 29,
    "start_time": "2025-06-18T16:35:51.834Z"
   },
   {
    "duration": 270,
    "start_time": "2025-06-18T16:35:51.865Z"
   },
   {
    "duration": 1069,
    "start_time": "2025-06-18T16:35:52.137Z"
   },
   {
    "duration": 20,
    "start_time": "2025-06-18T16:35:53.208Z"
   },
   {
    "duration": 2340,
    "start_time": "2025-06-18T16:35:53.230Z"
   },
   {
    "duration": 507,
    "start_time": "2025-06-18T16:35:55.572Z"
   },
   {
    "duration": 18,
    "start_time": "2025-06-18T16:35:56.081Z"
   },
   {
    "duration": 71,
    "start_time": "2025-06-18T16:35:56.101Z"
   },
   {
    "duration": 15,
    "start_time": "2025-06-18T16:35:56.174Z"
   },
   {
    "duration": 195,
    "start_time": "2025-06-18T16:35:56.191Z"
   },
   {
    "duration": 1807,
    "start_time": "2025-06-18T16:35:56.388Z"
   },
   {
    "duration": 481,
    "start_time": "2025-06-18T16:35:58.197Z"
   },
   {
    "duration": 81,
    "start_time": "2025-06-18T16:35:58.680Z"
   },
   {
    "duration": 128,
    "start_time": "2025-06-18T16:35:58.763Z"
   },
   {
    "duration": 75,
    "start_time": "2025-06-18T16:35:58.893Z"
   },
   {
    "duration": 1746,
    "start_time": "2025-06-18T16:35:58.970Z"
   },
   {
    "duration": 469,
    "start_time": "2025-06-18T16:36:00.718Z"
   },
   {
    "duration": 73,
    "start_time": "2025-06-18T16:36:01.189Z"
   },
   {
    "duration": 224,
    "start_time": "2025-06-18T16:36:01.264Z"
   },
   {
    "duration": 1798,
    "start_time": "2025-06-18T16:36:01.490Z"
   },
   {
    "duration": 481,
    "start_time": "2025-06-18T16:36:03.294Z"
   },
   {
    "duration": 28,
    "start_time": "2025-06-18T16:36:03.777Z"
   },
   {
    "duration": 169,
    "start_time": "2025-06-18T16:36:03.807Z"
   },
   {
    "duration": 92,
    "start_time": "2025-06-18T16:36:03.979Z"
   },
   {
    "duration": 110,
    "start_time": "2025-06-18T16:36:04.072Z"
   },
   {
    "duration": 1623,
    "start_time": "2025-06-18T16:36:04.184Z"
   },
   {
    "duration": 550,
    "start_time": "2025-06-18T16:36:05.811Z"
   },
   {
    "duration": 22,
    "start_time": "2025-06-18T16:36:06.363Z"
   },
   {
    "duration": 7626,
    "start_time": "2025-06-18T16:36:06.387Z"
   },
   {
    "duration": 209,
    "start_time": "2025-06-18T16:36:14.015Z"
   },
   {
    "duration": 0,
    "start_time": "2025-06-18T16:36:14.226Z"
   },
   {
    "duration": 0,
    "start_time": "2025-06-18T16:36:14.228Z"
   },
   {
    "duration": 0,
    "start_time": "2025-06-18T16:36:14.229Z"
   },
   {
    "duration": 0,
    "start_time": "2025-06-18T16:36:14.230Z"
   },
   {
    "duration": 0,
    "start_time": "2025-06-18T16:36:14.231Z"
   },
   {
    "duration": 0,
    "start_time": "2025-06-18T16:36:14.232Z"
   },
   {
    "duration": 0,
    "start_time": "2025-06-18T16:36:14.234Z"
   },
   {
    "duration": 0,
    "start_time": "2025-06-18T16:36:14.235Z"
   },
   {
    "duration": 0,
    "start_time": "2025-06-18T16:36:14.236Z"
   },
   {
    "duration": 0,
    "start_time": "2025-06-18T16:36:14.237Z"
   },
   {
    "duration": 0,
    "start_time": "2025-06-18T16:36:14.261Z"
   },
   {
    "duration": 0,
    "start_time": "2025-06-18T16:36:14.263Z"
   },
   {
    "duration": 0,
    "start_time": "2025-06-18T16:36:14.264Z"
   },
   {
    "duration": 0,
    "start_time": "2025-06-18T16:36:14.265Z"
   },
   {
    "duration": 0,
    "start_time": "2025-06-18T16:36:14.267Z"
   },
   {
    "duration": 0,
    "start_time": "2025-06-18T16:36:14.268Z"
   },
   {
    "duration": 0,
    "start_time": "2025-06-18T16:36:14.270Z"
   },
   {
    "duration": 0,
    "start_time": "2025-06-18T16:36:14.271Z"
   },
   {
    "duration": 0,
    "start_time": "2025-06-18T16:36:14.273Z"
   },
   {
    "duration": 0,
    "start_time": "2025-06-18T16:36:14.274Z"
   },
   {
    "duration": 0,
    "start_time": "2025-06-18T16:36:14.275Z"
   },
   {
    "duration": 0,
    "start_time": "2025-06-18T16:36:14.276Z"
   },
   {
    "duration": 0,
    "start_time": "2025-06-18T16:36:14.278Z"
   },
   {
    "duration": 0,
    "start_time": "2025-06-18T16:36:14.279Z"
   },
   {
    "duration": 0,
    "start_time": "2025-06-18T16:36:14.281Z"
   },
   {
    "duration": 0,
    "start_time": "2025-06-18T16:36:14.282Z"
   },
   {
    "duration": 0,
    "start_time": "2025-06-18T16:36:14.283Z"
   },
   {
    "duration": 0,
    "start_time": "2025-06-18T16:36:14.284Z"
   },
   {
    "duration": 19693,
    "start_time": "2025-06-18T16:37:24.393Z"
   },
   {
    "duration": 2176,
    "start_time": "2025-06-18T16:37:44.089Z"
   },
   {
    "duration": 3,
    "start_time": "2025-06-18T16:37:46.268Z"
   },
   {
    "duration": 10,
    "start_time": "2025-06-18T16:37:46.273Z"
   },
   {
    "duration": 9,
    "start_time": "2025-06-18T16:37:46.284Z"
   },
   {
    "duration": 1918,
    "start_time": "2025-06-18T16:37:46.295Z"
   },
   {
    "duration": 723,
    "start_time": "2025-06-18T16:37:48.215Z"
   },
   {
    "duration": 22,
    "start_time": "2025-06-18T16:37:48.940Z"
   },
   {
    "duration": 240,
    "start_time": "2025-06-18T16:37:48.965Z"
   },
   {
    "duration": 1082,
    "start_time": "2025-06-18T16:37:49.209Z"
   },
   {
    "duration": 21,
    "start_time": "2025-06-18T16:37:50.293Z"
   },
   {
    "duration": 2432,
    "start_time": "2025-06-18T16:37:50.316Z"
   },
   {
    "duration": 537,
    "start_time": "2025-06-18T16:37:52.760Z"
   },
   {
    "duration": 71,
    "start_time": "2025-06-18T16:37:53.298Z"
   },
   {
    "duration": 35,
    "start_time": "2025-06-18T16:37:53.371Z"
   },
   {
    "duration": 66,
    "start_time": "2025-06-18T16:37:53.408Z"
   },
   {
    "duration": 132,
    "start_time": "2025-06-18T16:37:53.477Z"
   },
   {
    "duration": 1784,
    "start_time": "2025-06-18T16:37:53.611Z"
   },
   {
    "duration": 570,
    "start_time": "2025-06-18T16:37:55.398Z"
   },
   {
    "duration": 95,
    "start_time": "2025-06-18T16:37:55.970Z"
   },
   {
    "duration": 193,
    "start_time": "2025-06-18T16:37:56.067Z"
   },
   {
    "duration": 20,
    "start_time": "2025-06-18T16:37:56.262Z"
   },
   {
    "duration": 1792,
    "start_time": "2025-06-18T16:37:56.284Z"
   },
   {
    "duration": 509,
    "start_time": "2025-06-18T16:37:58.078Z"
   },
   {
    "duration": 71,
    "start_time": "2025-06-18T16:37:58.589Z"
   },
   {
    "duration": 248,
    "start_time": "2025-06-18T16:37:58.662Z"
   },
   {
    "duration": 1833,
    "start_time": "2025-06-18T16:37:58.912Z"
   },
   {
    "duration": 510,
    "start_time": "2025-06-18T16:38:00.750Z"
   },
   {
    "duration": 29,
    "start_time": "2025-06-18T16:38:01.262Z"
   },
   {
    "duration": 183,
    "start_time": "2025-06-18T16:38:01.293Z"
   },
   {
    "duration": 42,
    "start_time": "2025-06-18T16:38:01.479Z"
   },
   {
    "duration": 56,
    "start_time": "2025-06-18T16:38:01.523Z"
   },
   {
    "duration": 1602,
    "start_time": "2025-06-18T16:38:01.581Z"
   },
   {
    "duration": 516,
    "start_time": "2025-06-18T16:38:03.185Z"
   },
   {
    "duration": 74,
    "start_time": "2025-06-18T16:38:03.703Z"
   },
   {
    "duration": 7473,
    "start_time": "2025-06-18T16:38:03.779Z"
   },
   {
    "duration": 112,
    "start_time": "2025-06-18T16:38:11.260Z"
   },
   {
    "duration": 37,
    "start_time": "2025-06-18T16:38:11.375Z"
   },
   {
    "duration": 18,
    "start_time": "2025-06-18T16:38:11.414Z"
   },
   {
    "duration": 38,
    "start_time": "2025-06-18T16:38:11.435Z"
   },
   {
    "duration": 1549,
    "start_time": "2025-06-18T16:38:11.476Z"
   },
   {
    "duration": 535,
    "start_time": "2025-06-18T16:38:13.028Z"
   },
   {
    "duration": 20,
    "start_time": "2025-06-18T16:38:13.565Z"
   },
   {
    "duration": 75,
    "start_time": "2025-06-18T16:38:13.587Z"
   },
   {
    "duration": 1824,
    "start_time": "2025-06-18T16:38:13.663Z"
   },
   {
    "duration": 495,
    "start_time": "2025-06-18T16:38:15.490Z"
   },
   {
    "duration": 77,
    "start_time": "2025-06-18T16:38:15.987Z"
   },
   {
    "duration": 124,
    "start_time": "2025-06-18T16:38:16.065Z"
   },
   {
    "duration": 85,
    "start_time": "2025-06-18T16:38:16.191Z"
   },
   {
    "duration": 32,
    "start_time": "2025-06-18T16:38:16.278Z"
   },
   {
    "duration": 97,
    "start_time": "2025-06-18T16:38:16.311Z"
   },
   {
    "duration": 16,
    "start_time": "2025-06-18T16:38:16.410Z"
   },
   {
    "duration": 1549,
    "start_time": "2025-06-18T16:38:16.428Z"
   },
   {
    "duration": 494,
    "start_time": "2025-06-18T16:38:17.979Z"
   },
   {
    "duration": 8228,
    "start_time": "2025-06-18T16:38:18.476Z"
   },
   {
    "duration": 30,
    "start_time": "2025-06-18T16:38:26.706Z"
   },
   {
    "duration": 436,
    "start_time": "2025-06-18T16:38:26.761Z"
   },
   {
    "duration": 11,
    "start_time": "2025-06-18T16:38:27.200Z"
   },
   {
    "duration": 368,
    "start_time": "2025-06-18T16:38:27.213Z"
   },
   {
    "duration": 104,
    "start_time": "2025-06-18T16:38:27.584Z"
   },
   {
    "duration": 14,
    "start_time": "2025-06-18T16:38:27.690Z"
   },
   {
    "duration": 9253,
    "start_time": "2025-06-18T16:38:27.707Z"
   },
   {
    "duration": 35928,
    "start_time": "2025-06-18T16:38:36.962Z"
   },
   {
    "duration": 142678,
    "start_time": "2025-06-18T16:39:12.891Z"
   },
   {
    "duration": 3006,
    "start_time": "2025-06-18T16:41:35.662Z"
   },
   {
    "duration": 13,
    "start_time": "2025-06-18T16:42:13.693Z"
   },
   {
    "duration": 19350,
    "start_time": "2025-06-18T16:47:51.563Z"
   },
   {
    "duration": 2086,
    "start_time": "2025-06-18T16:48:10.916Z"
   },
   {
    "duration": 3,
    "start_time": "2025-06-18T16:48:13.004Z"
   },
   {
    "duration": 13,
    "start_time": "2025-06-18T16:48:13.009Z"
   },
   {
    "duration": 7,
    "start_time": "2025-06-18T16:48:13.024Z"
   },
   {
    "duration": 2028,
    "start_time": "2025-06-18T16:48:13.033Z"
   },
   {
    "duration": 792,
    "start_time": "2025-06-18T16:48:15.063Z"
   },
   {
    "duration": 18,
    "start_time": "2025-06-18T16:48:15.857Z"
   },
   {
    "duration": 278,
    "start_time": "2025-06-18T16:48:15.877Z"
   },
   {
    "duration": 1132,
    "start_time": "2025-06-18T16:48:16.159Z"
   },
   {
    "duration": 21,
    "start_time": "2025-06-18T16:48:17.294Z"
   },
   {
    "duration": 2514,
    "start_time": "2025-06-18T16:48:17.318Z"
   },
   {
    "duration": 468,
    "start_time": "2025-06-18T16:48:19.835Z"
   },
   {
    "duration": 71,
    "start_time": "2025-06-18T16:48:20.305Z"
   },
   {
    "duration": 16,
    "start_time": "2025-06-18T16:48:20.378Z"
   },
   {
    "duration": 67,
    "start_time": "2025-06-18T16:48:20.396Z"
   },
   {
    "duration": 125,
    "start_time": "2025-06-18T16:48:20.465Z"
   },
   {
    "duration": 1890,
    "start_time": "2025-06-18T16:48:20.593Z"
   },
   {
    "duration": 488,
    "start_time": "2025-06-18T16:48:22.485Z"
   },
   {
    "duration": 31,
    "start_time": "2025-06-18T16:48:22.975Z"
   },
   {
    "duration": 132,
    "start_time": "2025-06-18T16:48:23.061Z"
   },
   {
    "duration": 72,
    "start_time": "2025-06-18T16:48:23.195Z"
   },
   {
    "duration": 1821,
    "start_time": "2025-06-18T16:48:23.269Z"
   },
   {
    "duration": 490,
    "start_time": "2025-06-18T16:48:25.092Z"
   },
   {
    "duration": 20,
    "start_time": "2025-06-18T16:48:25.584Z"
   },
   {
    "duration": 242,
    "start_time": "2025-06-18T16:48:25.661Z"
   },
   {
    "duration": 1754,
    "start_time": "2025-06-18T16:48:25.904Z"
   },
   {
    "duration": 523,
    "start_time": "2025-06-18T16:48:27.663Z"
   },
   {
    "duration": 75,
    "start_time": "2025-06-18T16:48:28.188Z"
   },
   {
    "duration": 116,
    "start_time": "2025-06-18T16:48:28.264Z"
   },
   {
    "duration": 92,
    "start_time": "2025-06-18T16:48:28.382Z"
   },
   {
    "duration": 207,
    "start_time": "2025-06-18T16:48:28.476Z"
   },
   {
    "duration": 1576,
    "start_time": "2025-06-18T16:48:28.685Z"
   },
   {
    "duration": 507,
    "start_time": "2025-06-18T16:48:30.264Z"
   },
   {
    "duration": 26,
    "start_time": "2025-06-18T16:48:30.772Z"
   },
   {
    "duration": 7541,
    "start_time": "2025-06-18T16:48:30.800Z"
   },
   {
    "duration": 108,
    "start_time": "2025-06-18T16:48:38.343Z"
   },
   {
    "duration": 17,
    "start_time": "2025-06-18T16:48:38.461Z"
   },
   {
    "duration": 183,
    "start_time": "2025-06-18T16:48:38.480Z"
   },
   {
    "duration": 15,
    "start_time": "2025-06-18T16:48:38.665Z"
   },
   {
    "duration": 1556,
    "start_time": "2025-06-18T16:48:38.682Z"
   },
   {
    "duration": 422,
    "start_time": "2025-06-18T16:48:40.241Z"
   },
   {
    "duration": 17,
    "start_time": "2025-06-18T16:48:40.665Z"
   },
   {
    "duration": 21,
    "start_time": "2025-06-18T16:48:40.683Z"
   },
   {
    "duration": 1793,
    "start_time": "2025-06-18T16:48:40.761Z"
   },
   {
    "duration": 425,
    "start_time": "2025-06-18T16:48:42.560Z"
   },
   {
    "duration": 78,
    "start_time": "2025-06-18T16:48:42.987Z"
   },
   {
    "duration": 98,
    "start_time": "2025-06-18T16:48:43.066Z"
   },
   {
    "duration": 40,
    "start_time": "2025-06-18T16:48:43.165Z"
   },
   {
    "duration": 53,
    "start_time": "2025-06-18T16:48:43.207Z"
   },
   {
    "duration": 65,
    "start_time": "2025-06-18T16:48:43.262Z"
   },
   {
    "duration": 38,
    "start_time": "2025-06-18T16:48:43.329Z"
   },
   {
    "duration": 1535,
    "start_time": "2025-06-18T16:48:43.369Z"
   },
   {
    "duration": 458,
    "start_time": "2025-06-18T16:48:44.906Z"
   },
   {
    "duration": 7742,
    "start_time": "2025-06-18T16:48:45.365Z"
   },
   {
    "duration": 28,
    "start_time": "2025-06-18T16:48:53.109Z"
   },
   {
    "duration": 461,
    "start_time": "2025-06-18T16:48:53.139Z"
   },
   {
    "duration": 1228,
    "start_time": "2025-06-18T16:53:31.564Z"
   },
   {
    "duration": 567,
    "start_time": "2025-06-18T16:54:44.572Z"
   },
   {
    "duration": 5,
    "start_time": "2025-06-18T16:56:25.497Z"
   },
   {
    "duration": 52,
    "start_time": "2025-06-18T16:57:24.379Z"
   },
   {
    "duration": 11,
    "start_time": "2025-06-18T16:59:06.300Z"
   },
   {
    "duration": 19984,
    "start_time": "2025-06-18T16:59:15.157Z"
   },
   {
    "duration": 3796,
    "start_time": "2025-06-18T16:59:35.144Z"
   },
   {
    "duration": 3,
    "start_time": "2025-06-18T16:59:38.942Z"
   },
   {
    "duration": 13,
    "start_time": "2025-06-18T16:59:38.948Z"
   },
   {
    "duration": 11,
    "start_time": "2025-06-18T16:59:38.964Z"
   },
   {
    "duration": 2030,
    "start_time": "2025-06-18T16:59:38.977Z"
   },
   {
    "duration": 739,
    "start_time": "2025-06-18T16:59:41.010Z"
   },
   {
    "duration": 16,
    "start_time": "2025-06-18T16:59:41.750Z"
   },
   {
    "duration": 239,
    "start_time": "2025-06-18T16:59:41.768Z"
   },
   {
    "duration": 1003,
    "start_time": "2025-06-18T16:59:42.010Z"
   },
   {
    "duration": 19,
    "start_time": "2025-06-18T16:59:43.015Z"
   },
   {
    "duration": 2402,
    "start_time": "2025-06-18T16:59:43.036Z"
   },
   {
    "duration": 652,
    "start_time": "2025-06-18T16:59:45.441Z"
   },
   {
    "duration": 69,
    "start_time": "2025-06-18T16:59:46.096Z"
   },
   {
    "duration": 15,
    "start_time": "2025-06-18T16:59:46.168Z"
   },
   {
    "duration": 77,
    "start_time": "2025-06-18T16:59:46.185Z"
   },
   {
    "duration": 130,
    "start_time": "2025-06-18T16:59:46.264Z"
   },
   {
    "duration": 1778,
    "start_time": "2025-06-18T16:59:46.396Z"
   },
   {
    "duration": 508,
    "start_time": "2025-06-18T16:59:48.176Z"
   },
   {
    "duration": 92,
    "start_time": "2025-06-18T16:59:48.685Z"
   },
   {
    "duration": 191,
    "start_time": "2025-06-18T16:59:48.779Z"
   },
   {
    "duration": 20,
    "start_time": "2025-06-18T16:59:48.972Z"
   },
   {
    "duration": 1761,
    "start_time": "2025-06-18T16:59:48.994Z"
   },
   {
    "duration": 519,
    "start_time": "2025-06-18T16:59:50.762Z"
   },
   {
    "duration": 20,
    "start_time": "2025-06-18T16:59:51.283Z"
   },
   {
    "duration": 281,
    "start_time": "2025-06-18T16:59:51.305Z"
   },
   {
    "duration": 1803,
    "start_time": "2025-06-18T16:59:51.588Z"
   },
   {
    "duration": 492,
    "start_time": "2025-06-18T16:59:53.397Z"
   },
   {
    "duration": 92,
    "start_time": "2025-06-18T16:59:53.891Z"
   },
   {
    "duration": 118,
    "start_time": "2025-06-18T16:59:53.985Z"
   },
   {
    "duration": 94,
    "start_time": "2025-06-18T16:59:54.105Z"
   },
   {
    "duration": 41,
    "start_time": "2025-06-18T16:59:54.200Z"
   },
   {
    "duration": 1611,
    "start_time": "2025-06-18T16:59:54.243Z"
   },
   {
    "duration": 545,
    "start_time": "2025-06-18T16:59:55.856Z"
   },
   {
    "duration": 79,
    "start_time": "2025-06-18T16:59:56.403Z"
   },
   {
    "duration": 7662,
    "start_time": "2025-06-18T16:59:56.484Z"
   },
   {
    "duration": 119,
    "start_time": "2025-06-18T17:00:04.148Z"
   },
   {
    "duration": 17,
    "start_time": "2025-06-18T17:00:04.270Z"
   },
   {
    "duration": 21,
    "start_time": "2025-06-18T17:00:04.288Z"
   },
   {
    "duration": 51,
    "start_time": "2025-06-18T17:00:04.311Z"
   },
   {
    "duration": 1614,
    "start_time": "2025-06-18T17:00:04.364Z"
   },
   {
    "duration": 487,
    "start_time": "2025-06-18T17:00:05.981Z"
   },
   {
    "duration": 18,
    "start_time": "2025-06-18T17:00:06.471Z"
   },
   {
    "duration": 105,
    "start_time": "2025-06-18T17:00:06.491Z"
   },
   {
    "duration": 1921,
    "start_time": "2025-06-18T17:00:06.598Z"
   },
   {
    "duration": 473,
    "start_time": "2025-06-18T17:00:08.521Z"
   },
   {
    "duration": 98,
    "start_time": "2025-06-18T17:00:08.996Z"
   },
   {
    "duration": 135,
    "start_time": "2025-06-18T17:00:09.097Z"
   },
   {
    "duration": 40,
    "start_time": "2025-06-18T17:00:09.261Z"
   },
   {
    "duration": 33,
    "start_time": "2025-06-18T17:00:09.303Z"
   },
   {
    "duration": 68,
    "start_time": "2025-06-18T17:00:09.361Z"
   },
   {
    "duration": 61,
    "start_time": "2025-06-18T17:00:09.431Z"
   },
   {
    "duration": 1534,
    "start_time": "2025-06-18T17:00:09.493Z"
   },
   {
    "duration": 557,
    "start_time": "2025-06-18T17:00:11.029Z"
   },
   {
    "duration": 8338,
    "start_time": "2025-06-18T17:00:11.588Z"
   },
   {
    "duration": 50,
    "start_time": "2025-06-18T17:00:19.928Z"
   },
   {
    "duration": 451,
    "start_time": "2025-06-18T17:00:19.980Z"
   },
   {
    "duration": 1144,
    "start_time": "2025-06-18T17:00:20.433Z"
   },
   {
    "duration": 568,
    "start_time": "2025-06-18T17:00:21.579Z"
   },
   {
    "duration": 3,
    "start_time": "2025-06-18T17:00:22.149Z"
   },
   {
    "duration": 19347,
    "start_time": "2025-06-18T17:01:55.048Z"
   },
   {
    "duration": 3718,
    "start_time": "2025-06-18T17:02:14.398Z"
   },
   {
    "duration": 4,
    "start_time": "2025-06-18T17:02:18.118Z"
   },
   {
    "duration": 5,
    "start_time": "2025-06-18T17:02:18.124Z"
   },
   {
    "duration": 30,
    "start_time": "2025-06-18T17:02:18.131Z"
   },
   {
    "duration": 2050,
    "start_time": "2025-06-18T17:02:18.163Z"
   },
   {
    "duration": 692,
    "start_time": "2025-06-18T17:02:20.215Z"
   },
   {
    "duration": 16,
    "start_time": "2025-06-18T17:02:20.909Z"
   },
   {
    "duration": 211,
    "start_time": "2025-06-18T17:02:20.927Z"
   },
   {
    "duration": 950,
    "start_time": "2025-06-18T17:02:21.140Z"
   },
   {
    "duration": 18,
    "start_time": "2025-06-18T17:02:22.092Z"
   },
   {
    "duration": 2235,
    "start_time": "2025-06-18T17:02:22.112Z"
   },
   {
    "duration": 526,
    "start_time": "2025-06-18T17:02:24.350Z"
   },
   {
    "duration": 18,
    "start_time": "2025-06-18T17:02:24.877Z"
   },
   {
    "duration": 69,
    "start_time": "2025-06-18T17:02:24.897Z"
   },
   {
    "duration": 14,
    "start_time": "2025-06-18T17:02:24.968Z"
   },
   {
    "duration": 119,
    "start_time": "2025-06-18T17:02:24.984Z"
   },
   {
    "duration": 1773,
    "start_time": "2025-06-18T17:02:25.105Z"
   },
   {
    "duration": 506,
    "start_time": "2025-06-18T17:02:26.881Z"
   },
   {
    "duration": 80,
    "start_time": "2025-06-18T17:02:27.389Z"
   },
   {
    "duration": 135,
    "start_time": "2025-06-18T17:02:27.471Z"
   },
   {
    "duration": 69,
    "start_time": "2025-06-18T17:02:27.608Z"
   },
   {
    "duration": 1629,
    "start_time": "2025-06-18T17:02:27.679Z"
   },
   {
    "duration": 459,
    "start_time": "2025-06-18T17:02:29.311Z"
   },
   {
    "duration": 18,
    "start_time": "2025-06-18T17:02:29.772Z"
   },
   {
    "duration": 290,
    "start_time": "2025-06-18T17:02:29.792Z"
   },
   {
    "duration": 1688,
    "start_time": "2025-06-18T17:02:30.084Z"
   },
   {
    "duration": 508,
    "start_time": "2025-06-18T17:02:31.779Z"
   },
   {
    "duration": 84,
    "start_time": "2025-06-18T17:02:32.289Z"
   },
   {
    "duration": 119,
    "start_time": "2025-06-18T17:02:32.375Z"
   },
   {
    "duration": 71,
    "start_time": "2025-06-18T17:02:32.495Z"
   },
   {
    "duration": 176,
    "start_time": "2025-06-18T17:02:32.568Z"
   },
   {
    "duration": 1458,
    "start_time": "2025-06-18T17:02:32.745Z"
   },
   {
    "duration": 471,
    "start_time": "2025-06-18T17:02:34.206Z"
   },
   {
    "duration": 20,
    "start_time": "2025-06-18T17:02:34.679Z"
   },
   {
    "duration": 7320,
    "start_time": "2025-06-18T17:02:34.701Z"
   },
   {
    "duration": 105,
    "start_time": "2025-06-18T17:02:42.022Z"
   },
   {
    "duration": 33,
    "start_time": "2025-06-18T17:02:42.129Z"
   },
   {
    "duration": 87,
    "start_time": "2025-06-18T17:02:42.163Z"
   },
   {
    "duration": 15,
    "start_time": "2025-06-18T17:02:42.252Z"
   },
   {
    "duration": 1414,
    "start_time": "2025-06-18T17:02:42.269Z"
   },
   {
    "duration": 414,
    "start_time": "2025-06-18T17:02:43.685Z"
   },
   {
    "duration": 68,
    "start_time": "2025-06-18T17:02:44.101Z"
   },
   {
    "duration": 18,
    "start_time": "2025-06-18T17:02:44.171Z"
   },
   {
    "duration": 1769,
    "start_time": "2025-06-18T17:02:44.191Z"
   },
   {
    "duration": 502,
    "start_time": "2025-06-18T17:02:45.962Z"
   },
   {
    "duration": 29,
    "start_time": "2025-06-18T17:02:46.466Z"
   },
   {
    "duration": 119,
    "start_time": "2025-06-18T17:02:46.497Z"
   },
   {
    "duration": 142,
    "start_time": "2025-06-18T17:02:46.618Z"
   },
   {
    "duration": 87,
    "start_time": "2025-06-18T17:02:46.762Z"
   },
   {
    "duration": 65,
    "start_time": "2025-06-18T17:02:46.851Z"
   },
   {
    "duration": 13,
    "start_time": "2025-06-18T17:02:46.918Z"
   },
   {
    "duration": 1470,
    "start_time": "2025-06-18T17:02:46.932Z"
   },
   {
    "duration": 457,
    "start_time": "2025-06-18T17:02:48.404Z"
   },
   {
    "duration": 7624,
    "start_time": "2025-06-18T17:02:48.863Z"
   },
   {
    "duration": 27,
    "start_time": "2025-06-18T17:02:56.488Z"
   },
   {
    "duration": 572,
    "start_time": "2025-06-18T17:02:56.517Z"
   },
   {
    "duration": 206,
    "start_time": "2025-06-18T17:02:57.091Z"
   },
   {
    "duration": 0,
    "start_time": "2025-06-18T17:02:57.299Z"
   },
   {
    "duration": 0,
    "start_time": "2025-06-18T17:02:57.300Z"
   },
   {
    "duration": 0,
    "start_time": "2025-06-18T17:02:57.301Z"
   },
   {
    "duration": 0,
    "start_time": "2025-06-18T17:02:57.302Z"
   },
   {
    "duration": 316,
    "start_time": "2025-06-18T17:03:37.546Z"
   },
   {
    "duration": 1027,
    "start_time": "2025-06-18T17:03:44.527Z"
   },
   {
    "duration": 502,
    "start_time": "2025-06-18T17:03:51.539Z"
   },
   {
    "duration": 3,
    "start_time": "2025-06-18T17:04:01.609Z"
   },
   {
    "duration": 54,
    "start_time": "2025-06-18T17:04:27.300Z"
   },
   {
    "duration": 22482,
    "start_time": "2025-06-18T17:35:36.986Z"
   },
   {
    "duration": 108,
    "start_time": "2025-06-18T17:35:59.470Z"
   },
   {
    "duration": 3,
    "start_time": "2025-06-18T17:35:59.579Z"
   },
   {
    "duration": 15,
    "start_time": "2025-06-18T17:35:59.584Z"
   },
   {
    "duration": 13,
    "start_time": "2025-06-18T17:35:59.601Z"
   },
   {
    "duration": 2064,
    "start_time": "2025-06-18T17:43:21.049Z"
   },
   {
    "duration": 693,
    "start_time": "2025-06-18T17:43:47.558Z"
   },
   {
    "duration": 16,
    "start_time": "2025-06-18T17:44:19.840Z"
   },
   {
    "duration": 104,
    "start_time": "2025-06-18T18:16:54.762Z"
   },
   {
    "duration": 523,
    "start_time": "2025-06-18T18:17:41.228Z"
   },
   {
    "duration": 449,
    "start_time": "2025-06-18T18:17:58.515Z"
   },
   {
    "duration": 19267,
    "start_time": "2025-06-18T18:18:08.476Z"
   },
   {
    "duration": 2183,
    "start_time": "2025-06-18T18:18:27.745Z"
   },
   {
    "duration": 3,
    "start_time": "2025-06-18T18:18:29.929Z"
   },
   {
    "duration": 27,
    "start_time": "2025-06-18T18:18:29.934Z"
   },
   {
    "duration": 8,
    "start_time": "2025-06-18T18:18:29.963Z"
   },
   {
    "duration": 1875,
    "start_time": "2025-06-18T18:18:29.972Z"
   },
   {
    "duration": 705,
    "start_time": "2025-06-18T18:18:31.849Z"
   },
   {
    "duration": 17,
    "start_time": "2025-06-18T18:18:32.559Z"
   },
   {
    "duration": 497,
    "start_time": "2025-06-18T18:18:32.578Z"
   },
   {
    "duration": 561,
    "start_time": "2025-06-18T18:19:17.384Z"
   },
   {
    "duration": 18,
    "start_time": "2025-06-18T18:20:23.171Z"
   },
   {
    "duration": 54,
    "start_time": "2025-06-18T18:21:10.087Z"
   },
   {
    "duration": 31,
    "start_time": "2025-06-18T18:21:41.425Z"
   },
   {
    "duration": 138,
    "start_time": "2025-06-18T18:24:27.377Z"
   },
   {
    "duration": 528,
    "start_time": "2025-06-18T18:24:53.725Z"
   },
   {
    "duration": 926,
    "start_time": "2025-06-18T18:25:38.532Z"
   },
   {
    "duration": 19,
    "start_time": "2025-06-18T18:26:34.377Z"
   },
   {
    "duration": 126,
    "start_time": "2025-06-18T18:26:55.809Z"
   },
   {
    "duration": 27,
    "start_time": "2025-06-18T18:27:48.697Z"
   },
   {
    "duration": 40,
    "start_time": "2025-06-18T18:28:27.139Z"
   },
   {
    "duration": 18,
    "start_time": "2025-06-18T18:29:05.832Z"
   },
   {
    "duration": 21,
    "start_time": "2025-06-18T18:29:31.716Z"
   },
   {
    "duration": 7659,
    "start_time": "2025-06-18T18:34:19.488Z"
   },
   {
    "duration": 95,
    "start_time": "2025-06-18T18:35:05.443Z"
   },
   {
    "duration": 15,
    "start_time": "2025-06-18T18:35:32.487Z"
   },
   {
    "duration": 20,
    "start_time": "2025-06-18T18:35:55.958Z"
   },
   {
    "duration": 68,
    "start_time": "2025-06-18T18:36:39.067Z"
   },
   {
    "duration": 44,
    "start_time": "2025-06-18T18:37:07.263Z"
   },
   {
    "duration": 7616,
    "start_time": "2025-06-18T18:37:59.585Z"
   },
   {
    "duration": 26,
    "start_time": "2025-06-18T18:40:44.651Z"
   },
   {
    "duration": 389,
    "start_time": "2025-06-18T18:41:32.165Z"
   },
   {
    "duration": 326,
    "start_time": "2025-06-18T18:42:07.557Z"
   },
   {
    "duration": 16,
    "start_time": "2025-06-18T18:46:39.399Z"
   },
   {
    "duration": 86,
    "start_time": "2025-06-18T18:47:02.804Z"
   },
   {
    "duration": 16,
    "start_time": "2025-06-18T18:49:02.377Z"
   },
   {
    "duration": 4,
    "start_time": "2025-06-18T18:49:51.820Z"
   },
   {
    "duration": 12,
    "start_time": "2025-06-18T18:50:05.902Z"
   },
   {
    "duration": 5,
    "start_time": "2025-06-18T18:52:25.633Z"
   },
   {
    "duration": 6,
    "start_time": "2025-06-18T18:53:06.839Z"
   },
   {
    "duration": 6,
    "start_time": "2025-06-18T18:53:29.670Z"
   },
   {
    "duration": 8606,
    "start_time": "2025-06-18T18:53:49.277Z"
   },
   {
    "duration": 34050,
    "start_time": "2025-06-18T18:56:08.530Z"
   },
   {
    "duration": 46,
    "start_time": "2025-06-18T18:56:47.527Z"
   },
   {
    "duration": 19076,
    "start_time": "2025-06-18T18:58:58.631Z"
   },
   {
    "duration": 3838,
    "start_time": "2025-06-18T18:59:17.709Z"
   },
   {
    "duration": 3,
    "start_time": "2025-06-18T18:59:21.549Z"
   },
   {
    "duration": 3,
    "start_time": "2025-06-18T18:59:21.561Z"
   },
   {
    "duration": 10,
    "start_time": "2025-06-18T18:59:21.566Z"
   },
   {
    "duration": 1903,
    "start_time": "2025-06-18T18:59:21.578Z"
   },
   {
    "duration": 743,
    "start_time": "2025-06-18T18:59:23.483Z"
   },
   {
    "duration": 17,
    "start_time": "2025-06-18T18:59:24.228Z"
   },
   {
    "duration": 580,
    "start_time": "2025-06-18T18:59:24.247Z"
   },
   {
    "duration": 1060,
    "start_time": "2025-06-18T18:59:24.830Z"
   },
   {
    "duration": 20,
    "start_time": "2025-06-18T18:59:25.891Z"
   },
   {
    "duration": 92,
    "start_time": "2025-06-18T18:59:25.913Z"
   },
   {
    "duration": 30,
    "start_time": "2025-06-18T18:59:26.007Z"
   },
   {
    "duration": 40,
    "start_time": "2025-06-18T18:59:26.038Z"
   },
   {
    "duration": 165,
    "start_time": "2025-06-18T18:59:26.080Z"
   },
   {
    "duration": 35,
    "start_time": "2025-06-18T18:59:26.247Z"
   },
   {
    "duration": 46,
    "start_time": "2025-06-18T18:59:26.284Z"
   },
   {
    "duration": 54,
    "start_time": "2025-06-18T18:59:26.332Z"
   },
   {
    "duration": 19,
    "start_time": "2025-06-18T18:59:26.388Z"
   },
   {
    "duration": 7144,
    "start_time": "2025-06-18T18:59:26.409Z"
   },
   {
    "duration": 110,
    "start_time": "2025-06-18T18:59:33.559Z"
   },
   {
    "duration": 17,
    "start_time": "2025-06-18T18:59:33.670Z"
   },
   {
    "duration": 17,
    "start_time": "2025-06-18T18:59:33.688Z"
   },
   {
    "duration": 77,
    "start_time": "2025-06-18T18:59:33.707Z"
   },
   {
    "duration": 111,
    "start_time": "2025-06-18T18:59:33.785Z"
   },
   {
    "duration": 7492,
    "start_time": "2025-06-18T18:59:33.898Z"
   },
   {
    "duration": 28,
    "start_time": "2025-06-18T18:59:41.392Z"
   },
   {
    "duration": 422,
    "start_time": "2025-06-18T18:59:41.423Z"
   },
   {
    "duration": 334,
    "start_time": "2025-06-18T18:59:41.847Z"
   },
   {
    "duration": 109,
    "start_time": "2025-06-18T18:59:42.183Z"
   },
   {
    "duration": 8488,
    "start_time": "2025-06-18T18:59:42.294Z"
   },
   {
    "duration": 32098,
    "start_time": "2025-06-18T18:59:50.784Z"
   },
   {
    "duration": 131742,
    "start_time": "2025-06-18T19:00:57.526Z"
   },
   {
    "duration": 176,
    "start_time": "2025-06-18T19:03:50.547Z"
   },
   {
    "duration": 2785,
    "start_time": "2025-06-18T19:04:19.782Z"
   },
   {
    "duration": 390350,
    "start_time": "2025-06-18T19:05:25.010Z"
   },
   {
    "duration": 1404792,
    "start_time": "2025-06-18T19:12:00.247Z"
   },
   {
    "duration": 19071,
    "start_time": "2025-06-18T19:40:33.718Z"
   },
   {
    "duration": 2066,
    "start_time": "2025-06-18T19:40:52.792Z"
   },
   {
    "duration": 2,
    "start_time": "2025-06-18T19:40:54.860Z"
   },
   {
    "duration": 6,
    "start_time": "2025-06-18T19:40:54.864Z"
   },
   {
    "duration": 7,
    "start_time": "2025-06-18T19:40:54.872Z"
   },
   {
    "duration": 1985,
    "start_time": "2025-06-18T19:40:54.881Z"
   },
   {
    "duration": 730,
    "start_time": "2025-06-18T19:40:56.868Z"
   },
   {
    "duration": 17,
    "start_time": "2025-06-18T19:40:57.600Z"
   },
   {
    "duration": 584,
    "start_time": "2025-06-18T19:40:57.618Z"
   },
   {
    "duration": 1064,
    "start_time": "2025-06-18T19:40:58.204Z"
   },
   {
    "duration": 18,
    "start_time": "2025-06-18T19:40:59.270Z"
   },
   {
    "duration": 140,
    "start_time": "2025-06-18T19:40:59.290Z"
   },
   {
    "duration": 40,
    "start_time": "2025-06-18T19:40:59.433Z"
   },
   {
    "duration": 23,
    "start_time": "2025-06-18T19:40:59.478Z"
   },
   {
    "duration": 171,
    "start_time": "2025-06-18T19:40:59.503Z"
   },
   {
    "duration": 28,
    "start_time": "2025-06-18T19:40:59.677Z"
   },
   {
    "duration": 66,
    "start_time": "2025-06-18T19:40:59.707Z"
   },
   {
    "duration": 20,
    "start_time": "2025-06-18T19:40:59.775Z"
   },
   {
    "duration": 21,
    "start_time": "2025-06-18T19:40:59.796Z"
   },
   {
    "duration": 7162,
    "start_time": "2025-06-18T19:40:59.819Z"
   },
   {
    "duration": 113,
    "start_time": "2025-06-18T19:41:06.984Z"
   },
   {
    "duration": 17,
    "start_time": "2025-06-18T19:41:07.099Z"
   },
   {
    "duration": 46,
    "start_time": "2025-06-18T19:41:07.118Z"
   },
   {
    "duration": 42,
    "start_time": "2025-06-18T19:41:07.166Z"
   },
   {
    "duration": 53,
    "start_time": "2025-06-18T19:41:07.210Z"
   },
   {
    "duration": 7529,
    "start_time": "2025-06-18T19:41:07.265Z"
   },
   {
    "duration": 31,
    "start_time": "2025-06-18T19:41:14.796Z"
   },
   {
    "duration": 430,
    "start_time": "2025-06-18T19:41:14.830Z"
   },
   {
    "duration": 326,
    "start_time": "2025-06-18T19:41:15.262Z"
   },
   {
    "duration": 100,
    "start_time": "2025-06-18T19:41:15.590Z"
   },
   {
    "duration": 8482,
    "start_time": "2025-06-18T19:41:15.692Z"
   },
   {
    "duration": 30801,
    "start_time": "2025-06-18T19:41:24.175Z"
   },
   {
    "duration": 126589,
    "start_time": "2025-06-18T19:41:54.977Z"
   },
   {
    "duration": 2792,
    "start_time": "2025-06-18T19:44:01.571Z"
   },
   {
    "duration": 1524402,
    "start_time": "2025-06-18T19:44:04.366Z"
   },
   {
    "duration": 20,
    "start_time": "2025-06-18T20:09:37.156Z"
   },
   {
    "duration": 19183,
    "start_time": "2025-06-18T20:10:41.658Z"
   },
   {
    "duration": 2158,
    "start_time": "2025-06-18T20:11:00.844Z"
   },
   {
    "duration": 3,
    "start_time": "2025-06-18T20:11:03.004Z"
   },
   {
    "duration": 41,
    "start_time": "2025-06-18T20:11:03.009Z"
   },
   {
    "duration": 26,
    "start_time": "2025-06-18T20:11:03.053Z"
   },
   {
    "duration": 2281,
    "start_time": "2025-06-18T20:11:03.081Z"
   },
   {
    "duration": 759,
    "start_time": "2025-06-18T20:11:05.364Z"
   },
   {
    "duration": 17,
    "start_time": "2025-06-18T20:11:06.125Z"
   },
   {
    "duration": 593,
    "start_time": "2025-06-18T20:11:06.144Z"
   },
   {
    "duration": 1021,
    "start_time": "2025-06-18T20:11:06.739Z"
   },
   {
    "duration": 20,
    "start_time": "2025-06-18T20:11:07.762Z"
   },
   {
    "duration": 107,
    "start_time": "2025-06-18T20:11:07.785Z"
   },
   {
    "duration": 33,
    "start_time": "2025-06-18T20:11:07.894Z"
   },
   {
    "duration": 46,
    "start_time": "2025-06-18T20:11:07.932Z"
   },
   {
    "duration": 170,
    "start_time": "2025-06-18T20:11:07.980Z"
   },
   {
    "duration": 31,
    "start_time": "2025-06-18T20:11:08.159Z"
   },
   {
    "duration": 68,
    "start_time": "2025-06-18T20:11:08.192Z"
   },
   {
    "duration": 19,
    "start_time": "2025-06-18T20:11:08.263Z"
   },
   {
    "duration": 21,
    "start_time": "2025-06-18T20:11:08.283Z"
   },
   {
    "duration": 7256,
    "start_time": "2025-06-18T20:11:08.306Z"
   },
   {
    "duration": 121,
    "start_time": "2025-06-18T20:11:15.564Z"
   },
   {
    "duration": 18,
    "start_time": "2025-06-18T20:11:15.688Z"
   },
   {
    "duration": 53,
    "start_time": "2025-06-18T20:11:15.708Z"
   },
   {
    "duration": 49,
    "start_time": "2025-06-18T20:11:15.764Z"
   },
   {
    "duration": 49,
    "start_time": "2025-06-18T20:11:15.815Z"
   },
   {
    "duration": 7519,
    "start_time": "2025-06-18T20:11:15.866Z"
   },
   {
    "duration": 28,
    "start_time": "2025-06-18T20:11:23.387Z"
   },
   {
    "duration": 457,
    "start_time": "2025-06-18T20:11:23.417Z"
   },
   {
    "duration": 337,
    "start_time": "2025-06-18T20:11:23.876Z"
   },
   {
    "duration": 96,
    "start_time": "2025-06-18T20:11:24.216Z"
   },
   {
    "duration": 4438,
    "start_time": "2025-06-18T20:11:24.315Z"
   },
   {
    "duration": 1841,
    "start_time": "2025-06-18T20:11:28.754Z"
   },
   {
    "duration": 8568,
    "start_time": "2025-06-18T20:11:30.597Z"
   },
   {
    "duration": 295,
    "start_time": "2025-06-18T20:11:39.167Z"
   },
   {
    "duration": 238,
    "start_time": "2025-06-18T20:11:39.465Z"
   },
   {
    "duration": 932186,
    "start_time": "2025-06-18T20:16:09.050Z"
   },
   {
    "duration": 36193,
    "start_time": "2025-06-18T20:35:47.715Z"
   },
   {
    "duration": 107,
    "start_time": "2025-06-18T20:37:00.651Z"
   },
   {
    "duration": 37937,
    "start_time": "2025-06-18T20:38:28.733Z"
   },
   {
    "duration": 1028,
    "start_time": "2025-06-18T20:39:14.473Z"
   },
   {
    "duration": 60,
    "start_time": "2025-06-18T20:39:39.207Z"
   },
   {
    "duration": 14996,
    "start_time": "2025-06-18T20:40:33.176Z"
   },
   {
    "duration": 59975,
    "start_time": "2025-06-18T20:41:11.199Z"
   },
   {
    "duration": 115,
    "start_time": "2025-06-18T20:42:15.484Z"
   },
   {
    "duration": 2054,
    "start_time": "2025-06-18T20:43:02.759Z"
   },
   {
    "duration": 18850,
    "start_time": "2025-06-18T20:44:15.772Z"
   },
   {
    "duration": 2105,
    "start_time": "2025-06-18T20:44:34.624Z"
   },
   {
    "duration": 4,
    "start_time": "2025-06-18T20:44:36.731Z"
   },
   {
    "duration": 10,
    "start_time": "2025-06-18T20:44:36.737Z"
   },
   {
    "duration": 8,
    "start_time": "2025-06-18T20:44:36.761Z"
   },
   {
    "duration": 2123,
    "start_time": "2025-06-18T20:44:36.770Z"
   },
   {
    "duration": 750,
    "start_time": "2025-06-18T20:44:38.895Z"
   },
   {
    "duration": 22,
    "start_time": "2025-06-18T20:44:39.646Z"
   },
   {
    "duration": 572,
    "start_time": "2025-06-18T20:44:39.670Z"
   },
   {
    "duration": 1038,
    "start_time": "2025-06-18T20:44:40.245Z"
   },
   {
    "duration": 20,
    "start_time": "2025-06-18T20:44:41.285Z"
   },
   {
    "duration": 93,
    "start_time": "2025-06-18T20:44:41.306Z"
   },
   {
    "duration": 28,
    "start_time": "2025-06-18T20:44:41.401Z"
   },
   {
    "duration": 46,
    "start_time": "2025-06-18T20:44:41.431Z"
   },
   {
    "duration": 153,
    "start_time": "2025-06-18T20:44:41.479Z"
   },
   {
    "duration": 40,
    "start_time": "2025-06-18T20:44:41.634Z"
   },
   {
    "duration": 41,
    "start_time": "2025-06-18T20:44:41.676Z"
   },
   {
    "duration": 44,
    "start_time": "2025-06-18T20:44:41.719Z"
   },
   {
    "duration": 21,
    "start_time": "2025-06-18T20:44:41.765Z"
   },
   {
    "duration": 7185,
    "start_time": "2025-06-18T20:44:41.787Z"
   },
   {
    "duration": 124,
    "start_time": "2025-06-18T20:44:48.974Z"
   },
   {
    "duration": 15,
    "start_time": "2025-06-18T20:44:49.100Z"
   },
   {
    "duration": 49,
    "start_time": "2025-06-18T20:44:49.117Z"
   },
   {
    "duration": 39,
    "start_time": "2025-06-18T20:44:49.168Z"
   },
   {
    "duration": 52,
    "start_time": "2025-06-18T20:44:49.209Z"
   },
   {
    "duration": 7422,
    "start_time": "2025-06-18T20:44:49.264Z"
   },
   {
    "duration": 28,
    "start_time": "2025-06-18T20:44:56.688Z"
   },
   {
    "duration": 470,
    "start_time": "2025-06-18T20:44:56.721Z"
   },
   {
    "duration": 345,
    "start_time": "2025-06-18T20:44:57.194Z"
   },
   {
    "duration": 92,
    "start_time": "2025-06-18T20:44:57.541Z"
   },
   {
    "duration": 4712,
    "start_time": "2025-06-18T20:44:57.636Z"
   },
   {
    "duration": 3661,
    "start_time": "2025-06-18T20:45:02.350Z"
   },
   {
    "duration": 15952,
    "start_time": "2025-06-18T20:45:06.012Z"
   },
   {
    "duration": 494,
    "start_time": "2025-06-18T20:45:21.966Z"
   },
   {
    "duration": 3522582,
    "start_time": "2025-06-18T20:45:22.462Z"
   },
   {
    "duration": 108288,
    "start_time": "2025-06-18T21:44:05.046Z"
   },
   {
    "duration": 177,
    "start_time": "2025-06-18T21:45:53.336Z"
   },
   {
    "duration": 48167,
    "start_time": "2025-06-18T21:45:53.515Z"
   },
   {
    "duration": 1411,
    "start_time": "2025-06-18T21:46:41.684Z"
   },
   {
    "duration": 273,
    "start_time": "2025-06-18T21:46:43.097Z"
   },
   {
    "duration": 25294,
    "start_time": "2025-06-18T21:46:43.373Z"
   },
   {
    "duration": 104767,
    "start_time": "2025-06-18T21:47:08.669Z"
   },
   {
    "duration": 242,
    "start_time": "2025-06-18T21:48:53.438Z"
   },
   {
    "duration": 2139,
    "start_time": "2025-06-18T21:48:53.682Z"
   },
   {
    "duration": 48931,
    "start_time": "2025-06-20T11:28:30.759Z"
   },
   {
    "duration": 2192,
    "start_time": "2025-06-20T11:29:19.693Z"
   },
   {
    "duration": 3,
    "start_time": "2025-06-20T11:29:21.887Z"
   },
   {
    "duration": 135,
    "start_time": "2025-06-20T11:29:21.892Z"
   },
   {
    "duration": 8,
    "start_time": "2025-06-20T11:29:22.030Z"
   },
   {
    "duration": 1982,
    "start_time": "2025-06-20T11:29:22.040Z"
   },
   {
    "duration": 681,
    "start_time": "2025-06-20T11:29:24.024Z"
   },
   {
    "duration": 15,
    "start_time": "2025-06-20T11:29:24.706Z"
   },
   {
    "duration": 563,
    "start_time": "2025-06-20T11:29:24.722Z"
   },
   {
    "duration": 938,
    "start_time": "2025-06-20T11:29:25.287Z"
   },
   {
    "duration": 18,
    "start_time": "2025-06-20T11:29:26.235Z"
   },
   {
    "duration": 64,
    "start_time": "2025-06-20T11:29:26.255Z"
   },
   {
    "duration": 36,
    "start_time": "2025-06-20T11:29:26.321Z"
   },
   {
    "duration": 27,
    "start_time": "2025-06-20T11:29:26.360Z"
   },
   {
    "duration": 167,
    "start_time": "2025-06-20T11:29:26.389Z"
   },
   {
    "duration": 31,
    "start_time": "2025-06-20T11:29:26.558Z"
   },
   {
    "duration": 114,
    "start_time": "2025-06-20T11:29:26.591Z"
   },
   {
    "duration": 80,
    "start_time": "2025-06-20T11:29:26.706Z"
   },
   {
    "duration": 27,
    "start_time": "2025-06-20T11:29:26.788Z"
   },
   {
    "duration": 6786,
    "start_time": "2025-06-20T11:29:26.816Z"
   },
   {
    "duration": 106,
    "start_time": "2025-06-20T11:29:33.604Z"
   },
   {
    "duration": 24,
    "start_time": "2025-06-20T11:29:33.712Z"
   },
   {
    "duration": 27,
    "start_time": "2025-06-20T11:29:33.738Z"
   },
   {
    "duration": 41,
    "start_time": "2025-06-20T11:29:33.766Z"
   },
   {
    "duration": 35,
    "start_time": "2025-06-20T11:29:33.809Z"
   },
   {
    "duration": 7213,
    "start_time": "2025-06-20T11:29:33.846Z"
   },
   {
    "duration": 26,
    "start_time": "2025-06-20T11:29:41.061Z"
   },
   {
    "duration": 528,
    "start_time": "2025-06-20T11:29:41.089Z"
   },
   {
    "duration": 317,
    "start_time": "2025-06-20T11:29:41.619Z"
   },
   {
    "duration": 81,
    "start_time": "2025-06-20T11:29:41.939Z"
   },
   {
    "duration": 7938,
    "start_time": "2025-06-20T11:29:42.022Z"
   },
   {
    "duration": 29200,
    "start_time": "2025-06-20T11:29:49.961Z"
   },
   {
    "duration": 119075,
    "start_time": "2025-06-20T11:30:19.163Z"
   },
   {
    "duration": 2597,
    "start_time": "2025-06-20T11:32:18.240Z"
   },
   {
    "duration": 201414,
    "start_time": "2025-06-20T11:32:20.839Z"
   },
   {
    "duration": 4289,
    "start_time": "2025-06-20T11:35:42.254Z"
   },
   {
    "duration": 1908,
    "start_time": "2025-06-20T11:35:46.546Z"
   },
   {
    "duration": 160039,
    "start_time": "2025-06-20T11:35:48.456Z"
   },
   {
    "duration": 658098,
    "start_time": "2025-06-20T11:38:28.496Z"
   },
   {
    "duration": 1566,
    "start_time": "2025-06-20T11:49:26.596Z"
   },
   {
    "duration": 525,
    "start_time": "2025-06-20T11:49:28.167Z"
   },
   {
    "duration": 17554,
    "start_time": "2025-06-20T12:24:35.361Z"
   },
   {
    "duration": 1909,
    "start_time": "2025-06-20T12:24:52.918Z"
   },
   {
    "duration": 3,
    "start_time": "2025-06-20T12:24:54.829Z"
   },
   {
    "duration": 173,
    "start_time": "2025-06-20T12:24:54.834Z"
   },
   {
    "duration": 99,
    "start_time": "2025-06-20T12:24:55.009Z"
   },
   {
    "duration": 2846,
    "start_time": "2025-06-20T12:24:55.110Z"
   },
   {
    "duration": 652,
    "start_time": "2025-06-20T12:24:57.957Z"
   },
   {
    "duration": 24,
    "start_time": "2025-06-20T12:24:58.611Z"
   },
   {
    "duration": 515,
    "start_time": "2025-06-20T12:24:58.637Z"
   },
   {
    "duration": 993,
    "start_time": "2025-06-20T12:24:59.154Z"
   },
   {
    "duration": 16,
    "start_time": "2025-06-20T12:25:00.149Z"
   },
   {
    "duration": 2180,
    "start_time": "2025-06-20T12:25:00.167Z"
   },
   {
    "duration": 489,
    "start_time": "2025-06-20T12:25:02.349Z"
   },
   {
    "duration": 16,
    "start_time": "2025-06-20T12:25:02.841Z"
   },
   {
    "duration": 310,
    "start_time": "2025-06-20T12:25:02.859Z"
   },
   {
    "duration": 50,
    "start_time": "2025-06-20T12:25:03.171Z"
   },
   {
    "duration": 71,
    "start_time": "2025-06-20T12:25:03.222Z"
   },
   {
    "duration": 1526,
    "start_time": "2025-06-20T12:25:03.295Z"
   },
   {
    "duration": 445,
    "start_time": "2025-06-20T12:25:04.823Z"
   },
   {
    "duration": 84,
    "start_time": "2025-06-20T12:25:05.270Z"
   },
   {
    "duration": 198,
    "start_time": "2025-06-20T12:25:05.356Z"
   },
   {
    "duration": 19,
    "start_time": "2025-06-20T12:25:05.556Z"
   },
   {
    "duration": 1612,
    "start_time": "2025-06-20T12:25:05.577Z"
   },
   {
    "duration": 471,
    "start_time": "2025-06-20T12:25:07.192Z"
   },
   {
    "duration": 71,
    "start_time": "2025-06-20T12:25:07.665Z"
   },
   {
    "duration": 150,
    "start_time": "2025-06-20T12:25:07.738Z"
   },
   {
    "duration": 1546,
    "start_time": "2025-06-20T12:25:07.890Z"
   },
   {
    "duration": 500,
    "start_time": "2025-06-20T12:25:09.438Z"
   },
   {
    "duration": 26,
    "start_time": "2025-06-20T12:25:09.940Z"
   },
   {
    "duration": 117,
    "start_time": "2025-06-20T12:25:09.968Z"
   },
   {
    "duration": 57,
    "start_time": "2025-06-20T12:25:10.087Z"
   },
   {
    "duration": 17,
    "start_time": "2025-06-20T12:25:10.145Z"
   },
   {
    "duration": 1425,
    "start_time": "2025-06-20T12:25:10.164Z"
   },
   {
    "duration": 392,
    "start_time": "2025-06-20T12:25:11.591Z"
   },
   {
    "duration": 24,
    "start_time": "2025-06-20T12:25:12.037Z"
   },
   {
    "duration": 6695,
    "start_time": "2025-06-20T12:25:12.063Z"
   },
   {
    "duration": 101,
    "start_time": "2025-06-20T12:25:18.760Z"
   },
   {
    "duration": 85,
    "start_time": "2025-06-20T12:25:18.863Z"
   },
   {
    "duration": 114,
    "start_time": "2025-06-20T12:25:18.950Z"
   },
   {
    "duration": 17,
    "start_time": "2025-06-20T12:25:19.066Z"
   },
   {
    "duration": 1346,
    "start_time": "2025-06-20T12:25:19.089Z"
   },
   {
    "duration": 416,
    "start_time": "2025-06-20T12:25:20.437Z"
   },
   {
    "duration": 15,
    "start_time": "2025-06-20T12:25:20.854Z"
   },
   {
    "duration": 214,
    "start_time": "2025-06-20T12:25:20.871Z"
   },
   {
    "duration": 1493,
    "start_time": "2025-06-20T12:25:21.087Z"
   },
   {
    "duration": 398,
    "start_time": "2025-06-20T12:25:22.582Z"
   },
   {
    "duration": 71,
    "start_time": "2025-06-20T12:25:22.982Z"
   },
   {
    "duration": 68,
    "start_time": "2025-06-20T12:25:23.055Z"
   },
   {
    "duration": 42,
    "start_time": "2025-06-20T12:25:23.125Z"
   },
   {
    "duration": 25,
    "start_time": "2025-06-20T12:25:23.168Z"
   },
   {
    "duration": 86,
    "start_time": "2025-06-20T12:25:23.195Z"
   },
   {
    "duration": 13,
    "start_time": "2025-06-20T12:25:23.283Z"
   },
   {
    "duration": 1272,
    "start_time": "2025-06-20T12:25:23.298Z"
   },
   {
    "duration": 409,
    "start_time": "2025-06-20T12:25:24.572Z"
   },
   {
    "duration": 7148,
    "start_time": "2025-06-20T12:25:24.983Z"
   },
   {
    "duration": 30,
    "start_time": "2025-06-20T12:25:32.135Z"
   },
   {
    "duration": 401,
    "start_time": "2025-06-20T12:25:32.167Z"
   },
   {
    "duration": 306,
    "start_time": "2025-06-20T12:25:32.570Z"
   },
   {
    "duration": 92,
    "start_time": "2025-06-20T12:25:32.878Z"
   },
   {
    "duration": 7804,
    "start_time": "2025-06-20T12:25:32.972Z"
   },
   {
    "duration": 29060,
    "start_time": "2025-06-20T12:25:40.778Z"
   },
   {
    "duration": 132198,
    "start_time": "2025-06-20T12:26:09.839Z"
   },
   {
    "duration": 2598,
    "start_time": "2025-06-20T12:28:22.040Z"
   },
   {
    "duration": 170340,
    "start_time": "2025-06-20T12:37:01.750Z"
   },
   {
    "duration": 659403,
    "start_time": "2025-06-20T12:39:52.092Z"
   },
   {
    "duration": 1546,
    "start_time": "2025-06-20T12:50:51.497Z"
   },
   {
    "duration": 515,
    "start_time": "2025-06-20T12:50:53.044Z"
   },
   {
    "duration": 30256,
    "start_time": "2025-06-20T18:52:23.907Z"
   },
   {
    "duration": 2480,
    "start_time": "2025-06-20T18:52:54.165Z"
   },
   {
    "duration": 3,
    "start_time": "2025-06-20T18:52:56.647Z"
   },
   {
    "duration": 3,
    "start_time": "2025-06-20T18:52:56.658Z"
   },
   {
    "duration": 8,
    "start_time": "2025-06-20T18:52:56.664Z"
   },
   {
    "duration": 1862,
    "start_time": "2025-06-20T18:52:56.674Z"
   },
   {
    "duration": 649,
    "start_time": "2025-06-20T18:52:58.538Z"
   },
   {
    "duration": 15,
    "start_time": "2025-06-20T18:52:59.188Z"
   },
   {
    "duration": 540,
    "start_time": "2025-06-20T18:52:59.205Z"
   },
   {
    "duration": 861,
    "start_time": "2025-06-20T18:52:59.747Z"
   },
   {
    "duration": 17,
    "start_time": "2025-06-20T18:53:00.609Z"
   },
   {
    "duration": 2571,
    "start_time": "2025-06-20T18:53:00.628Z"
   },
   {
    "duration": 479,
    "start_time": "2025-06-20T18:53:03.200Z"
   },
   {
    "duration": 15,
    "start_time": "2025-06-20T18:53:03.683Z"
   },
   {
    "duration": 157,
    "start_time": "2025-06-20T18:53:03.700Z"
   },
   {
    "duration": 58,
    "start_time": "2025-06-20T18:53:03.859Z"
   },
   {
    "duration": 93,
    "start_time": "2025-06-20T18:53:03.919Z"
   },
   {
    "duration": 1564,
    "start_time": "2025-06-20T18:53:04.014Z"
   },
   {
    "duration": 429,
    "start_time": "2025-06-20T18:53:05.580Z"
   },
   {
    "duration": 55,
    "start_time": "2025-06-20T18:53:06.011Z"
   },
   {
    "duration": 66,
    "start_time": "2025-06-20T18:53:06.068Z"
   },
   {
    "duration": 35,
    "start_time": "2025-06-20T18:53:06.135Z"
   },
   {
    "duration": 1523,
    "start_time": "2025-06-20T18:53:06.172Z"
   },
   {
    "duration": 409,
    "start_time": "2025-06-20T18:53:07.698Z"
   },
   {
    "duration": 16,
    "start_time": "2025-06-20T18:53:08.109Z"
   },
   {
    "duration": 148,
    "start_time": "2025-06-20T18:53:08.126Z"
   },
   {
    "duration": 1582,
    "start_time": "2025-06-20T18:53:08.276Z"
   },
   {
    "duration": 397,
    "start_time": "2025-06-20T18:53:09.861Z"
   },
   {
    "duration": 24,
    "start_time": "2025-06-20T18:53:10.260Z"
   },
   {
    "duration": 104,
    "start_time": "2025-06-20T18:53:10.286Z"
   },
   {
    "duration": 39,
    "start_time": "2025-06-20T18:53:10.392Z"
   },
   {
    "duration": 27,
    "start_time": "2025-06-20T18:53:10.434Z"
   },
   {
    "duration": 1428,
    "start_time": "2025-06-20T18:53:10.463Z"
   },
   {
    "duration": 404,
    "start_time": "2025-06-20T18:53:11.893Z"
   },
   {
    "duration": 19,
    "start_time": "2025-06-20T18:53:12.298Z"
   },
   {
    "duration": 6711,
    "start_time": "2025-06-20T18:53:12.318Z"
   },
   {
    "duration": 95,
    "start_time": "2025-06-20T18:53:19.031Z"
   },
   {
    "duration": 14,
    "start_time": "2025-06-20T18:53:19.128Z"
   },
   {
    "duration": 14,
    "start_time": "2025-06-20T18:53:19.158Z"
   },
   {
    "duration": 20,
    "start_time": "2025-06-20T18:53:19.174Z"
   },
   {
    "duration": 1398,
    "start_time": "2025-06-20T18:53:19.198Z"
   },
   {
    "duration": 402,
    "start_time": "2025-06-20T18:53:20.598Z"
   },
   {
    "duration": 14,
    "start_time": "2025-06-20T18:53:21.058Z"
   },
   {
    "duration": 69,
    "start_time": "2025-06-20T18:53:21.074Z"
   },
   {
    "duration": 1492,
    "start_time": "2025-06-20T18:53:21.144Z"
   },
   {
    "duration": 369,
    "start_time": "2025-06-20T18:53:22.638Z"
   },
   {
    "duration": 25,
    "start_time": "2025-06-20T18:53:23.009Z"
   },
   {
    "duration": 103,
    "start_time": "2025-06-20T18:53:23.036Z"
   },
   {
    "duration": 37,
    "start_time": "2025-06-20T18:53:23.141Z"
   },
   {
    "duration": 24,
    "start_time": "2025-06-20T18:53:23.180Z"
   },
   {
    "duration": 74,
    "start_time": "2025-06-20T18:53:23.205Z"
   },
   {
    "duration": 14,
    "start_time": "2025-06-20T18:53:23.280Z"
   },
   {
    "duration": 1243,
    "start_time": "2025-06-20T18:53:23.295Z"
   },
   {
    "duration": 337,
    "start_time": "2025-06-20T18:53:24.539Z"
   },
   {
    "duration": 17716,
    "start_time": "2025-06-20T19:28:34.267Z"
   },
   {
    "duration": 8,
    "start_time": "2025-06-20T19:28:51.986Z"
   },
   {
    "duration": 4,
    "start_time": "2025-06-20T19:28:51.996Z"
   },
   {
    "duration": 3,
    "start_time": "2025-06-20T19:28:52.003Z"
   },
   {
    "duration": 7,
    "start_time": "2025-06-20T19:28:52.008Z"
   },
   {
    "duration": 2494,
    "start_time": "2025-06-20T19:28:52.016Z"
   },
   {
    "duration": 577,
    "start_time": "2025-06-20T19:28:54.512Z"
   },
   {
    "duration": 14,
    "start_time": "2025-06-20T19:28:55.091Z"
   },
   {
    "duration": 352,
    "start_time": "2025-06-20T19:28:55.106Z"
   },
   {
    "duration": 206,
    "start_time": "2025-06-20T19:28:55.461Z"
   },
   {
    "duration": 731,
    "start_time": "2025-06-20T19:28:55.668Z"
   },
   {
    "duration": 17,
    "start_time": "2025-06-20T19:28:56.400Z"
   },
   {
    "duration": 1650,
    "start_time": "2025-06-20T19:28:56.419Z"
   },
   {
    "duration": 491,
    "start_time": "2025-06-20T19:28:58.072Z"
   },
   {
    "duration": 14,
    "start_time": "2025-06-20T19:28:58.565Z"
   },
   {
    "duration": 13,
    "start_time": "2025-06-20T19:28:58.580Z"
   },
   {
    "duration": 12,
    "start_time": "2025-06-20T19:28:58.594Z"
   },
   {
    "duration": 80,
    "start_time": "2025-06-20T19:28:58.607Z"
   },
   {
    "duration": 1492,
    "start_time": "2025-06-20T19:28:58.688Z"
   },
   {
    "duration": 432,
    "start_time": "2025-06-20T19:29:00.182Z"
   },
   {
    "duration": 47,
    "start_time": "2025-06-20T19:29:00.616Z"
   },
   {
    "duration": 59,
    "start_time": "2025-06-20T19:29:00.665Z"
   },
   {
    "duration": 73,
    "start_time": "2025-06-20T19:29:00.726Z"
   },
   {
    "duration": 1490,
    "start_time": "2025-06-20T19:29:00.801Z"
   },
   {
    "duration": 424,
    "start_time": "2025-06-20T19:29:02.293Z"
   },
   {
    "duration": 16,
    "start_time": "2025-06-20T19:29:02.719Z"
   },
   {
    "duration": 151,
    "start_time": "2025-06-20T19:29:02.736Z"
   },
   {
    "duration": 1393,
    "start_time": "2025-06-20T19:29:02.890Z"
   },
   {
    "duration": 432,
    "start_time": "2025-06-20T19:29:04.285Z"
   },
   {
    "duration": 53,
    "start_time": "2025-06-20T19:29:04.718Z"
   },
   {
    "duration": 88,
    "start_time": "2025-06-20T19:29:04.773Z"
   },
   {
    "duration": 38,
    "start_time": "2025-06-20T19:29:04.863Z"
   },
   {
    "duration": 39,
    "start_time": "2025-06-20T19:29:04.903Z"
   },
   {
    "duration": 1492,
    "start_time": "2025-06-20T19:29:04.944Z"
   },
   {
    "duration": 375,
    "start_time": "2025-06-20T19:29:06.438Z"
   },
   {
    "duration": 18,
    "start_time": "2025-06-20T19:29:06.815Z"
   },
   {
    "duration": 30463,
    "start_time": "2025-06-22T18:25:54.907Z"
   },
   {
    "duration": 83,
    "start_time": "2025-06-22T18:30:21.881Z"
   },
   {
    "duration": 2159,
    "start_time": "2025-06-22T18:45:09.251Z"
   },
   {
    "duration": 2,
    "start_time": "2025-06-22T18:45:23.523Z"
   },
   {
    "duration": 3,
    "start_time": "2025-06-22T18:45:24.889Z"
   },
   {
    "duration": 6,
    "start_time": "2025-06-22T18:45:26.456Z"
   },
   {
    "duration": 1922,
    "start_time": "2025-06-22T18:45:29.926Z"
   },
   {
    "duration": 621,
    "start_time": "2025-06-22T18:45:37.182Z"
   },
   {
    "duration": 16,
    "start_time": "2025-06-22T18:45:45.039Z"
   },
   {
    "duration": 2,
    "start_time": "2025-06-22T18:45:49.452Z"
   },
   {
    "duration": 198,
    "start_time": "2025-06-22T18:45:52.630Z"
   },
   {
    "duration": 942,
    "start_time": "2025-06-22T18:46:56.331Z"
   },
   {
    "duration": 18,
    "start_time": "2025-06-22T18:47:38.227Z"
   },
   {
    "duration": 1942,
    "start_time": "2025-06-22T18:47:42.890Z"
   },
   {
    "duration": 355,
    "start_time": "2025-06-22T18:47:57.837Z"
   },
   {
    "duration": 15,
    "start_time": "2025-06-22T18:49:03.309Z"
   },
   {
    "duration": 13,
    "start_time": "2025-06-22T18:49:05.882Z"
   },
   {
    "duration": 18,
    "start_time": "2025-06-22T18:49:12.911Z"
   },
   {
    "duration": 75,
    "start_time": "2025-06-22T18:49:25.235Z"
   },
   {
    "duration": 1124,
    "start_time": "2025-06-22T18:50:45.271Z"
   },
   {
    "duration": 291,
    "start_time": "2025-06-22T18:50:57.523Z"
   },
   {
    "duration": 25,
    "start_time": "2025-06-22T18:51:09.220Z"
   },
   {
    "duration": 64,
    "start_time": "2025-06-22T18:51:11.293Z"
   },
   {
    "duration": 15,
    "start_time": "2025-06-22T18:51:17.456Z"
   },
   {
    "duration": 1375,
    "start_time": "2025-06-22T18:51:21.487Z"
   },
   {
    "duration": 298,
    "start_time": "2025-06-22T18:51:29.723Z"
   },
   {
    "duration": 15,
    "start_time": "2025-06-22T18:51:37.881Z"
   },
   {
    "duration": 80,
    "start_time": "2025-06-22T18:51:40.145Z"
   },
   {
    "duration": 1083,
    "start_time": "2025-06-22T18:51:42.457Z"
   },
   {
    "duration": 260,
    "start_time": "2025-06-22T18:51:52.788Z"
   },
   {
    "duration": 24,
    "start_time": "2025-06-22T18:51:56.295Z"
   },
   {
    "duration": 57,
    "start_time": "2025-06-22T18:51:57.193Z"
   },
   {
    "duration": 32,
    "start_time": "2025-06-22T18:52:02.204Z"
   },
   {
    "duration": 15,
    "start_time": "2025-06-22T18:52:06.722Z"
   },
   {
    "duration": 1118,
    "start_time": "2025-06-22T18:52:07.924Z"
   },
   {
    "duration": 284,
    "start_time": "2025-06-22T18:52:13.610Z"
   },
   {
    "duration": 15,
    "start_time": "2025-06-22T18:52:17.919Z"
   },
   {
    "duration": 5459,
    "start_time": "2025-06-22T18:52:19.949Z"
   },
   {
    "duration": 70,
    "start_time": "2025-06-22T18:52:31.691Z"
   },
   {
    "duration": 492,
    "start_time": "2025-06-22T18:52:37.351Z"
   },
   {
    "duration": 12,
    "start_time": "2025-06-22T18:52:43.364Z"
   },
   {
    "duration": 14,
    "start_time": "2025-06-22T18:52:51.017Z"
   },
   {
    "duration": 1085,
    "start_time": "2025-06-22T18:52:53.210Z"
   },
   {
    "duration": 288,
    "start_time": "2025-06-22T18:52:59.623Z"
   },
   {
    "duration": 15,
    "start_time": "2025-06-22T18:53:05.385Z"
   },
   {
    "duration": 14,
    "start_time": "2025-06-22T18:53:07.753Z"
   },
   {
    "duration": 1008,
    "start_time": "2025-06-22T18:53:10.011Z"
   },
   {
    "duration": 259,
    "start_time": "2025-06-22T18:53:13.273Z"
   },
   {
    "duration": 25,
    "start_time": "2025-06-22T18:53:17.491Z"
   },
   {
    "duration": 60,
    "start_time": "2025-06-22T18:53:18.631Z"
   },
   {
    "duration": 32,
    "start_time": "2025-06-22T18:53:24.160Z"
   },
   {
    "duration": 24,
    "start_time": "2025-06-22T18:53:28.418Z"
   },
   {
    "duration": 59,
    "start_time": "2025-06-22T18:53:29.858Z"
   },
   {
    "duration": 11,
    "start_time": "2025-06-22T18:53:33.500Z"
   },
   {
    "duration": 1145,
    "start_time": "2025-06-22T18:53:34.368Z"
   },
   {
    "duration": 239,
    "start_time": "2025-06-22T18:53:39.391Z"
   },
   {
    "duration": 25,
    "start_time": "2025-06-22T18:53:46.687Z"
   },
   {
    "duration": 95006,
    "start_time": "2025-06-22T18:53:49.865Z"
   },
   {
    "duration": 6131,
    "start_time": "2025-06-22T18:55:41.210Z"
   },
   {
    "duration": 571,
    "start_time": "2025-06-22T18:56:12.887Z"
   },
   {
    "duration": 28,
    "start_time": "2025-06-22T18:56:54.558Z"
   },
   {
    "duration": 348,
    "start_time": "2025-06-22T18:57:03.672Z"
   },
   {
    "duration": 260,
    "start_time": "2025-06-22T18:57:14.146Z"
   },
   {
    "duration": 58,
    "start_time": "2025-06-22T18:57:22.662Z"
   },
   {
    "duration": 1098,
    "start_time": "2025-06-22T18:57:43.896Z"
   },
   {
    "duration": 5892,
    "start_time": "2025-06-22T18:58:08.565Z"
   },
   {
    "duration": 12,
    "start_time": "2025-06-22T20:08:03.928Z"
   },
   {
    "duration": 6,
    "start_time": "2025-06-22T20:08:31.782Z"
   },
   {
    "duration": 22693,
    "start_time": "2025-06-22T20:08:39.793Z"
   },
   {
    "duration": 117456,
    "start_time": "2025-06-22T20:09:08.610Z"
   },
   {
    "duration": 1930,
    "start_time": "2025-06-22T20:11:13.329Z"
   },
   {
    "duration": 788456,
    "start_time": "2025-06-22T20:12:03.511Z"
   },
   {
    "duration": 17436,
    "start_time": "2025-06-22T20:33:02.548Z"
   },
   {
    "duration": 1928,
    "start_time": "2025-06-22T20:33:19.987Z"
   },
   {
    "duration": 3,
    "start_time": "2025-06-22T20:33:21.916Z"
   },
   {
    "duration": 6,
    "start_time": "2025-06-22T20:33:21.922Z"
   },
   {
    "duration": 28,
    "start_time": "2025-06-22T20:33:21.930Z"
   },
   {
    "duration": 1757,
    "start_time": "2025-06-22T20:33:21.960Z"
   },
   {
    "duration": 663,
    "start_time": "2025-06-22T20:33:23.718Z"
   },
   {
    "duration": 15,
    "start_time": "2025-06-22T20:33:24.382Z"
   },
   {
    "duration": 10,
    "start_time": "2025-06-22T20:33:24.398Z"
   },
   {
    "duration": 3,
    "start_time": "2025-06-22T20:33:24.410Z"
   },
   {
    "duration": 1009,
    "start_time": "2025-06-22T20:33:24.414Z"
   },
   {
    "duration": 18,
    "start_time": "2025-06-22T20:33:25.424Z"
   },
   {
    "duration": 1994,
    "start_time": "2025-06-22T20:33:25.457Z"
   },
   {
    "duration": 500,
    "start_time": "2025-06-22T20:33:27.458Z"
   },
   {
    "duration": 15,
    "start_time": "2025-06-22T20:33:27.960Z"
   },
   {
    "duration": 14,
    "start_time": "2025-06-22T20:33:27.976Z"
   },
   {
    "duration": 74,
    "start_time": "2025-06-22T20:33:27.991Z"
   },
   {
    "duration": 111,
    "start_time": "2025-06-22T20:33:28.066Z"
   },
   {
    "duration": 1131,
    "start_time": "2025-06-22T20:33:28.179Z"
   },
   {
    "duration": 379,
    "start_time": "2025-06-22T20:33:29.312Z"
   },
   {
    "duration": 73,
    "start_time": "2025-06-22T20:33:29.693Z"
   },
   {
    "duration": 155,
    "start_time": "2025-06-22T20:33:29.768Z"
   },
   {
    "duration": 14,
    "start_time": "2025-06-22T20:33:29.925Z"
   },
   {
    "duration": 1384,
    "start_time": "2025-06-22T20:33:29.940Z"
   },
   {
    "duration": 434,
    "start_time": "2025-06-22T20:33:31.326Z"
   },
   {
    "duration": 16,
    "start_time": "2025-06-22T20:33:31.762Z"
   },
   {
    "duration": 137,
    "start_time": "2025-06-22T20:33:31.779Z"
   },
   {
    "duration": 1079,
    "start_time": "2025-06-22T20:33:31.920Z"
   },
   {
    "duration": 409,
    "start_time": "2025-06-22T20:33:33.001Z"
   },
   {
    "duration": 68,
    "start_time": "2025-06-22T20:33:33.412Z"
   },
   {
    "duration": 57,
    "start_time": "2025-06-22T20:33:33.481Z"
   },
   {
    "duration": 43,
    "start_time": "2025-06-22T20:33:33.540Z"
   },
   {
    "duration": 15,
    "start_time": "2025-06-22T20:33:33.584Z"
   },
   {
    "duration": 1142,
    "start_time": "2025-06-22T20:33:33.600Z"
   },
   {
    "duration": 454,
    "start_time": "2025-06-22T20:33:34.743Z"
   },
   {
    "duration": 21,
    "start_time": "2025-06-22T20:33:35.200Z"
   },
   {
    "duration": 5360,
    "start_time": "2025-06-22T20:33:35.223Z"
   },
   {
    "duration": 93,
    "start_time": "2025-06-22T20:33:40.585Z"
   },
   {
    "duration": 519,
    "start_time": "2025-06-22T20:33:40.680Z"
   },
   {
    "duration": 13,
    "start_time": "2025-06-22T20:33:41.201Z"
   },
   {
    "duration": 70,
    "start_time": "2025-06-22T20:33:41.216Z"
   },
   {
    "duration": 1147,
    "start_time": "2025-06-22T20:33:41.288Z"
   },
   {
    "duration": 365,
    "start_time": "2025-06-22T20:33:42.438Z"
   },
   {
    "duration": 64,
    "start_time": "2025-06-22T20:33:42.804Z"
   },
   {
    "duration": 42,
    "start_time": "2025-06-22T20:33:42.870Z"
   },
   {
    "duration": 1047,
    "start_time": "2025-06-22T20:33:42.914Z"
   },
   {
    "duration": 350,
    "start_time": "2025-06-22T20:33:43.963Z"
   },
   {
    "duration": 49,
    "start_time": "2025-06-22T20:33:44.314Z"
   },
   {
    "duration": 60,
    "start_time": "2025-06-22T20:33:44.365Z"
   },
   {
    "duration": 50,
    "start_time": "2025-06-22T20:33:44.427Z"
   },
   {
    "duration": 25,
    "start_time": "2025-06-22T20:33:44.479Z"
   },
   {
    "duration": 79,
    "start_time": "2025-06-22T20:33:44.506Z"
   },
   {
    "duration": 12,
    "start_time": "2025-06-22T20:33:44.586Z"
   },
   {
    "duration": 1134,
    "start_time": "2025-06-22T20:33:44.600Z"
   },
   {
    "duration": 380,
    "start_time": "2025-06-22T20:33:45.736Z"
   },
   {
    "duration": 41,
    "start_time": "2025-06-22T20:33:46.118Z"
   },
   {
    "duration": 6270,
    "start_time": "2025-06-22T20:33:46.160Z"
   },
   {
    "duration": 586,
    "start_time": "2025-06-22T20:33:52.431Z"
   },
   {
    "duration": 21,
    "start_time": "2025-06-22T20:33:53.019Z"
   },
   {
    "duration": 352,
    "start_time": "2025-06-22T20:33:53.057Z"
   },
   {
    "duration": 268,
    "start_time": "2025-06-22T20:33:53.411Z"
   },
   {
    "duration": 54,
    "start_time": "2025-06-22T20:33:53.681Z"
   },
   {
    "duration": 5693,
    "start_time": "2025-06-22T20:33:53.737Z"
   },
   {
    "duration": 21349,
    "start_time": "2025-06-22T20:33:59.432Z"
   },
   {
    "duration": 90176,
    "start_time": "2025-06-22T20:34:20.783Z"
   },
   {
    "duration": 1997,
    "start_time": "2025-06-22T20:35:50.962Z"
   },
   {
    "duration": 139318,
    "start_time": "2025-06-22T20:35:52.962Z"
   },
   {
    "duration": 3388,
    "start_time": "2025-06-22T20:38:12.282Z"
   },
   {
    "duration": 1499,
    "start_time": "2025-06-22T20:38:15.672Z"
   },
   {
    "duration": 2026,
    "start_time": "2025-06-22T20:38:17.173Z"
   },
   {
    "duration": 0,
    "start_time": "2025-06-22T20:38:19.201Z"
   },
   {
    "duration": 0,
    "start_time": "2025-06-22T20:38:19.202Z"
   },
   {
    "duration": 0,
    "start_time": "2025-06-22T20:38:19.203Z"
   },
   {
    "duration": 0,
    "start_time": "2025-06-22T20:38:19.204Z"
   },
   {
    "duration": 14,
    "start_time": "2025-06-22T20:46:19.699Z"
   },
   {
    "duration": 2854,
    "start_time": "2025-06-22T20:57:18.212Z"
   },
   {
    "duration": 29,
    "start_time": "2025-06-22T20:58:18.979Z"
   },
   {
    "duration": 138,
    "start_time": "2025-06-22T21:01:04.194Z"
   },
   {
    "duration": 117893,
    "start_time": "2025-06-22T21:01:09.265Z"
   },
   {
    "duration": 481973,
    "start_time": "2025-06-22T21:03:26.221Z"
   },
   {
    "duration": 1120,
    "start_time": "2025-06-22T21:11:37.960Z"
   },
   {
    "duration": 12,
    "start_time": "2025-06-22T21:13:23.237Z"
   },
   {
    "duration": 1987,
    "start_time": "2025-06-22T21:16:11.282Z"
   },
   {
    "duration": 428,
    "start_time": "2025-06-22T21:17:48.066Z"
   }
  ],
  "kernelspec": {
   "display_name": "Python 3 (ipykernel)",
   "language": "python",
   "name": "python3"
  },
  "language_info": {
   "codemirror_mode": {
    "name": "ipython",
    "version": 3
   },
   "file_extension": ".py",
   "mimetype": "text/x-python",
   "name": "python",
   "nbconvert_exporter": "python",
   "pygments_lexer": "ipython3",
   "version": "3.9.5"
  },
  "toc": {
   "base_numbering": 1,
   "nav_menu": {},
   "number_sections": true,
   "sideBar": true,
   "skip_h1_title": true,
   "title_cell": "Table of Contents",
   "title_sidebar": "Contents",
   "toc_cell": false,
   "toc_position": {
    "height": "calc(100% - 180px)",
    "left": "10px",
    "top": "150px",
    "width": "321px"
   },
   "toc_section_display": true,
   "toc_window_display": true
  }
 },
 "nbformat": 4,
 "nbformat_minor": 2
}
